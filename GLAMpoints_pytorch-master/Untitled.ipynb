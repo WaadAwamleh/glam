{
 "cells": [
  {
   "cell_type": "code",
   "execution_count": 1,
   "id": "43687dea-9838-447b-b86f-90d4c82ea904",
   "metadata": {},
   "outputs": [
    {
     "name": "stdout",
     "output_type": "stream",
     "text": [
      "starting epoch 0\n"
     ]
    },
    {
     "name": "stderr",
     "output_type": "stream",
     "text": [
      "  0%|                                                    | 0/20 [00:00<?, ?it/s]"
     ]
    },
    {
     "name": "stdout",
     "output_type": "stream",
     "text": [
      "torch.Size([5, 1, 720, 720])\n",
      "torch.Size([5, 1, 720, 720])\n",
      "(5, 720, 720) b x c x h x w\n"
     ]
    },
    {
     "name": "stderr",
     "output_type": "stream",
     "text": [
      "training: R_total_loss: 0.885/0.885:   5%|▎      | 1/20 [00:18<05:52, 18.55s/it]"
     ]
    },
    {
     "name": "stdout",
     "output_type": "stream",
     "text": [
      "torch.Size([5, 1, 720, 720])\n",
      "torch.Size([5, 1, 720, 720])\n",
      "(5, 720, 720) b x c x h x w\n"
     ]
    },
    {
     "name": "stderr",
     "output_type": "stream",
     "text": [
      "training: R_total_loss: 0.885/0.884:  10%|▋      | 2/20 [00:30<04:19, 14.41s/it]"
     ]
    },
    {
     "name": "stdout",
     "output_type": "stream",
     "text": [
      "torch.Size([5, 1, 720, 720])\n",
      "torch.Size([5, 1, 720, 720])\n",
      "(5, 720, 720) b x c x h x w\n"
     ]
    },
    {
     "name": "stderr",
     "output_type": "stream",
     "text": [
      "training: R_total_loss: 0.875/0.855:  15%|█      | 3/20 [00:41<03:43, 13.14s/it]"
     ]
    },
    {
     "name": "stdout",
     "output_type": "stream",
     "text": [
      "torch.Size([5, 1, 720, 720])\n",
      "torch.Size([5, 1, 720, 720])\n",
      "(5, 720, 720) b x c x h x w\n"
     ]
    },
    {
     "name": "stderr",
     "output_type": "stream",
     "text": [
      "training: R_total_loss: 0.878/0.889:  20%|█▍     | 4/20 [00:53<03:19, 12.46s/it]"
     ]
    },
    {
     "name": "stdout",
     "output_type": "stream",
     "text": [
      "torch.Size([5, 1, 720, 720])\n",
      "torch.Size([5, 1, 720, 720])\n",
      "(5, 720, 720) b x c x h x w\n"
     ]
    },
    {
     "name": "stderr",
     "output_type": "stream",
     "text": [
      "training: R_total_loss: 0.865/0.811:  25%|█▊     | 5/20 [01:04<03:02, 12.15s/it]"
     ]
    },
    {
     "name": "stdout",
     "output_type": "stream",
     "text": [
      "torch.Size([5, 1, 720, 720])\n",
      "torch.Size([5, 1, 720, 720])\n",
      "(5, 720, 720) b x c x h x w\n"
     ]
    },
    {
     "name": "stderr",
     "output_type": "stream",
     "text": [
      "training: R_total_loss: 0.875/0.924:  30%|██     | 6/20 [01:16<02:49, 12.07s/it]"
     ]
    },
    {
     "name": "stdout",
     "output_type": "stream",
     "text": [
      "torch.Size([5, 1, 720, 720])\n",
      "torch.Size([5, 1, 720, 720])\n",
      "(5, 720, 720) b x c x h x w\n"
     ]
    },
    {
     "name": "stderr",
     "output_type": "stream",
     "text": [
      "training: R_total_loss: 0.871/0.851:  35%|██▍    | 7/20 [01:27<02:33, 11.84s/it]"
     ]
    },
    {
     "name": "stdout",
     "output_type": "stream",
     "text": [
      "torch.Size([5, 1, 720, 720])\n",
      "torch.Size([5, 1, 720, 720])\n",
      "(5, 720, 720) b x c x h x w\n"
     ]
    },
    {
     "name": "stderr",
     "output_type": "stream",
     "text": [
      "training: R_total_loss: 0.870/0.862:  40%|██▊    | 8/20 [01:39<02:22, 11.86s/it]"
     ]
    },
    {
     "name": "stdout",
     "output_type": "stream",
     "text": [
      "torch.Size([5, 1, 720, 720])\n",
      "torch.Size([5, 1, 720, 720])\n",
      "(5, 720, 720) b x c x h x w\n"
     ]
    },
    {
     "name": "stderr",
     "output_type": "stream",
     "text": [
      "training: R_total_loss: 0.873/0.900:  45%|███▏   | 9/20 [01:51<02:08, 11.65s/it]"
     ]
    },
    {
     "name": "stdout",
     "output_type": "stream",
     "text": [
      "torch.Size([5, 1, 720, 720])\n",
      "torch.Size([5, 1, 720, 720])\n",
      "(5, 720, 720) b x c x h x w\n"
     ]
    },
    {
     "name": "stderr",
     "output_type": "stream",
     "text": [
      "training: R_total_loss: 0.872/0.864:  50%|███   | 10/20 [02:03<01:58, 11.83s/it]"
     ]
    },
    {
     "name": "stdout",
     "output_type": "stream",
     "text": [
      "torch.Size([5, 1, 720, 720])\n",
      "torch.Size([5, 1, 720, 720])\n",
      "(5, 720, 720) b x c x h x w\n"
     ]
    },
    {
     "name": "stderr",
     "output_type": "stream",
     "text": [
      "training: R_total_loss: 0.865/0.790:  55%|███▎  | 11/20 [02:16<01:48, 12.09s/it]"
     ]
    },
    {
     "name": "stdout",
     "output_type": "stream",
     "text": [
      "torch.Size([5, 1, 720, 720])\n",
      "torch.Size([5, 1, 720, 720])\n",
      "(5, 720, 720) b x c x h x w\n"
     ]
    },
    {
     "name": "stderr",
     "output_type": "stream",
     "text": [
      "training: R_total_loss: 0.863/0.842:  60%|███▌  | 12/20 [02:28<01:36, 12.09s/it]"
     ]
    },
    {
     "name": "stdout",
     "output_type": "stream",
     "text": [
      "torch.Size([5, 1, 720, 720])\n",
      "torch.Size([5, 1, 720, 720])\n",
      "(5, 720, 720) b x c x h x w\n"
     ]
    },
    {
     "name": "stderr",
     "output_type": "stream",
     "text": [
      "training: R_total_loss: 0.866/0.906:  65%|███▉  | 13/20 [02:40<01:25, 12.25s/it]"
     ]
    },
    {
     "name": "stdout",
     "output_type": "stream",
     "text": [
      "torch.Size([5, 1, 720, 720])\n",
      "torch.Size([5, 1, 720, 720])\n",
      "(5, 720, 720) b x c x h x w\n"
     ]
    },
    {
     "name": "stderr",
     "output_type": "stream",
     "text": [
      "training: R_total_loss: 0.865/0.847:  70%|████▏ | 14/20 [02:53<01:13, 12.29s/it]"
     ]
    },
    {
     "name": "stdout",
     "output_type": "stream",
     "text": [
      "torch.Size([5, 1, 720, 720])\n",
      "torch.Size([5, 1, 720, 720])\n",
      "(5, 720, 720) b x c x h x w\n"
     ]
    },
    {
     "name": "stderr",
     "output_type": "stream",
     "text": [
      "training: R_total_loss: 0.862/0.824:  75%|████▌ | 15/20 [03:05<01:02, 12.40s/it]"
     ]
    },
    {
     "name": "stdout",
     "output_type": "stream",
     "text": [
      "torch.Size([5, 1, 720, 720])\n",
      "torch.Size([5, 1, 720, 720])\n",
      "(5, 720, 720) b x c x h x w\n"
     ]
    },
    {
     "name": "stderr",
     "output_type": "stream",
     "text": [
      "training: R_total_loss: 0.855/0.746:  80%|████▊ | 16/20 [03:17<00:48, 12.24s/it]"
     ]
    },
    {
     "name": "stdout",
     "output_type": "stream",
     "text": [
      "torch.Size([5, 1, 720, 720])\n",
      "torch.Size([5, 1, 720, 720])\n",
      "(5, 720, 720) b x c x h x w\n"
     ]
    },
    {
     "name": "stderr",
     "output_type": "stream",
     "text": [
      "training: R_total_loss: 0.851/0.781:  85%|█████ | 17/20 [03:30<00:37, 12.41s/it]"
     ]
    },
    {
     "name": "stdout",
     "output_type": "stream",
     "text": [
      "torch.Size([5, 1, 720, 720])\n",
      "torch.Size([5, 1, 720, 720])\n",
      "(5, 720, 720) b x c x h x w\n"
     ]
    },
    {
     "name": "stderr",
     "output_type": "stream",
     "text": [
      "training: R_total_loss: 0.851/0.849:  90%|█████▍| 18/20 [03:42<00:24, 12.39s/it]"
     ]
    },
    {
     "name": "stdout",
     "output_type": "stream",
     "text": [
      "torch.Size([5, 1, 720, 720])\n",
      "torch.Size([5, 1, 720, 720])\n",
      "(5, 720, 720) b x c x h x w\n"
     ]
    },
    {
     "name": "stderr",
     "output_type": "stream",
     "text": [
      "training: R_total_loss: 0.844/0.717:  95%|█████▋| 19/20 [03:55<00:12, 12.58s/it]"
     ]
    },
    {
     "name": "stdout",
     "output_type": "stream",
     "text": [
      "torch.Size([1, 1, 720, 720])\n",
      "torch.Size([1, 1, 720, 720])\n",
      "(1, 720, 720) b x c x h x w\n"
     ]
    },
    {
     "name": "stderr",
     "output_type": "stream",
     "text": [
      "training: R_total_loss: 0.808/0.143: 100%|██████| 20/20 [04:39<00:00, 13.96s/it]"
     ]
    },
    {
     "name": "stdout",
     "output_type": "stream",
     "text": [
      "\u001b[32m==> \u001b[0mTrain average loss: 0.8084977068006992\n"
     ]
    },
    {
     "name": "stderr",
     "output_type": "stream",
     "text": [
      "\n",
      "  0%|                                                    | 0/10 [00:00<?, ?it/s]"
     ]
    },
    {
     "name": "stdout",
     "output_type": "stream",
     "text": [
      "(4, 720, 720) b x c x h x w\n"
     ]
    },
    {
     "name": "stderr",
     "output_type": "stream",
     "text": [
      "validation: R_total_loss: 0.871/0.871:  10%|▌    | 1/10 [00:13<02:00, 13.43s/it]"
     ]
    },
    {
     "name": "stdout",
     "output_type": "stream",
     "text": [
      "(4, 720, 720) b x c x h x w\n"
     ]
    },
    {
     "name": "stderr",
     "output_type": "stream",
     "text": [
      "validation: R_total_loss: 0.861/0.851:  20%|█    | 2/10 [00:20<01:15,  9.43s/it]"
     ]
    },
    {
     "name": "stdout",
     "output_type": "stream",
     "text": [
      "(4, 720, 720) b x c x h x w\n"
     ]
    },
    {
     "name": "stderr",
     "output_type": "stream",
     "text": [
      "validation: R_total_loss: 0.853/0.837:  30%|█▌   | 3/10 [00:26<00:55,  7.96s/it]"
     ]
    },
    {
     "name": "stdout",
     "output_type": "stream",
     "text": [
      "(4, 720, 720) b x c x h x w\n"
     ]
    },
    {
     "name": "stderr",
     "output_type": "stream",
     "text": [
      "validation: R_total_loss: 0.854/0.856:  40%|██   | 4/10 [00:32<00:43,  7.29s/it]"
     ]
    },
    {
     "name": "stdout",
     "output_type": "stream",
     "text": [
      "(4, 720, 720) b x c x h x w\n"
     ]
    },
    {
     "name": "stderr",
     "output_type": "stream",
     "text": [
      "validation: R_total_loss: 0.854/0.858:  50%|██▌  | 5/10 [00:38<00:33,  6.70s/it]"
     ]
    },
    {
     "name": "stdout",
     "output_type": "stream",
     "text": [
      "(4, 720, 720) b x c x h x w\n"
     ]
    },
    {
     "name": "stderr",
     "output_type": "stream",
     "text": [
      "validation: R_total_loss: 0.861/0.892:  60%|███  | 6/10 [00:43<00:24,  6.16s/it]"
     ]
    },
    {
     "name": "stdout",
     "output_type": "stream",
     "text": [
      "(4, 720, 720) b x c x h x w\n"
     ]
    },
    {
     "name": "stderr",
     "output_type": "stream",
     "text": [
      "validation: R_total_loss: 0.863/0.875:  70%|███▌ | 7/10 [00:49<00:18,  6.27s/it]"
     ]
    },
    {
     "name": "stdout",
     "output_type": "stream",
     "text": [
      "(4, 720, 720) b x c x h x w\n"
     ]
    },
    {
     "name": "stderr",
     "output_type": "stream",
     "text": [
      "validation: R_total_loss: 0.865/0.881:  80%|████ | 8/10 [00:55<00:12,  6.09s/it]"
     ]
    },
    {
     "name": "stdout",
     "output_type": "stream",
     "text": [
      "(4, 720, 720) b x c x h x w\n"
     ]
    },
    {
     "name": "stderr",
     "output_type": "stream",
     "text": [
      "validation: R_total_loss: 0.865/0.868:  90%|████▌| 9/10 [01:01<00:06,  6.21s/it]"
     ]
    },
    {
     "name": "stdout",
     "output_type": "stream",
     "text": [
      "(2, 720, 720) b x c x h x w\n"
     ]
    },
    {
     "name": "stderr",
     "output_type": "stream",
     "text": [
      "validation: R_total_loss: 0.824/0.450: 100%|████| 10/10 [01:45<00:00, 10.53s/it]"
     ]
    },
    {
     "name": "stdout",
     "output_type": "stream",
     "text": [
      "\u001b[34m==> \u001b[0mVal average grid loss : 0.08237294852733612\n",
      "\u001b[34m==> \u001b[0mepoch : 1\n",
      "starting epoch 1\n"
     ]
    },
    {
     "name": "stderr",
     "output_type": "stream",
     "text": [
      "\n",
      "  0%|                                                    | 0/20 [00:00<?, ?it/s]"
     ]
    },
    {
     "name": "stdout",
     "output_type": "stream",
     "text": [
      "torch.Size([5, 1, 720, 720])\n",
      "torch.Size([5, 1, 720, 720])\n",
      "(5, 720, 720) b x c x h x w\n"
     ]
    },
    {
     "name": "stderr",
     "output_type": "stream",
     "text": [
      "training: R_total_loss: 1.811/1.811:   5%|▎      | 1/20 [00:18<05:49, 18.41s/it]"
     ]
    },
    {
     "name": "stdout",
     "output_type": "stream",
     "text": [
      "torch.Size([5, 1, 720, 720])\n",
      "torch.Size([5, 1, 720, 720])\n",
      "(5, 720, 720) b x c x h x w\n"
     ]
    },
    {
     "name": "stderr",
     "output_type": "stream",
     "text": [
      "training: R_total_loss: 1.748/1.685:  10%|▋      | 2/20 [00:26<03:38, 12.14s/it]"
     ]
    },
    {
     "name": "stdout",
     "output_type": "stream",
     "text": [
      "torch.Size([5, 1, 720, 720])\n",
      "torch.Size([5, 1, 720, 720])\n",
      "(5, 720, 720) b x c x h x w\n"
     ]
    },
    {
     "name": "stderr",
     "output_type": "stream",
     "text": [
      "training: R_total_loss: 1.709/1.630:  15%|█      | 3/20 [00:34<02:56, 10.41s/it]"
     ]
    },
    {
     "name": "stdout",
     "output_type": "stream",
     "text": [
      "torch.Size([5, 1, 720, 720])\n",
      "torch.Size([5, 1, 720, 720])\n",
      "(5, 720, 720) b x c x h x w\n"
     ]
    },
    {
     "name": "stderr",
     "output_type": "stream",
     "text": [
      "training: R_total_loss: 1.686/1.617:  20%|█▍     | 4/20 [00:42<02:31,  9.46s/it]"
     ]
    },
    {
     "name": "stdout",
     "output_type": "stream",
     "text": [
      "torch.Size([5, 1, 720, 720])\n",
      "torch.Size([5, 1, 720, 720])\n",
      "(5, 720, 720) b x c x h x w\n"
     ]
    },
    {
     "name": "stderr",
     "output_type": "stream",
     "text": [
      "training: R_total_loss: 1.651/1.514:  25%|█▊     | 5/20 [00:50<02:15,  9.04s/it]"
     ]
    },
    {
     "name": "stdout",
     "output_type": "stream",
     "text": [
      "torch.Size([5, 1, 720, 720])\n",
      "torch.Size([5, 1, 720, 720])\n",
      "(5, 720, 720) b x c x h x w\n"
     ]
    },
    {
     "name": "stderr",
     "output_type": "stream",
     "text": [
      "training: R_total_loss: 1.622/1.473:  30%|██     | 6/20 [00:59<02:03,  8.82s/it]"
     ]
    },
    {
     "name": "stdout",
     "output_type": "stream",
     "text": [
      "torch.Size([5, 1, 720, 720])\n",
      "torch.Size([5, 1, 720, 720])\n",
      "(5, 720, 720) b x c x h x w\n"
     ]
    },
    {
     "name": "stderr",
     "output_type": "stream",
     "text": [
      "training: R_total_loss: 1.591/1.406:  35%|██▍    | 7/20 [01:08<01:54,  8.83s/it]"
     ]
    },
    {
     "name": "stdout",
     "output_type": "stream",
     "text": [
      "torch.Size([5, 1, 720, 720])\n",
      "torch.Size([5, 1, 720, 720])\n",
      "(5, 720, 720) b x c x h x w\n"
     ]
    },
    {
     "name": "stderr",
     "output_type": "stream",
     "text": [
      "training: R_total_loss: 1.567/1.403:  40%|██▊    | 8/20 [01:16<01:43,  8.60s/it]"
     ]
    },
    {
     "name": "stdout",
     "output_type": "stream",
     "text": [
      "torch.Size([5, 1, 720, 720])\n",
      "torch.Size([5, 1, 720, 720])\n",
      "(5, 720, 720) b x c x h x w\n"
     ]
    },
    {
     "name": "stderr",
     "output_type": "stream",
     "text": [
      "training: R_total_loss: 1.546/1.374:  45%|███▏   | 9/20 [01:24<01:34,  8.56s/it]"
     ]
    },
    {
     "name": "stdout",
     "output_type": "stream",
     "text": [
      "torch.Size([5, 1, 720, 720])\n",
      "torch.Size([5, 1, 720, 720])\n",
      "(5, 720, 720) b x c x h x w\n"
     ]
    },
    {
     "name": "stderr",
     "output_type": "stream",
     "text": [
      "training: R_total_loss: 1.526/1.349:  50%|███   | 10/20 [01:33<01:25,  8.53s/it]"
     ]
    },
    {
     "name": "stdout",
     "output_type": "stream",
     "text": [
      "torch.Size([5, 1, 720, 720])\n",
      "torch.Size([5, 1, 720, 720])\n",
      "(5, 720, 720) b x c x h x w\n"
     ]
    },
    {
     "name": "stderr",
     "output_type": "stream",
     "text": [
      "training: R_total_loss: 1.508/1.330:  55%|███▎  | 11/20 [01:41<01:16,  8.49s/it]"
     ]
    },
    {
     "name": "stdout",
     "output_type": "stream",
     "text": [
      "torch.Size([5, 1, 720, 720])\n",
      "torch.Size([5, 1, 720, 720])\n",
      "(5, 720, 720) b x c x h x w\n"
     ]
    },
    {
     "name": "stderr",
     "output_type": "stream",
     "text": [
      "training: R_total_loss: 1.493/1.326:  60%|███▌  | 12/20 [01:49<01:06,  8.34s/it]"
     ]
    },
    {
     "name": "stdout",
     "output_type": "stream",
     "text": [
      "torch.Size([5, 1, 720, 720])\n",
      "torch.Size([5, 1, 720, 720])\n",
      "(5, 720, 720) b x c x h x w\n"
     ]
    },
    {
     "name": "stderr",
     "output_type": "stream",
     "text": [
      "training: R_total_loss: 1.478/1.297:  65%|███▉  | 13/20 [01:57<00:58,  8.33s/it]"
     ]
    },
    {
     "name": "stdout",
     "output_type": "stream",
     "text": [
      "torch.Size([5, 1, 720, 720])\n",
      "torch.Size([5, 1, 720, 720])\n",
      "(5, 720, 720) b x c x h x w\n"
     ]
    },
    {
     "name": "stderr",
     "output_type": "stream",
     "text": [
      "training: R_total_loss: 1.463/1.267:  70%|████▏ | 14/20 [02:06<00:50,  8.34s/it]"
     ]
    },
    {
     "name": "stdout",
     "output_type": "stream",
     "text": [
      "torch.Size([5, 1, 720, 720])\n",
      "torch.Size([5, 1, 720, 720])\n",
      "(5, 720, 720) b x c x h x w\n"
     ]
    },
    {
     "name": "stderr",
     "output_type": "stream",
     "text": [
      "training: R_total_loss: 1.450/1.266:  75%|████▌ | 15/20 [02:14<00:41,  8.32s/it]"
     ]
    },
    {
     "name": "stdout",
     "output_type": "stream",
     "text": [
      "torch.Size([5, 1, 720, 720])\n",
      "torch.Size([5, 1, 720, 720])\n",
      "(5, 720, 720) b x c x h x w\n"
     ]
    },
    {
     "name": "stderr",
     "output_type": "stream",
     "text": [
      "training: R_total_loss: 1.439/1.281:  80%|████▊ | 16/20 [02:23<00:33,  8.43s/it]"
     ]
    },
    {
     "name": "stdout",
     "output_type": "stream",
     "text": [
      "torch.Size([5, 1, 720, 720])\n",
      "torch.Size([5, 1, 720, 720])\n",
      "(5, 720, 720) b x c x h x w\n"
     ]
    },
    {
     "name": "stderr",
     "output_type": "stream",
     "text": [
      "training: R_total_loss: 1.430/1.275:  85%|█████ | 17/20 [02:31<00:24,  8.33s/it]"
     ]
    },
    {
     "name": "stdout",
     "output_type": "stream",
     "text": [
      "torch.Size([5, 1, 720, 720])\n",
      "torch.Size([5, 1, 720, 720])\n",
      "(5, 720, 720) b x c x h x w\n"
     ]
    },
    {
     "name": "stderr",
     "output_type": "stream",
     "text": [
      "training: R_total_loss: 1.420/1.254:  90%|█████▍| 18/20 [02:39<00:16,  8.25s/it]"
     ]
    },
    {
     "name": "stdout",
     "output_type": "stream",
     "text": [
      "torch.Size([5, 1, 720, 720])\n",
      "torch.Size([5, 1, 720, 720])\n",
      "(5, 720, 720) b x c x h x w\n"
     ]
    },
    {
     "name": "stderr",
     "output_type": "stream",
     "text": [
      "training: R_total_loss: 1.412/1.278:  95%|█████▋| 19/20 [02:47<00:08,  8.20s/it]"
     ]
    },
    {
     "name": "stdout",
     "output_type": "stream",
     "text": [
      "torch.Size([1, 1, 720, 720])\n",
      "torch.Size([1, 1, 720, 720])\n",
      "(1, 720, 720) b x c x h x w\n"
     ]
    },
    {
     "name": "stderr",
     "output_type": "stream",
     "text": [
      "training: R_total_loss: 1.354/0.255: 100%|██████| 20/20 [03:29<00:00, 10.49s/it]"
     ]
    },
    {
     "name": "stdout",
     "output_type": "stream",
     "text": [
      "\u001b[32m==> \u001b[0mTrain average loss: 1.3544761896133424\n"
     ]
    },
    {
     "name": "stderr",
     "output_type": "stream",
     "text": [
      "\n",
      "  0%|                                                    | 0/10 [00:00<?, ?it/s]"
     ]
    },
    {
     "name": "stdout",
     "output_type": "stream",
     "text": [
      "(4, 720, 720) b x c x h x w\n"
     ]
    },
    {
     "name": "stderr",
     "output_type": "stream",
     "text": [
      "validation: R_total_loss: 1.009/1.009:  10%|▌    | 1/10 [00:09<01:23,  9.31s/it]"
     ]
    },
    {
     "name": "stdout",
     "output_type": "stream",
     "text": [
      "(4, 720, 720) b x c x h x w\n"
     ]
    },
    {
     "name": "stderr",
     "output_type": "stream",
     "text": [
      "validation: R_total_loss: 1.006/1.004:  20%|█    | 2/10 [00:11<00:41,  5.23s/it]"
     ]
    },
    {
     "name": "stdout",
     "output_type": "stream",
     "text": [
      "(4, 720, 720) b x c x h x w\n"
     ]
    },
    {
     "name": "stderr",
     "output_type": "stream",
     "text": [
      "validation: R_total_loss: 1.007/1.008:  30%|█▌   | 3/10 [00:13<00:25,  3.65s/it]"
     ]
    },
    {
     "name": "stdout",
     "output_type": "stream",
     "text": [
      "(4, 720, 720) b x c x h x w\n"
     ]
    },
    {
     "name": "stderr",
     "output_type": "stream",
     "text": [
      "validation: R_total_loss: 1.006/1.003:  40%|██   | 4/10 [00:15<00:17,  2.89s/it]"
     ]
    },
    {
     "name": "stdout",
     "output_type": "stream",
     "text": [
      "(4, 720, 720) b x c x h x w\n"
     ]
    },
    {
     "name": "stderr",
     "output_type": "stream",
     "text": [
      "validation: R_total_loss: 1.005/1.003:  50%|██▌  | 5/10 [00:17<00:12,  2.50s/it]"
     ]
    },
    {
     "name": "stdout",
     "output_type": "stream",
     "text": [
      "(4, 720, 720) b x c x h x w\n"
     ]
    },
    {
     "name": "stderr",
     "output_type": "stream",
     "text": [
      "validation: R_total_loss: 1.004/1.000:  60%|███  | 6/10 [00:19<00:09,  2.37s/it]"
     ]
    },
    {
     "name": "stdout",
     "output_type": "stream",
     "text": [
      "(4, 720, 720) b x c x h x w\n"
     ]
    },
    {
     "name": "stderr",
     "output_type": "stream",
     "text": [
      "validation: R_total_loss: 1.004/1.001:  70%|███▌ | 7/10 [00:20<00:06,  2.19s/it]"
     ]
    },
    {
     "name": "stdout",
     "output_type": "stream",
     "text": [
      "(4, 720, 720) b x c x h x w\n"
     ]
    },
    {
     "name": "stderr",
     "output_type": "stream",
     "text": [
      "validation: R_total_loss: 1.003/0.995:  80%|████ | 8/10 [00:22<00:04,  2.07s/it]"
     ]
    },
    {
     "name": "stdout",
     "output_type": "stream",
     "text": [
      "(4, 720, 720) b x c x h x w\n"
     ]
    },
    {
     "name": "stderr",
     "output_type": "stream",
     "text": [
      "validation: R_total_loss: 1.003/1.001:  90%|████▌| 9/10 [00:24<00:02,  2.00s/it]"
     ]
    },
    {
     "name": "stdout",
     "output_type": "stream",
     "text": [
      "(2, 720, 720) b x c x h x w\n"
     ]
    },
    {
     "name": "stderr",
     "output_type": "stream",
     "text": [
      "validation: R_total_loss: 0.951/0.490: 100%|████| 10/10 [01:05<00:00,  6.56s/it]"
     ]
    },
    {
     "name": "stdout",
     "output_type": "stream",
     "text": [
      "\u001b[34m==> \u001b[0mVal average grid loss : 0.09513877987861633\n",
      "\u001b[34m==> \u001b[0mepoch : 2\n",
      "starting epoch 2\n"
     ]
    },
    {
     "name": "stderr",
     "output_type": "stream",
     "text": [
      "\n",
      "  0%|                                                    | 0/20 [00:00<?, ?it/s]"
     ]
    },
    {
     "name": "stdout",
     "output_type": "stream",
     "text": [
      "torch.Size([5, 1, 720, 720])\n",
      "torch.Size([5, 1, 720, 720])\n",
      "(5, 720, 720) b x c x h x w\n"
     ]
    },
    {
     "name": "stderr",
     "output_type": "stream",
     "text": [
      "training: R_total_loss: 1.252/1.252:   5%|▎      | 1/20 [00:16<05:08, 16.26s/it]"
     ]
    },
    {
     "name": "stdout",
     "output_type": "stream",
     "text": [
      "torch.Size([5, 1, 720, 720])\n",
      "torch.Size([5, 1, 720, 720])\n",
      "(5, 720, 720) b x c x h x w\n"
     ]
    },
    {
     "name": "stderr",
     "output_type": "stream",
     "text": [
      "training: R_total_loss: 1.264/1.276:  10%|▋      | 2/20 [00:24<03:25, 11.44s/it]"
     ]
    },
    {
     "name": "stdout",
     "output_type": "stream",
     "text": [
      "torch.Size([5, 1, 720, 720])\n",
      "torch.Size([5, 1, 720, 720])\n",
      "(5, 720, 720) b x c x h x w\n"
     ]
    },
    {
     "name": "stderr",
     "output_type": "stream",
     "text": [
      "training: R_total_loss: 1.262/1.256:  15%|█      | 3/20 [00:32<02:47,  9.83s/it]"
     ]
    },
    {
     "name": "stdout",
     "output_type": "stream",
     "text": [
      "torch.Size([5, 1, 720, 720])\n",
      "torch.Size([5, 1, 720, 720])\n",
      "(5, 720, 720) b x c x h x w\n"
     ]
    },
    {
     "name": "stderr",
     "output_type": "stream",
     "text": [
      "training: R_total_loss: 1.260/1.254:  20%|█▍     | 4/20 [00:40<02:25,  9.07s/it]"
     ]
    },
    {
     "name": "stdout",
     "output_type": "stream",
     "text": [
      "torch.Size([5, 1, 720, 720])\n",
      "torch.Size([5, 1, 720, 720])\n",
      "(5, 720, 720) b x c x h x w\n"
     ]
    },
    {
     "name": "stderr",
     "output_type": "stream",
     "text": [
      "training: R_total_loss: 1.262/1.271:  25%|█▊     | 5/20 [00:47<02:08,  8.54s/it]"
     ]
    },
    {
     "name": "stdout",
     "output_type": "stream",
     "text": [
      "torch.Size([5, 1, 720, 720])\n",
      "torch.Size([5, 1, 720, 720])\n",
      "(5, 720, 720) b x c x h x w\n"
     ]
    },
    {
     "name": "stderr",
     "output_type": "stream",
     "text": [
      "training: R_total_loss: 1.261/1.259:  30%|██     | 6/20 [00:57<02:04,  8.89s/it]"
     ]
    },
    {
     "name": "stdout",
     "output_type": "stream",
     "text": [
      "torch.Size([5, 1, 720, 720])\n",
      "torch.Size([5, 1, 720, 720])\n",
      "(5, 720, 720) b x c x h x w\n"
     ]
    },
    {
     "name": "stderr",
     "output_type": "stream",
     "text": [
      "training: R_total_loss: 1.262/1.263:  35%|██▍    | 7/20 [01:05<01:51,  8.58s/it]"
     ]
    },
    {
     "name": "stdout",
     "output_type": "stream",
     "text": [
      "torch.Size([5, 1, 720, 720])\n",
      "torch.Size([5, 1, 720, 720])\n",
      "(5, 720, 720) b x c x h x w\n"
     ]
    },
    {
     "name": "stderr",
     "output_type": "stream",
     "text": [
      "training: R_total_loss: 1.261/1.254:  40%|██▊    | 8/20 [01:13<01:41,  8.48s/it]"
     ]
    },
    {
     "name": "stdout",
     "output_type": "stream",
     "text": [
      "torch.Size([5, 1, 720, 720])\n",
      "torch.Size([5, 1, 720, 720])\n",
      "(5, 720, 720) b x c x h x w\n"
     ]
    },
    {
     "name": "stderr",
     "output_type": "stream",
     "text": [
      "training: R_total_loss: 1.262/1.271:  45%|███▏   | 9/20 [01:21<01:31,  8.35s/it]"
     ]
    },
    {
     "name": "stdout",
     "output_type": "stream",
     "text": [
      "torch.Size([5, 1, 720, 720])\n",
      "torch.Size([5, 1, 720, 720])\n",
      "(5, 720, 720) b x c x h x w\n"
     ]
    },
    {
     "name": "stderr",
     "output_type": "stream",
     "text": [
      "training: R_total_loss: 1.261/1.259:  50%|███   | 10/20 [01:29<01:23,  8.33s/it]"
     ]
    },
    {
     "name": "stdout",
     "output_type": "stream",
     "text": [
      "torch.Size([5, 1, 720, 720])\n",
      "torch.Size([5, 1, 720, 720])\n",
      "(5, 720, 720) b x c x h x w\n"
     ]
    },
    {
     "name": "stderr",
     "output_type": "stream",
     "text": [
      "training: R_total_loss: 1.261/1.252:  55%|███▎  | 11/20 [01:37<01:14,  8.23s/it]"
     ]
    },
    {
     "name": "stdout",
     "output_type": "stream",
     "text": [
      "torch.Size([5, 1, 720, 720])\n",
      "torch.Size([5, 1, 720, 720])\n",
      "(5, 720, 720) b x c x h x w\n"
     ]
    },
    {
     "name": "stderr",
     "output_type": "stream",
     "text": [
      "training: R_total_loss: 1.260/1.254:  60%|███▌  | 12/20 [01:46<01:06,  8.34s/it]"
     ]
    },
    {
     "name": "stdout",
     "output_type": "stream",
     "text": [
      "torch.Size([5, 1, 720, 720])\n",
      "torch.Size([5, 1, 720, 720])\n",
      "(5, 720, 720) b x c x h x w\n"
     ]
    },
    {
     "name": "stderr",
     "output_type": "stream",
     "text": [
      "training: R_total_loss: 1.260/1.260:  65%|███▉  | 13/20 [01:55<00:59,  8.43s/it]"
     ]
    },
    {
     "name": "stdout",
     "output_type": "stream",
     "text": [
      "torch.Size([5, 1, 720, 720])\n",
      "torch.Size([5, 1, 720, 720])\n",
      "(5, 720, 720) b x c x h x w\n"
     ]
    },
    {
     "name": "stderr",
     "output_type": "stream",
     "text": [
      "training: R_total_loss: 1.259/1.251:  70%|████▏ | 14/20 [02:03<00:50,  8.39s/it]"
     ]
    },
    {
     "name": "stdout",
     "output_type": "stream",
     "text": [
      "torch.Size([5, 1, 720, 720])\n",
      "torch.Size([5, 1, 720, 720])\n",
      "(5, 720, 720) b x c x h x w\n"
     ]
    },
    {
     "name": "stderr",
     "output_type": "stream",
     "text": [
      "training: R_total_loss: 1.259/1.255:  75%|████▌ | 15/20 [02:11<00:41,  8.38s/it]"
     ]
    },
    {
     "name": "stdout",
     "output_type": "stream",
     "text": [
      "torch.Size([5, 1, 720, 720])\n",
      "torch.Size([5, 1, 720, 720])\n",
      "(5, 720, 720) b x c x h x w\n"
     ]
    },
    {
     "name": "stderr",
     "output_type": "stream",
     "text": [
      "training: R_total_loss: 1.259/1.254:  80%|████▊ | 16/20 [02:20<00:33,  8.35s/it]"
     ]
    },
    {
     "name": "stdout",
     "output_type": "stream",
     "text": [
      "torch.Size([5, 1, 720, 720])\n",
      "torch.Size([5, 1, 720, 720])\n",
      "(5, 720, 720) b x c x h x w\n"
     ]
    },
    {
     "name": "stderr",
     "output_type": "stream",
     "text": [
      "training: R_total_loss: 1.258/1.241:  85%|█████ | 17/20 [02:28<00:24,  8.33s/it]"
     ]
    },
    {
     "name": "stdout",
     "output_type": "stream",
     "text": [
      "torch.Size([5, 1, 720, 720])\n",
      "torch.Size([5, 1, 720, 720])\n",
      "(5, 720, 720) b x c x h x w\n"
     ]
    },
    {
     "name": "stderr",
     "output_type": "stream",
     "text": [
      "training: R_total_loss: 1.257/1.241:  90%|█████▍| 18/20 [02:36<00:16,  8.33s/it]"
     ]
    },
    {
     "name": "stdout",
     "output_type": "stream",
     "text": [
      "torch.Size([5, 1, 720, 720])\n",
      "torch.Size([5, 1, 720, 720])\n",
      "(5, 720, 720) b x c x h x w\n"
     ]
    },
    {
     "name": "stderr",
     "output_type": "stream",
     "text": [
      "training: R_total_loss: 1.257/1.256:  95%|█████▋| 19/20 [02:45<00:08,  8.52s/it]"
     ]
    },
    {
     "name": "stdout",
     "output_type": "stream",
     "text": [
      "torch.Size([1, 1, 720, 720])\n",
      "torch.Size([1, 1, 720, 720])\n",
      "(1, 720, 720) b x c x h x w\n"
     ]
    },
    {
     "name": "stderr",
     "output_type": "stream",
     "text": [
      "training: R_total_loss: 1.207/0.251: 100%|██████| 20/20 [03:28<00:00, 10.40s/it]"
     ]
    },
    {
     "name": "stdout",
     "output_type": "stream",
     "text": [
      "\u001b[32m==> \u001b[0mTrain average loss: 1.2065051153302193\n"
     ]
    },
    {
     "name": "stderr",
     "output_type": "stream",
     "text": [
      "\n",
      "  0%|                                                    | 0/10 [00:00<?, ?it/s]"
     ]
    },
    {
     "name": "stdout",
     "output_type": "stream",
     "text": [
      "(4, 720, 720) b x c x h x w\n"
     ]
    },
    {
     "name": "stderr",
     "output_type": "stream",
     "text": [
      "validation: R_total_loss: 1.006/1.006:  10%|▌    | 1/10 [00:10<01:33, 10.41s/it]"
     ]
    },
    {
     "name": "stdout",
     "output_type": "stream",
     "text": [
      "(4, 720, 720) b x c x h x w\n"
     ]
    },
    {
     "name": "stderr",
     "output_type": "stream",
     "text": [
      "validation: R_total_loss: 1.005/1.005:  20%|█    | 2/10 [00:13<00:46,  5.87s/it]"
     ]
    },
    {
     "name": "stdout",
     "output_type": "stream",
     "text": [
      "(4, 720, 720) b x c x h x w\n"
     ]
    },
    {
     "name": "stderr",
     "output_type": "stream",
     "text": [
      "validation: R_total_loss: 1.005/1.005:  30%|█▌   | 3/10 [00:15<00:28,  4.13s/it]"
     ]
    },
    {
     "name": "stdout",
     "output_type": "stream",
     "text": [
      "(4, 720, 720) b x c x h x w\n"
     ]
    },
    {
     "name": "stderr",
     "output_type": "stream",
     "text": [
      "validation: R_total_loss: 1.006/1.007:  40%|██   | 4/10 [00:16<00:19,  3.22s/it]"
     ]
    },
    {
     "name": "stdout",
     "output_type": "stream",
     "text": [
      "(4, 720, 720) b x c x h x w\n"
     ]
    },
    {
     "name": "stderr",
     "output_type": "stream",
     "text": [
      "validation: R_total_loss: 1.006/1.010:  50%|██▌  | 5/10 [00:18<00:13,  2.72s/it]"
     ]
    },
    {
     "name": "stdout",
     "output_type": "stream",
     "text": [
      "(4, 720, 720) b x c x h x w\n"
     ]
    },
    {
     "name": "stderr",
     "output_type": "stream",
     "text": [
      "validation: R_total_loss: 1.003/0.985:  60%|███  | 6/10 [00:20<00:09,  2.42s/it]"
     ]
    },
    {
     "name": "stdout",
     "output_type": "stream",
     "text": [
      "(4, 720, 720) b x c x h x w\n"
     ]
    },
    {
     "name": "stderr",
     "output_type": "stream",
     "text": [
      "validation: R_total_loss: 1.003/1.002:  70%|███▌ | 7/10 [00:22<00:06,  2.25s/it]"
     ]
    },
    {
     "name": "stdout",
     "output_type": "stream",
     "text": [
      "(4, 720, 720) b x c x h x w\n"
     ]
    },
    {
     "name": "stderr",
     "output_type": "stream",
     "text": [
      "validation: R_total_loss: 1.003/1.002:  80%|████ | 8/10 [00:24<00:04,  2.11s/it]"
     ]
    },
    {
     "name": "stdout",
     "output_type": "stream",
     "text": [
      "(4, 720, 720) b x c x h x w\n"
     ]
    },
    {
     "name": "stderr",
     "output_type": "stream",
     "text": [
      "validation: R_total_loss: 1.003/1.008:  90%|████▌| 9/10 [00:26<00:02,  2.02s/it]"
     ]
    },
    {
     "name": "stdout",
     "output_type": "stream",
     "text": [
      "(2, 720, 720) b x c x h x w\n"
     ]
    },
    {
     "name": "stderr",
     "output_type": "stream",
     "text": [
      "validation: R_total_loss: 0.952/0.489: 100%|████| 10/10 [01:07<00:00,  6.72s/it]"
     ]
    },
    {
     "name": "stdout",
     "output_type": "stream",
     "text": [
      "\u001b[34m==> \u001b[0mVal average grid loss : 0.09517969191074371\n",
      "\u001b[34m==> \u001b[0mepoch : 3\n",
      "starting epoch 3\n"
     ]
    },
    {
     "name": "stderr",
     "output_type": "stream",
     "text": [
      "\n",
      "  0%|                                                    | 0/20 [00:00<?, ?it/s]"
     ]
    },
    {
     "name": "stdout",
     "output_type": "stream",
     "text": [
      "torch.Size([5, 1, 720, 720])\n",
      "torch.Size([5, 1, 720, 720])\n",
      "(5, 720, 720) b x c x h x w\n"
     ]
    },
    {
     "name": "stderr",
     "output_type": "stream",
     "text": [
      "training: R_total_loss: 1.252/1.252:   5%|▎      | 1/20 [00:16<05:06, 16.15s/it]"
     ]
    },
    {
     "name": "stdout",
     "output_type": "stream",
     "text": [
      "torch.Size([5, 1, 720, 720])\n",
      "torch.Size([5, 1, 720, 720])\n",
      "(5, 720, 720) b x c x h x w\n"
     ]
    },
    {
     "name": "stderr",
     "output_type": "stream",
     "text": [
      "training: R_total_loss: 1.250/1.249:  10%|▋      | 2/20 [00:23<03:21, 11.17s/it]"
     ]
    },
    {
     "name": "stdout",
     "output_type": "stream",
     "text": [
      "torch.Size([5, 1, 720, 720])\n",
      "torch.Size([5, 1, 720, 720])\n",
      "(5, 720, 720) b x c x h x w\n"
     ]
    },
    {
     "name": "stderr",
     "output_type": "stream",
     "text": [
      "training: R_total_loss: 1.246/1.237:  15%|█      | 3/20 [00:31<02:44,  9.70s/it]"
     ]
    },
    {
     "name": "stdout",
     "output_type": "stream",
     "text": [
      "torch.Size([5, 1, 720, 720])\n",
      "torch.Size([5, 1, 720, 720])\n",
      "(5, 720, 720) b x c x h x w\n"
     ]
    },
    {
     "name": "stderr",
     "output_type": "stream",
     "text": [
      "training: R_total_loss: 1.249/1.261:  20%|█▍     | 4/20 [00:39<02:25,  9.09s/it]"
     ]
    },
    {
     "name": "stdout",
     "output_type": "stream",
     "text": [
      "torch.Size([5, 1, 720, 720])\n",
      "torch.Size([5, 1, 720, 720])\n",
      "(5, 720, 720) b x c x h x w\n"
     ]
    },
    {
     "name": "stderr",
     "output_type": "stream",
     "text": [
      "training: R_total_loss: 1.253/1.268:  25%|█▊     | 5/20 [00:48<02:11,  8.74s/it]"
     ]
    },
    {
     "name": "stdout",
     "output_type": "stream",
     "text": [
      "torch.Size([5, 1, 720, 720])\n",
      "torch.Size([5, 1, 720, 720])\n",
      "(5, 720, 720) b x c x h x w\n"
     ]
    },
    {
     "name": "stderr",
     "output_type": "stream",
     "text": [
      "training: R_total_loss: 1.253/1.253:  30%|██     | 6/20 [00:55<01:58,  8.44s/it]"
     ]
    },
    {
     "name": "stdout",
     "output_type": "stream",
     "text": [
      "torch.Size([5, 1, 720, 720])\n",
      "torch.Size([5, 1, 720, 720])\n",
      "(5, 720, 720) b x c x h x w\n"
     ]
    },
    {
     "name": "stderr",
     "output_type": "stream",
     "text": [
      "training: R_total_loss: 1.251/1.238:  35%|██▍    | 7/20 [01:03<01:46,  8.21s/it]"
     ]
    },
    {
     "name": "stdout",
     "output_type": "stream",
     "text": [
      "torch.Size([5, 1, 720, 720])\n",
      "torch.Size([5, 1, 720, 720])\n",
      "(5, 720, 720) b x c x h x w\n"
     ]
    },
    {
     "name": "stderr",
     "output_type": "stream",
     "text": [
      "training: R_total_loss: 1.252/1.256:  40%|██▊    | 8/20 [01:12<01:39,  8.27s/it]"
     ]
    },
    {
     "name": "stdout",
     "output_type": "stream",
     "text": [
      "torch.Size([5, 1, 720, 720])\n",
      "torch.Size([5, 1, 720, 720])\n",
      "(5, 720, 720) b x c x h x w\n"
     ]
    },
    {
     "name": "stderr",
     "output_type": "stream",
     "text": [
      "training: R_total_loss: 1.251/1.241:  45%|███▏   | 9/20 [01:20<01:30,  8.27s/it]"
     ]
    },
    {
     "name": "stdout",
     "output_type": "stream",
     "text": [
      "torch.Size([5, 1, 720, 720])\n",
      "torch.Size([5, 1, 720, 720])\n",
      "(5, 720, 720) b x c x h x w\n"
     ]
    },
    {
     "name": "stderr",
     "output_type": "stream",
     "text": [
      "training: R_total_loss: 1.250/1.247:  50%|███   | 10/20 [01:28<01:22,  8.26s/it]"
     ]
    },
    {
     "name": "stdout",
     "output_type": "stream",
     "text": [
      "torch.Size([5, 1, 720, 720])\n",
      "torch.Size([5, 1, 720, 720])\n",
      "(5, 720, 720) b x c x h x w\n"
     ]
    },
    {
     "name": "stderr",
     "output_type": "stream",
     "text": [
      "training: R_total_loss: 1.247/1.219:  55%|███▎  | 11/20 [01:36<01:14,  8.25s/it]"
     ]
    },
    {
     "name": "stdout",
     "output_type": "stream",
     "text": [
      "torch.Size([5, 1, 720, 720])\n",
      "torch.Size([5, 1, 720, 720])\n",
      "(5, 720, 720) b x c x h x w\n"
     ]
    },
    {
     "name": "stderr",
     "output_type": "stream",
     "text": [
      "training: R_total_loss: 1.247/1.245:  60%|███▌  | 12/20 [01:45<01:07,  8.46s/it]"
     ]
    },
    {
     "name": "stdout",
     "output_type": "stream",
     "text": [
      "torch.Size([5, 1, 720, 720])\n",
      "torch.Size([5, 1, 720, 720])\n",
      "(5, 720, 720) b x c x h x w\n"
     ]
    },
    {
     "name": "stderr",
     "output_type": "stream",
     "text": [
      "training: R_total_loss: 1.246/1.226:  65%|███▉  | 13/20 [01:53<00:58,  8.33s/it]"
     ]
    },
    {
     "name": "stdout",
     "output_type": "stream",
     "text": [
      "torch.Size([5, 1, 720, 720])\n",
      "torch.Size([5, 1, 720, 720])\n",
      "(5, 720, 720) b x c x h x w\n"
     ]
    },
    {
     "name": "stderr",
     "output_type": "stream",
     "text": [
      "training: R_total_loss: 1.245/1.240:  70%|████▏ | 14/20 [02:03<00:53,  8.86s/it]"
     ]
    },
    {
     "name": "stdout",
     "output_type": "stream",
     "text": [
      "torch.Size([5, 1, 720, 720])\n",
      "torch.Size([5, 1, 720, 720])\n",
      "(5, 720, 720) b x c x h x w\n"
     ]
    },
    {
     "name": "stderr",
     "output_type": "stream",
     "text": [
      "training: R_total_loss: 1.245/1.240:  75%|████▌ | 15/20 [02:12<00:43,  8.77s/it]"
     ]
    },
    {
     "name": "stdout",
     "output_type": "stream",
     "text": [
      "torch.Size([5, 1, 720, 720])\n",
      "torch.Size([5, 1, 720, 720])\n",
      "(5, 720, 720) b x c x h x w\n"
     ]
    },
    {
     "name": "stderr",
     "output_type": "stream",
     "text": [
      "training: R_total_loss: 1.242/1.200:  80%|████▊ | 16/20 [02:20<00:34,  8.65s/it]"
     ]
    },
    {
     "name": "stdout",
     "output_type": "stream",
     "text": [
      "torch.Size([5, 1, 720, 720])\n",
      "torch.Size([5, 1, 720, 720])\n",
      "(5, 720, 720) b x c x h x w\n"
     ]
    },
    {
     "name": "stderr",
     "output_type": "stream",
     "text": [
      "training: R_total_loss: 1.240/1.217:  85%|█████ | 17/20 [02:29<00:25,  8.64s/it]"
     ]
    },
    {
     "name": "stdout",
     "output_type": "stream",
     "text": [
      "torch.Size([5, 1, 720, 720])\n",
      "torch.Size([5, 1, 720, 720])\n",
      "(5, 720, 720) b x c x h x w\n"
     ]
    },
    {
     "name": "stderr",
     "output_type": "stream",
     "text": [
      "training: R_total_loss: 1.238/1.193:  90%|█████▍| 18/20 [02:37<00:16,  8.48s/it]"
     ]
    },
    {
     "name": "stdout",
     "output_type": "stream",
     "text": [
      "torch.Size([5, 1, 720, 720])\n",
      "torch.Size([5, 1, 720, 720])\n",
      "(5, 720, 720) b x c x h x w\n"
     ]
    },
    {
     "name": "stderr",
     "output_type": "stream",
     "text": [
      "training: R_total_loss: 1.235/1.189:  95%|█████▋| 19/20 [02:45<00:08,  8.48s/it]"
     ]
    },
    {
     "name": "stdout",
     "output_type": "stream",
     "text": [
      "torch.Size([1, 1, 720, 720])\n",
      "torch.Size([1, 1, 720, 720])\n",
      "(1, 720, 720) b x c x h x w\n"
     ]
    },
    {
     "name": "stderr",
     "output_type": "stream",
     "text": [
      "training: R_total_loss: 1.185/0.220: 100%|██████| 20/20 [03:28<00:00, 10.43s/it]"
     ]
    },
    {
     "name": "stdout",
     "output_type": "stream",
     "text": [
      "\u001b[32m==> \u001b[0mTrain average loss: 1.1845501355826855\n"
     ]
    },
    {
     "name": "stderr",
     "output_type": "stream",
     "text": [
      "\n",
      "  0%|                                                    | 0/10 [00:00<?, ?it/s]"
     ]
    },
    {
     "name": "stdout",
     "output_type": "stream",
     "text": [
      "(4, 720, 720) b x c x h x w\n"
     ]
    },
    {
     "name": "stderr",
     "output_type": "stream",
     "text": [
      "validation: R_total_loss: 0.996/0.996:  10%|▌    | 1/10 [00:10<01:30, 10.10s/it]"
     ]
    },
    {
     "name": "stdout",
     "output_type": "stream",
     "text": [
      "(4, 720, 720) b x c x h x w\n"
     ]
    },
    {
     "name": "stderr",
     "output_type": "stream",
     "text": [
      "validation: R_total_loss: 0.996/0.997:  20%|█    | 2/10 [00:12<00:44,  5.54s/it]"
     ]
    },
    {
     "name": "stdout",
     "output_type": "stream",
     "text": [
      "(4, 720, 720) b x c x h x w\n"
     ]
    },
    {
     "name": "stderr",
     "output_type": "stream",
     "text": [
      "validation: R_total_loss: 0.999/1.004:  30%|█▌   | 3/10 [00:14<00:26,  3.82s/it]"
     ]
    },
    {
     "name": "stdout",
     "output_type": "stream",
     "text": [
      "(4, 720, 720) b x c x h x w\n"
     ]
    },
    {
     "name": "stderr",
     "output_type": "stream",
     "text": [
      "validation: R_total_loss: 1.000/1.004:  40%|██   | 4/10 [00:15<00:18,  3.01s/it]"
     ]
    },
    {
     "name": "stdout",
     "output_type": "stream",
     "text": [
      "(4, 720, 720) b x c x h x w\n"
     ]
    },
    {
     "name": "stderr",
     "output_type": "stream",
     "text": [
      "validation: R_total_loss: 1.003/1.013:  50%|██▌  | 5/10 [00:17<00:12,  2.58s/it]"
     ]
    },
    {
     "name": "stdout",
     "output_type": "stream",
     "text": [
      "(4, 720, 720) b x c x h x w\n"
     ]
    },
    {
     "name": "stderr",
     "output_type": "stream",
     "text": [
      "validation: R_total_loss: 1.002/1.001:  60%|███  | 6/10 [00:19<00:09,  2.32s/it]"
     ]
    },
    {
     "name": "stdout",
     "output_type": "stream",
     "text": [
      "(4, 720, 720) b x c x h x w\n"
     ]
    },
    {
     "name": "stderr",
     "output_type": "stream",
     "text": [
      "validation: R_total_loss: 1.001/0.994:  70%|███▌ | 7/10 [00:21<00:06,  2.16s/it]"
     ]
    },
    {
     "name": "stdout",
     "output_type": "stream",
     "text": [
      "(4, 720, 720) b x c x h x w\n"
     ]
    },
    {
     "name": "stderr",
     "output_type": "stream",
     "text": [
      "validation: R_total_loss: 1.002/1.008:  80%|████ | 8/10 [00:23<00:04,  2.05s/it]"
     ]
    },
    {
     "name": "stdout",
     "output_type": "stream",
     "text": [
      "(4, 720, 720) b x c x h x w\n"
     ]
    },
    {
     "name": "stderr",
     "output_type": "stream",
     "text": [
      "validation: R_total_loss: 1.002/1.000:  90%|████▌| 9/10 [00:25<00:01,  1.97s/it]"
     ]
    },
    {
     "name": "stdout",
     "output_type": "stream",
     "text": [
      "(2, 720, 720) b x c x h x w\n"
     ]
    },
    {
     "name": "stderr",
     "output_type": "stream",
     "text": [
      "validation: R_total_loss: 0.952/0.500: 100%|████| 10/10 [01:06<00:00,  6.61s/it]"
     ]
    },
    {
     "name": "stdout",
     "output_type": "stream",
     "text": [
      "\u001b[34m==> \u001b[0mVal average grid loss : 0.09515850067138672\n",
      "\u001b[34m==> \u001b[0mepoch : 4\n",
      "starting epoch 4\n"
     ]
    },
    {
     "name": "stderr",
     "output_type": "stream",
     "text": [
      "\n",
      "  0%|                                                    | 0/20 [00:00<?, ?it/s]"
     ]
    },
    {
     "name": "stdout",
     "output_type": "stream",
     "text": [
      "torch.Size([5, 1, 720, 720])\n",
      "torch.Size([5, 1, 720, 720])\n",
      "(5, 720, 720) b x c x h x w\n"
     ]
    },
    {
     "name": "stderr",
     "output_type": "stream",
     "text": [
      "training: R_total_loss: 1.165/1.165:   5%|▎      | 1/20 [00:16<05:11, 16.39s/it]"
     ]
    },
    {
     "name": "stdout",
     "output_type": "stream",
     "text": [
      "torch.Size([5, 1, 720, 720])\n",
      "torch.Size([5, 1, 720, 720])\n",
      "(5, 720, 720) b x c x h x w\n"
     ]
    },
    {
     "name": "stderr",
     "output_type": "stream",
     "text": [
      "training: R_total_loss: 1.193/1.220:  10%|▋      | 2/20 [00:24<03:24, 11.34s/it]"
     ]
    },
    {
     "name": "stdout",
     "output_type": "stream",
     "text": [
      "torch.Size([5, 1, 720, 720])\n",
      "torch.Size([5, 1, 720, 720])\n",
      "(5, 720, 720) b x c x h x w\n"
     ]
    },
    {
     "name": "stderr",
     "output_type": "stream",
     "text": [
      "training: R_total_loss: 1.167/1.115:  15%|█      | 3/20 [00:32<02:45,  9.75s/it]"
     ]
    },
    {
     "name": "stdout",
     "output_type": "stream",
     "text": [
      "torch.Size([5, 1, 720, 720])\n",
      "torch.Size([5, 1, 720, 720])\n",
      "(5, 720, 720) b x c x h x w\n"
     ]
    },
    {
     "name": "stderr",
     "output_type": "stream",
     "text": [
      "training: R_total_loss: 1.158/1.131:  20%|█▍     | 4/20 [00:39<02:24,  9.03s/it]"
     ]
    },
    {
     "name": "stdout",
     "output_type": "stream",
     "text": [
      "torch.Size([5, 1, 720, 720])\n",
      "torch.Size([5, 1, 720, 720])\n",
      "(5, 720, 720) b x c x h x w\n"
     ]
    },
    {
     "name": "stderr",
     "output_type": "stream",
     "text": [
      "training: R_total_loss: 1.153/1.135:  25%|█▊     | 5/20 [00:48<02:10,  8.73s/it]"
     ]
    },
    {
     "name": "stdout",
     "output_type": "stream",
     "text": [
      "torch.Size([5, 1, 720, 720])\n",
      "torch.Size([5, 1, 720, 720])\n",
      "(5, 720, 720) b x c x h x w\n"
     ]
    },
    {
     "name": "stderr",
     "output_type": "stream",
     "text": [
      "training: R_total_loss: 1.154/1.158:  30%|██     | 6/20 [00:56<01:59,  8.56s/it]"
     ]
    },
    {
     "name": "stdout",
     "output_type": "stream",
     "text": [
      "torch.Size([5, 1, 720, 720])\n",
      "torch.Size([5, 1, 720, 720])\n",
      "(5, 720, 720) b x c x h x w\n"
     ]
    },
    {
     "name": "stderr",
     "output_type": "stream",
     "text": [
      "training: R_total_loss: 1.142/1.072:  35%|██▍    | 7/20 [01:04<01:49,  8.39s/it]"
     ]
    },
    {
     "name": "stdout",
     "output_type": "stream",
     "text": [
      "torch.Size([5, 1, 720, 720])\n",
      "torch.Size([5, 1, 720, 720])\n",
      "(5, 720, 720) b x c x h x w\n"
     ]
    },
    {
     "name": "stderr",
     "output_type": "stream",
     "text": [
      "training: R_total_loss: 1.129/1.039:  40%|██▊    | 8/20 [01:12<01:41,  8.44s/it]"
     ]
    },
    {
     "name": "stdout",
     "output_type": "stream",
     "text": [
      "torch.Size([5, 1, 720, 720])\n",
      "torch.Size([5, 1, 720, 720])\n",
      "(5, 720, 720) b x c x h x w\n"
     ]
    },
    {
     "name": "stderr",
     "output_type": "stream",
     "text": [
      "training: R_total_loss: 1.125/1.092:  45%|███▏   | 9/20 [01:20<01:31,  8.30s/it]"
     ]
    },
    {
     "name": "stdout",
     "output_type": "stream",
     "text": [
      "torch.Size([5, 1, 720, 720])\n",
      "torch.Size([5, 1, 720, 720])\n",
      "(5, 720, 720) b x c x h x w\n"
     ]
    },
    {
     "name": "stderr",
     "output_type": "stream",
     "text": [
      "training: R_total_loss: 1.115/1.026:  50%|███   | 10/20 [01:28<01:22,  8.22s/it]"
     ]
    },
    {
     "name": "stdout",
     "output_type": "stream",
     "text": [
      "torch.Size([5, 1, 720, 720])\n",
      "torch.Size([5, 1, 720, 720])\n",
      "(5, 720, 720) b x c x h x w\n"
     ]
    },
    {
     "name": "stderr",
     "output_type": "stream",
     "text": [
      "training: R_total_loss: 1.115/1.106:  55%|███▎  | 11/20 [01:37<01:13,  8.19s/it]"
     ]
    },
    {
     "name": "stdout",
     "output_type": "stream",
     "text": [
      "torch.Size([5, 1, 720, 720])\n",
      "torch.Size([5, 1, 720, 720])\n",
      "(5, 720, 720) b x c x h x w\n"
     ]
    },
    {
     "name": "stderr",
     "output_type": "stream",
     "text": [
      "training: R_total_loss: 1.112/1.089:  60%|███▌  | 12/20 [01:45<01:06,  8.30s/it]"
     ]
    },
    {
     "name": "stdout",
     "output_type": "stream",
     "text": [
      "torch.Size([5, 1, 720, 720])\n",
      "torch.Size([5, 1, 720, 720])\n",
      "(5, 720, 720) b x c x h x w\n"
     ]
    },
    {
     "name": "stderr",
     "output_type": "stream",
     "text": [
      "training: R_total_loss: 1.109/1.071:  65%|███▉  | 13/20 [01:56<01:03,  9.01s/it]"
     ]
    },
    {
     "name": "stdout",
     "output_type": "stream",
     "text": [
      "torch.Size([5, 1, 720, 720])\n",
      "torch.Size([5, 1, 720, 720])\n",
      "(5, 720, 720) b x c x h x w\n"
     ]
    },
    {
     "name": "stderr",
     "output_type": "stream",
     "text": [
      "training: R_total_loss: 1.105/1.049:  70%|████▏ | 14/20 [02:05<00:53,  8.98s/it]"
     ]
    },
    {
     "name": "stdout",
     "output_type": "stream",
     "text": [
      "torch.Size([5, 1, 720, 720])\n",
      "torch.Size([5, 1, 720, 720])\n",
      "(5, 720, 720) b x c x h x w\n"
     ]
    },
    {
     "name": "stderr",
     "output_type": "stream",
     "text": [
      "training: R_total_loss: 1.101/1.052:  75%|████▌ | 15/20 [02:13<00:43,  8.77s/it]"
     ]
    },
    {
     "name": "stdout",
     "output_type": "stream",
     "text": [
      "torch.Size([5, 1, 720, 720])\n",
      "torch.Size([5, 1, 720, 720])\n",
      "(5, 720, 720) b x c x h x w\n"
     ]
    },
    {
     "name": "stderr",
     "output_type": "stream",
     "text": [
      "training: R_total_loss: 1.096/1.020:  80%|████▊ | 16/20 [02:21<00:34,  8.67s/it]"
     ]
    },
    {
     "name": "stdout",
     "output_type": "stream",
     "text": [
      "torch.Size([5, 1, 720, 720])\n",
      "torch.Size([5, 1, 720, 720])\n",
      "(5, 720, 720) b x c x h x w\n"
     ]
    },
    {
     "name": "stderr",
     "output_type": "stream",
     "text": [
      "training: R_total_loss: 1.095/1.079:  85%|█████ | 17/20 [02:30<00:25,  8.60s/it]"
     ]
    },
    {
     "name": "stdout",
     "output_type": "stream",
     "text": [
      "torch.Size([5, 1, 720, 720])\n",
      "torch.Size([5, 1, 720, 720])\n",
      "(5, 720, 720) b x c x h x w\n"
     ]
    },
    {
     "name": "stderr",
     "output_type": "stream",
     "text": [
      "training: R_total_loss: 1.092/1.034:  90%|█████▍| 18/20 [02:39<00:17,  8.63s/it]"
     ]
    },
    {
     "name": "stdout",
     "output_type": "stream",
     "text": [
      "torch.Size([5, 1, 720, 720])\n",
      "torch.Size([5, 1, 720, 720])\n",
      "(5, 720, 720) b x c x h x w\n"
     ]
    },
    {
     "name": "stderr",
     "output_type": "stream",
     "text": [
      "training: R_total_loss: 1.084/0.948:  95%|█████▋| 19/20 [02:47<00:08,  8.61s/it]"
     ]
    },
    {
     "name": "stdout",
     "output_type": "stream",
     "text": [
      "torch.Size([1, 1, 720, 720])\n",
      "torch.Size([1, 1, 720, 720])\n",
      "(1, 720, 720) b x c x h x w\n"
     ]
    },
    {
     "name": "stderr",
     "output_type": "stream",
     "text": [
      "training: R_total_loss: 1.040/0.189: 100%|██████| 20/20 [03:30<00:00, 10.51s/it]"
     ]
    },
    {
     "name": "stdout",
     "output_type": "stream",
     "text": [
      "\u001b[32m==> \u001b[0mTrain average loss: 1.039547646790743\n"
     ]
    },
    {
     "name": "stderr",
     "output_type": "stream",
     "text": [
      "\n",
      "  0%|                                                    | 0/10 [00:00<?, ?it/s]"
     ]
    },
    {
     "name": "stdout",
     "output_type": "stream",
     "text": [
      "(4, 720, 720) b x c x h x w\n"
     ]
    },
    {
     "name": "stderr",
     "output_type": "stream",
     "text": [
      "validation: R_total_loss: 0.959/0.959:  10%|▌    | 1/10 [00:11<01:41, 11.32s/it]"
     ]
    },
    {
     "name": "stdout",
     "output_type": "stream",
     "text": [
      "(4, 720, 720) b x c x h x w\n"
     ]
    },
    {
     "name": "stderr",
     "output_type": "stream",
     "text": [
      "validation: R_total_loss: 0.948/0.937:  20%|█    | 2/10 [00:13<00:49,  6.13s/it]"
     ]
    },
    {
     "name": "stdout",
     "output_type": "stream",
     "text": [
      "(4, 720, 720) b x c x h x w\n"
     ]
    },
    {
     "name": "stderr",
     "output_type": "stream",
     "text": [
      "validation: R_total_loss: 0.949/0.950:  30%|█▌   | 3/10 [00:15<00:29,  4.22s/it]"
     ]
    },
    {
     "name": "stdout",
     "output_type": "stream",
     "text": [
      "(4, 720, 720) b x c x h x w\n"
     ]
    },
    {
     "name": "stderr",
     "output_type": "stream",
     "text": [
      "validation: R_total_loss: 0.947/0.943:  40%|██   | 4/10 [00:17<00:19,  3.26s/it]"
     ]
    },
    {
     "name": "stdout",
     "output_type": "stream",
     "text": [
      "(4, 720, 720) b x c x h x w\n"
     ]
    },
    {
     "name": "stderr",
     "output_type": "stream",
     "text": [
      "validation: R_total_loss: 0.955/0.987:  50%|██▌  | 5/10 [00:19<00:13,  2.74s/it]"
     ]
    },
    {
     "name": "stdout",
     "output_type": "stream",
     "text": [
      "(4, 720, 720) b x c x h x w\n"
     ]
    },
    {
     "name": "stderr",
     "output_type": "stream",
     "text": [
      "validation: R_total_loss: 0.958/0.969:  60%|███  | 6/10 [00:21<00:09,  2.42s/it]"
     ]
    },
    {
     "name": "stdout",
     "output_type": "stream",
     "text": [
      "(4, 720, 720) b x c x h x w\n"
     ]
    },
    {
     "name": "stderr",
     "output_type": "stream",
     "text": [
      "validation: R_total_loss: 0.960/0.971:  70%|███▌ | 7/10 [00:22<00:06,  2.21s/it]"
     ]
    },
    {
     "name": "stdout",
     "output_type": "stream",
     "text": [
      "(4, 720, 720) b x c x h x w\n"
     ]
    },
    {
     "name": "stderr",
     "output_type": "stream",
     "text": [
      "validation: R_total_loss: 0.962/0.978:  80%|████ | 8/10 [00:24<00:04,  2.09s/it]"
     ]
    },
    {
     "name": "stdout",
     "output_type": "stream",
     "text": [
      "(4, 720, 720) b x c x h x w\n"
     ]
    },
    {
     "name": "stderr",
     "output_type": "stream",
     "text": [
      "validation: R_total_loss: 0.961/0.957:  90%|████▌| 9/10 [00:26<00:02,  2.08s/it]"
     ]
    },
    {
     "name": "stdout",
     "output_type": "stream",
     "text": [
      "(2, 720, 720) b x c x h x w\n"
     ]
    },
    {
     "name": "stderr",
     "output_type": "stream",
     "text": [
      "validation: R_total_loss: 0.913/0.481: 100%|████| 10/10 [01:07<00:00,  6.79s/it]"
     ]
    },
    {
     "name": "stdout",
     "output_type": "stream",
     "text": [
      "\u001b[34m==> \u001b[0mVal average grid loss : 0.09132321327924728\n",
      "\u001b[34m==> \u001b[0mepoch : 5\n",
      "starting epoch 5\n"
     ]
    },
    {
     "name": "stderr",
     "output_type": "stream",
     "text": [
      "\n",
      "  0%|                                                    | 0/20 [00:00<?, ?it/s]"
     ]
    },
    {
     "name": "stdout",
     "output_type": "stream",
     "text": [
      "torch.Size([5, 1, 720, 720])\n",
      "torch.Size([5, 1, 720, 720])\n",
      "(5, 720, 720) b x c x h x w\n"
     ]
    },
    {
     "name": "stderr",
     "output_type": "stream",
     "text": [
      "training: R_total_loss: 1.011/1.011:   5%|▎      | 1/20 [00:17<05:23, 17.05s/it]"
     ]
    },
    {
     "name": "stdout",
     "output_type": "stream",
     "text": [
      "torch.Size([5, 1, 720, 720])\n",
      "torch.Size([5, 1, 720, 720])\n",
      "(5, 720, 720) b x c x h x w\n"
     ]
    },
    {
     "name": "stderr",
     "output_type": "stream",
     "text": [
      "training: R_total_loss: 1.011/1.011:  10%|▋      | 2/20 [00:25<03:31, 11.73s/it]"
     ]
    },
    {
     "name": "stdout",
     "output_type": "stream",
     "text": [
      "torch.Size([5, 1, 720, 720])\n",
      "torch.Size([5, 1, 720, 720])\n",
      "(5, 720, 720) b x c x h x w\n"
     ]
    },
    {
     "name": "stderr",
     "output_type": "stream",
     "text": [
      "training: R_total_loss: 1.002/0.984:  15%|█      | 3/20 [00:33<02:54, 10.24s/it]"
     ]
    },
    {
     "name": "stdout",
     "output_type": "stream",
     "text": [
      "torch.Size([5, 1, 720, 720])\n",
      "torch.Size([5, 1, 720, 720])\n",
      "(5, 720, 720) b x c x h x w\n"
     ]
    },
    {
     "name": "stderr",
     "output_type": "stream",
     "text": [
      "training: R_total_loss: 0.972/0.881:  20%|█▍     | 4/20 [00:41<02:29,  9.34s/it]"
     ]
    },
    {
     "name": "stdout",
     "output_type": "stream",
     "text": [
      "torch.Size([5, 1, 720, 720])\n",
      "torch.Size([5, 1, 720, 720])\n",
      "(5, 720, 720) b x c x h x w\n"
     ]
    },
    {
     "name": "stderr",
     "output_type": "stream",
     "text": [
      "training: R_total_loss: 0.990/1.063:  25%|█▊     | 5/20 [00:49<02:15,  9.03s/it]"
     ]
    },
    {
     "name": "stdout",
     "output_type": "stream",
     "text": [
      "torch.Size([5, 1, 720, 720])\n",
      "torch.Size([5, 1, 720, 720])\n",
      "(5, 720, 720) b x c x h x w\n"
     ]
    },
    {
     "name": "stderr",
     "output_type": "stream",
     "text": [
      "training: R_total_loss: 0.998/1.037:  30%|██     | 6/20 [00:57<02:00,  8.62s/it]"
     ]
    },
    {
     "name": "stdout",
     "output_type": "stream",
     "text": [
      "torch.Size([5, 1, 720, 720])\n",
      "torch.Size([5, 1, 720, 720])\n",
      "(5, 720, 720) b x c x h x w\n"
     ]
    },
    {
     "name": "stderr",
     "output_type": "stream",
     "text": [
      "training: R_total_loss: 0.983/0.898:  35%|██▍    | 7/20 [01:06<01:51,  8.55s/it]"
     ]
    },
    {
     "name": "stdout",
     "output_type": "stream",
     "text": [
      "torch.Size([5, 1, 720, 720])\n",
      "torch.Size([5, 1, 720, 720])\n",
      "(5, 720, 720) b x c x h x w\n"
     ]
    },
    {
     "name": "stderr",
     "output_type": "stream",
     "text": [
      "training: R_total_loss: 0.963/0.824:  40%|██▊    | 8/20 [01:14<01:41,  8.50s/it]"
     ]
    },
    {
     "name": "stdout",
     "output_type": "stream",
     "text": [
      "torch.Size([5, 1, 720, 720])\n",
      "torch.Size([5, 1, 720, 720])\n",
      "(5, 720, 720) b x c x h x w\n"
     ]
    },
    {
     "name": "stderr",
     "output_type": "stream",
     "text": [
      "training: R_total_loss: 0.957/0.907:  45%|███▏   | 9/20 [01:22<01:32,  8.39s/it]"
     ]
    },
    {
     "name": "stdout",
     "output_type": "stream",
     "text": [
      "torch.Size([5, 1, 720, 720])\n",
      "torch.Size([5, 1, 720, 720])\n",
      "(5, 720, 720) b x c x h x w\n"
     ]
    },
    {
     "name": "stderr",
     "output_type": "stream",
     "text": [
      "training: R_total_loss: 0.953/0.910:  50%|███   | 10/20 [01:31<01:24,  8.44s/it]"
     ]
    },
    {
     "name": "stdout",
     "output_type": "stream",
     "text": [
      "torch.Size([5, 1, 720, 720])\n",
      "torch.Size([5, 1, 720, 720])\n",
      "(5, 720, 720) b x c x h x w\n"
     ]
    },
    {
     "name": "stderr",
     "output_type": "stream",
     "text": [
      "training: R_total_loss: 0.950/0.927:  55%|███▎  | 11/20 [01:39<01:15,  8.40s/it]"
     ]
    },
    {
     "name": "stdout",
     "output_type": "stream",
     "text": [
      "torch.Size([5, 1, 720, 720])\n",
      "torch.Size([5, 1, 720, 720])\n",
      "(5, 720, 720) b x c x h x w\n"
     ]
    },
    {
     "name": "stderr",
     "output_type": "stream",
     "text": [
      "training: R_total_loss: 0.940/0.831:  60%|███▌  | 12/20 [01:48<01:07,  8.42s/it]"
     ]
    },
    {
     "name": "stdout",
     "output_type": "stream",
     "text": [
      "torch.Size([5, 1, 720, 720])\n",
      "torch.Size([5, 1, 720, 720])\n",
      "(5, 720, 720) b x c x h x w\n"
     ]
    },
    {
     "name": "stderr",
     "output_type": "stream",
     "text": [
      "training: R_total_loss: 0.938/0.914:  65%|███▉  | 13/20 [01:56<00:59,  8.48s/it]"
     ]
    },
    {
     "name": "stdout",
     "output_type": "stream",
     "text": [
      "torch.Size([5, 1, 720, 720])\n",
      "torch.Size([5, 1, 720, 720])\n",
      "(5, 720, 720) b x c x h x w\n"
     ]
    },
    {
     "name": "stderr",
     "output_type": "stream",
     "text": [
      "training: R_total_loss: 0.930/0.828:  70%|████▏ | 14/20 [02:05<00:51,  8.65s/it]"
     ]
    },
    {
     "name": "stdout",
     "output_type": "stream",
     "text": [
      "torch.Size([5, 1, 720, 720])\n",
      "torch.Size([5, 1, 720, 720])\n",
      "(5, 720, 720) b x c x h x w\n"
     ]
    },
    {
     "name": "stderr",
     "output_type": "stream",
     "text": [
      "training: R_total_loss: 0.925/0.852:  75%|████▌ | 15/20 [02:14<00:43,  8.68s/it]"
     ]
    },
    {
     "name": "stdout",
     "output_type": "stream",
     "text": [
      "torch.Size([5, 1, 720, 720])\n",
      "torch.Size([5, 1, 720, 720])\n",
      "(5, 720, 720) b x c x h x w\n"
     ]
    },
    {
     "name": "stderr",
     "output_type": "stream",
     "text": [
      "training: R_total_loss: 0.918/0.812:  80%|████▊ | 16/20 [02:23<00:34,  8.70s/it]"
     ]
    },
    {
     "name": "stdout",
     "output_type": "stream",
     "text": [
      "torch.Size([5, 1, 720, 720])\n",
      "torch.Size([5, 1, 720, 720])\n",
      "(5, 720, 720) b x c x h x w\n"
     ]
    },
    {
     "name": "stderr",
     "output_type": "stream",
     "text": [
      "training: R_total_loss: 0.913/0.832:  85%|█████ | 17/20 [02:34<00:28,  9.59s/it]"
     ]
    },
    {
     "name": "stdout",
     "output_type": "stream",
     "text": [
      "torch.Size([5, 1, 720, 720])\n",
      "torch.Size([5, 1, 720, 720])\n",
      "(5, 720, 720) b x c x h x w\n"
     ]
    },
    {
     "name": "stderr",
     "output_type": "stream",
     "text": [
      "training: R_total_loss: 0.903/0.739:  90%|█████▍| 18/20 [02:43<00:18,  9.26s/it]"
     ]
    },
    {
     "name": "stdout",
     "output_type": "stream",
     "text": [
      "torch.Size([5, 1, 720, 720])\n",
      "torch.Size([5, 1, 720, 720])\n",
      "(5, 720, 720) b x c x h x w\n"
     ]
    },
    {
     "name": "stderr",
     "output_type": "stream",
     "text": [
      "training: R_total_loss: 0.899/0.820:  95%|█████▋| 19/20 [02:51<00:08,  9.00s/it]"
     ]
    },
    {
     "name": "stdout",
     "output_type": "stream",
     "text": [
      "torch.Size([1, 1, 720, 720])\n",
      "torch.Size([1, 1, 720, 720])\n",
      "(1, 720, 720) b x c x h x w\n"
     ]
    },
    {
     "name": "stderr",
     "output_type": "stream",
     "text": [
      "training: R_total_loss: 0.863/0.183: 100%|██████| 20/20 [03:34<00:00, 10.71s/it]"
     ]
    },
    {
     "name": "stdout",
     "output_type": "stream",
     "text": [
      "\u001b[32m==> \u001b[0mTrain average loss: 0.8632153056561946\n"
     ]
    },
    {
     "name": "stderr",
     "output_type": "stream",
     "text": [
      "\n",
      "  0%|                                                    | 0/10 [00:00<?, ?it/s]"
     ]
    },
    {
     "name": "stdout",
     "output_type": "stream",
     "text": [
      "(4, 720, 720) b x c x h x w\n"
     ]
    },
    {
     "name": "stderr",
     "output_type": "stream",
     "text": [
      "validation: R_total_loss: 0.968/0.968:  10%|▌    | 1/10 [00:10<01:30, 10.03s/it]"
     ]
    },
    {
     "name": "stdout",
     "output_type": "stream",
     "text": [
      "(4, 720, 720) b x c x h x w\n"
     ]
    },
    {
     "name": "stderr",
     "output_type": "stream",
     "text": [
      "validation: R_total_loss: 0.956/0.943:  20%|█    | 2/10 [00:12<00:44,  5.54s/it]"
     ]
    },
    {
     "name": "stdout",
     "output_type": "stream",
     "text": [
      "(4, 720, 720) b x c x h x w\n"
     ]
    },
    {
     "name": "stderr",
     "output_type": "stream",
     "text": [
      "validation: R_total_loss: 0.953/0.947:  30%|█▌   | 3/10 [00:14<00:26,  3.85s/it]"
     ]
    },
    {
     "name": "stdout",
     "output_type": "stream",
     "text": [
      "(4, 720, 720) b x c x h x w\n"
     ]
    },
    {
     "name": "stderr",
     "output_type": "stream",
     "text": [
      "validation: R_total_loss: 0.954/0.957:  40%|██   | 4/10 [00:16<00:18,  3.12s/it]"
     ]
    },
    {
     "name": "stdout",
     "output_type": "stream",
     "text": [
      "(4, 720, 720) b x c x h x w\n"
     ]
    },
    {
     "name": "stderr",
     "output_type": "stream",
     "text": [
      "validation: R_total_loss: 0.956/0.962:  50%|██▌  | 5/10 [00:18<00:14,  2.94s/it]"
     ]
    },
    {
     "name": "stdout",
     "output_type": "stream",
     "text": [
      "(4, 720, 720) b x c x h x w\n"
     ]
    },
    {
     "name": "stderr",
     "output_type": "stream",
     "text": [
      "validation: R_total_loss: 0.950/0.923:  60%|███  | 6/10 [00:20<00:10,  2.56s/it]"
     ]
    },
    {
     "name": "stdout",
     "output_type": "stream",
     "text": [
      "(4, 720, 720) b x c x h x w\n"
     ]
    },
    {
     "name": "stderr",
     "output_type": "stream",
     "text": [
      "validation: R_total_loss: 0.951/0.955:  70%|███▌ | 7/10 [00:22<00:07,  2.34s/it]"
     ]
    },
    {
     "name": "stdout",
     "output_type": "stream",
     "text": [
      "(4, 720, 720) b x c x h x w\n"
     ]
    },
    {
     "name": "stderr",
     "output_type": "stream",
     "text": [
      "validation: R_total_loss: 0.952/0.961:  80%|████ | 8/10 [00:24<00:04,  2.25s/it]"
     ]
    },
    {
     "name": "stdout",
     "output_type": "stream",
     "text": [
      "(4, 720, 720) b x c x h x w\n"
     ]
    },
    {
     "name": "stderr",
     "output_type": "stream",
     "text": [
      "validation: R_total_loss: 0.949/0.928:  90%|████▌| 9/10 [00:27<00:02,  2.40s/it]"
     ]
    },
    {
     "name": "stdout",
     "output_type": "stream",
     "text": [
      "(2, 720, 720) b x c x h x w\n"
     ]
    },
    {
     "name": "stderr",
     "output_type": "stream",
     "text": [
      "validation: R_total_loss: 0.900/0.457: 100%|████| 10/10 [01:08<00:00,  6.86s/it]"
     ]
    },
    {
     "name": "stdout",
     "output_type": "stream",
     "text": [
      "\u001b[34m==> \u001b[0mVal average grid loss : 0.09002798497676849\n",
      "\u001b[34m==> \u001b[0mepoch : 6\n",
      "starting epoch 6\n"
     ]
    },
    {
     "name": "stderr",
     "output_type": "stream",
     "text": [
      "\n",
      "  0%|                                                    | 0/20 [00:00<?, ?it/s]"
     ]
    },
    {
     "name": "stdout",
     "output_type": "stream",
     "text": [
      "torch.Size([5, 1, 720, 720])\n",
      "torch.Size([5, 1, 720, 720])\n",
      "(5, 720, 720) b x c x h x w\n"
     ]
    },
    {
     "name": "stderr",
     "output_type": "stream",
     "text": [
      "training: R_total_loss: 0.832/0.832:   5%|▎      | 1/20 [00:18<05:42, 18.03s/it]"
     ]
    },
    {
     "name": "stdout",
     "output_type": "stream",
     "text": [
      "torch.Size([5, 1, 720, 720])\n",
      "torch.Size([5, 1, 720, 720])\n",
      "(5, 720, 720) b x c x h x w\n"
     ]
    },
    {
     "name": "stderr",
     "output_type": "stream",
     "text": [
      "training: R_total_loss: 0.822/0.812:  10%|▋      | 2/20 [00:25<03:37, 12.09s/it]"
     ]
    },
    {
     "name": "stdout",
     "output_type": "stream",
     "text": [
      "torch.Size([5, 1, 720, 720])\n",
      "torch.Size([5, 1, 720, 720])\n",
      "(5, 720, 720) b x c x h x w\n"
     ]
    },
    {
     "name": "stderr",
     "output_type": "stream",
     "text": [
      "training: R_total_loss: 0.821/0.819:  15%|█      | 3/20 [00:33<02:51, 10.10s/it]"
     ]
    },
    {
     "name": "stdout",
     "output_type": "stream",
     "text": [
      "torch.Size([5, 1, 720, 720])\n",
      "torch.Size([5, 1, 720, 720])\n",
      "(5, 720, 720) b x c x h x w\n"
     ]
    },
    {
     "name": "stderr",
     "output_type": "stream",
     "text": [
      "training: R_total_loss: 0.827/0.847:  20%|█▍     | 4/20 [00:41<02:27,  9.23s/it]"
     ]
    },
    {
     "name": "stdout",
     "output_type": "stream",
     "text": [
      "torch.Size([5, 1, 720, 720])\n",
      "torch.Size([5, 1, 720, 720])\n",
      "(5, 720, 720) b x c x h x w\n"
     ]
    },
    {
     "name": "stderr",
     "output_type": "stream",
     "text": [
      "training: R_total_loss: 0.829/0.836:  25%|█▊     | 5/20 [00:50<02:14,  8.94s/it]"
     ]
    },
    {
     "name": "stdout",
     "output_type": "stream",
     "text": [
      "torch.Size([5, 1, 720, 720])\n",
      "torch.Size([5, 1, 720, 720])\n",
      "(5, 720, 720) b x c x h x w\n"
     ]
    },
    {
     "name": "stderr",
     "output_type": "stream",
     "text": [
      "training: R_total_loss: 0.828/0.825:  30%|██     | 6/20 [00:58<02:02,  8.75s/it]"
     ]
    },
    {
     "name": "stdout",
     "output_type": "stream",
     "text": [
      "torch.Size([5, 1, 720, 720])\n",
      "torch.Size([5, 1, 720, 720])\n",
      "(5, 720, 720) b x c x h x w\n"
     ]
    },
    {
     "name": "stderr",
     "output_type": "stream",
     "text": [
      "training: R_total_loss: 0.834/0.869:  35%|██▍    | 7/20 [01:06<01:51,  8.58s/it]"
     ]
    },
    {
     "name": "stdout",
     "output_type": "stream",
     "text": [
      "torch.Size([5, 1, 720, 720])\n",
      "torch.Size([5, 1, 720, 720])\n",
      "(5, 720, 720) b x c x h x w\n"
     ]
    },
    {
     "name": "stderr",
     "output_type": "stream",
     "text": [
      "training: R_total_loss: 0.834/0.835:  40%|██▊    | 8/20 [01:14<01:41,  8.42s/it]"
     ]
    },
    {
     "name": "stdout",
     "output_type": "stream",
     "text": [
      "torch.Size([5, 1, 720, 720])\n",
      "torch.Size([5, 1, 720, 720])\n",
      "(5, 720, 720) b x c x h x w\n"
     ]
    },
    {
     "name": "stderr",
     "output_type": "stream",
     "text": [
      "training: R_total_loss: 0.833/0.826:  45%|███▏   | 9/20 [01:23<01:32,  8.38s/it]"
     ]
    },
    {
     "name": "stdout",
     "output_type": "stream",
     "text": [
      "torch.Size([5, 1, 720, 720])\n",
      "torch.Size([5, 1, 720, 720])\n",
      "(5, 720, 720) b x c x h x w\n"
     ]
    },
    {
     "name": "stderr",
     "output_type": "stream",
     "text": [
      "training: R_total_loss: 0.840/0.902:  50%|███   | 10/20 [01:31<01:23,  8.34s/it]"
     ]
    },
    {
     "name": "stdout",
     "output_type": "stream",
     "text": [
      "torch.Size([5, 1, 720, 720])\n",
      "torch.Size([5, 1, 720, 720])\n",
      "(5, 720, 720) b x c x h x w\n"
     ]
    },
    {
     "name": "stderr",
     "output_type": "stream",
     "text": [
      "training: R_total_loss: 0.835/0.784:  55%|███▎  | 11/20 [01:39<01:15,  8.36s/it]"
     ]
    },
    {
     "name": "stdout",
     "output_type": "stream",
     "text": [
      "torch.Size([5, 1, 720, 720])\n",
      "torch.Size([5, 1, 720, 720])\n",
      "(5, 720, 720) b x c x h x w\n"
     ]
    },
    {
     "name": "stderr",
     "output_type": "stream",
     "text": [
      "training: R_total_loss: 0.825/0.718:  60%|███▌  | 12/20 [01:48<01:06,  8.37s/it]"
     ]
    },
    {
     "name": "stdout",
     "output_type": "stream",
     "text": [
      "torch.Size([5, 1, 720, 720])\n",
      "torch.Size([5, 1, 720, 720])\n",
      "(5, 720, 720) b x c x h x w\n"
     ]
    },
    {
     "name": "stderr",
     "output_type": "stream",
     "text": [
      "training: R_total_loss: 0.820/0.759:  65%|███▉  | 13/20 [01:56<00:59,  8.47s/it]"
     ]
    },
    {
     "name": "stdout",
     "output_type": "stream",
     "text": [
      "torch.Size([5, 1, 720, 720])\n",
      "torch.Size([5, 1, 720, 720])\n",
      "(5, 720, 720) b x c x h x w\n"
     ]
    },
    {
     "name": "stderr",
     "output_type": "stream",
     "text": [
      "training: R_total_loss: 0.815/0.752:  70%|████▏ | 14/20 [02:05<00:50,  8.50s/it]"
     ]
    },
    {
     "name": "stdout",
     "output_type": "stream",
     "text": [
      "torch.Size([5, 1, 720, 720])\n",
      "torch.Size([5, 1, 720, 720])\n",
      "(5, 720, 720) b x c x h x w\n"
     ]
    },
    {
     "name": "stderr",
     "output_type": "stream",
     "text": [
      "training: R_total_loss: 0.812/0.759:  75%|████▌ | 15/20 [02:13<00:42,  8.52s/it]"
     ]
    },
    {
     "name": "stdout",
     "output_type": "stream",
     "text": [
      "torch.Size([5, 1, 720, 720])\n",
      "torch.Size([5, 1, 720, 720])\n",
      "(5, 720, 720) b x c x h x w\n"
     ]
    },
    {
     "name": "stderr",
     "output_type": "stream",
     "text": [
      "training: R_total_loss: 0.811/0.804:  80%|████▊ | 16/20 [02:22<00:33,  8.47s/it]"
     ]
    },
    {
     "name": "stdout",
     "output_type": "stream",
     "text": [
      "torch.Size([5, 1, 720, 720])\n",
      "torch.Size([5, 1, 720, 720])\n",
      "(5, 720, 720) b x c x h x w\n"
     ]
    },
    {
     "name": "stderr",
     "output_type": "stream",
     "text": [
      "training: R_total_loss: 0.811/0.814:  85%|█████ | 17/20 [02:31<00:25,  8.56s/it]"
     ]
    },
    {
     "name": "stdout",
     "output_type": "stream",
     "text": [
      "torch.Size([5, 1, 720, 720])\n",
      "torch.Size([5, 1, 720, 720])\n",
      "(5, 720, 720) b x c x h x w\n"
     ]
    },
    {
     "name": "stderr",
     "output_type": "stream",
     "text": [
      "training: R_total_loss: 0.806/0.717:  90%|█████▍| 18/20 [02:39<00:17,  8.53s/it]"
     ]
    },
    {
     "name": "stdout",
     "output_type": "stream",
     "text": [
      "torch.Size([5, 1, 720, 720])\n",
      "torch.Size([5, 1, 720, 720])\n",
      "(5, 720, 720) b x c x h x w\n"
     ]
    },
    {
     "name": "stderr",
     "output_type": "stream",
     "text": [
      "training: R_total_loss: 0.805/0.786:  95%|█████▋| 19/20 [02:47<00:08,  8.52s/it]"
     ]
    },
    {
     "name": "stdout",
     "output_type": "stream",
     "text": [
      "torch.Size([1, 1, 720, 720])\n",
      "torch.Size([1, 1, 720, 720])\n",
      "(1, 720, 720) b x c x h x w\n"
     ]
    },
    {
     "name": "stderr",
     "output_type": "stream",
     "text": [
      "training: R_total_loss: 0.771/0.120: 100%|██████| 20/20 [03:30<00:00, 10.52s/it]"
     ]
    },
    {
     "name": "stdout",
     "output_type": "stream",
     "text": [
      "\u001b[32m==> \u001b[0mTrain average loss: 0.7708280682563782\n"
     ]
    },
    {
     "name": "stderr",
     "output_type": "stream",
     "text": [
      "\n",
      "  0%|                                                    | 0/10 [00:00<?, ?it/s]"
     ]
    },
    {
     "name": "stdout",
     "output_type": "stream",
     "text": [
      "(4, 720, 720) b x c x h x w\n"
     ]
    },
    {
     "name": "stderr",
     "output_type": "stream",
     "text": [
      "validation: R_total_loss: 0.948/0.948:  10%|▌    | 1/10 [00:09<01:29, 10.00s/it]"
     ]
    },
    {
     "name": "stdout",
     "output_type": "stream",
     "text": [
      "(4, 720, 720) b x c x h x w\n"
     ]
    },
    {
     "name": "stderr",
     "output_type": "stream",
     "text": [
      "validation: R_total_loss: 0.955/0.962:  20%|█    | 2/10 [00:12<00:43,  5.49s/it]"
     ]
    },
    {
     "name": "stdout",
     "output_type": "stream",
     "text": [
      "(4, 720, 720) b x c x h x w\n"
     ]
    },
    {
     "name": "stderr",
     "output_type": "stream",
     "text": [
      "validation: R_total_loss: 0.959/0.967:  30%|█▌   | 3/10 [00:14<00:26,  3.78s/it]"
     ]
    },
    {
     "name": "stdout",
     "output_type": "stream",
     "text": [
      "(4, 720, 720) b x c x h x w\n"
     ]
    },
    {
     "name": "stderr",
     "output_type": "stream",
     "text": [
      "validation: R_total_loss: 0.960/0.961:  40%|██   | 4/10 [00:16<00:18,  3.11s/it]"
     ]
    },
    {
     "name": "stdout",
     "output_type": "stream",
     "text": [
      "(4, 720, 720) b x c x h x w\n"
     ]
    },
    {
     "name": "stderr",
     "output_type": "stream",
     "text": [
      "validation: R_total_loss: 0.961/0.965:  50%|██▌  | 5/10 [00:18<00:13,  2.66s/it]"
     ]
    },
    {
     "name": "stdout",
     "output_type": "stream",
     "text": [
      "(4, 720, 720) b x c x h x w\n"
     ]
    },
    {
     "name": "stderr",
     "output_type": "stream",
     "text": [
      "validation: R_total_loss: 0.954/0.922:  60%|███  | 6/10 [00:19<00:09,  2.38s/it]"
     ]
    },
    {
     "name": "stdout",
     "output_type": "stream",
     "text": [
      "(4, 720, 720) b x c x h x w\n"
     ]
    },
    {
     "name": "stderr",
     "output_type": "stream",
     "text": [
      "validation: R_total_loss: 0.955/0.956:  70%|███▌ | 7/10 [00:21<00:06,  2.19s/it]"
     ]
    },
    {
     "name": "stdout",
     "output_type": "stream",
     "text": [
      "(4, 720, 720) b x c x h x w\n"
     ]
    },
    {
     "name": "stderr",
     "output_type": "stream",
     "text": [
      "validation: R_total_loss: 0.951/0.925:  80%|████ | 8/10 [00:23<00:04,  2.07s/it]"
     ]
    },
    {
     "name": "stdout",
     "output_type": "stream",
     "text": [
      "(4, 720, 720) b x c x h x w\n"
     ]
    },
    {
     "name": "stderr",
     "output_type": "stream",
     "text": [
      "validation: R_total_loss: 0.950/0.940:  90%|████▌| 9/10 [00:25<00:01,  1.99s/it]"
     ]
    },
    {
     "name": "stdout",
     "output_type": "stream",
     "text": [
      "(2, 720, 720) b x c x h x w\n"
     ]
    },
    {
     "name": "stderr",
     "output_type": "stream",
     "text": [
      "validation: R_total_loss: 0.899/0.444: 100%|████| 10/10 [01:06<00:00,  6.63s/it]"
     ]
    },
    {
     "name": "stdout",
     "output_type": "stream",
     "text": [
      "\u001b[34m==> \u001b[0mVal average grid loss : 0.0899105378985405\n",
      "\u001b[34m==> \u001b[0mepoch : 7\n",
      "starting epoch 7\n"
     ]
    },
    {
     "name": "stderr",
     "output_type": "stream",
     "text": [
      "\n",
      "  0%|                                                    | 0/20 [00:00<?, ?it/s]"
     ]
    },
    {
     "name": "stdout",
     "output_type": "stream",
     "text": [
      "torch.Size([5, 1, 720, 720])\n",
      "torch.Size([5, 1, 720, 720])\n",
      "(5, 720, 720) b x c x h x w\n"
     ]
    },
    {
     "name": "stderr",
     "output_type": "stream",
     "text": [
      "training: R_total_loss: 0.695/0.695:   5%|▎      | 1/20 [00:16<05:05, 16.07s/it]"
     ]
    },
    {
     "name": "stdout",
     "output_type": "stream",
     "text": [
      "torch.Size([5, 1, 720, 720])\n",
      "torch.Size([5, 1, 720, 720])\n",
      "(5, 720, 720) b x c x h x w\n"
     ]
    },
    {
     "name": "stderr",
     "output_type": "stream",
     "text": [
      "training: R_total_loss: 0.677/0.659:  10%|▋      | 2/20 [00:24<03:24, 11.38s/it]"
     ]
    },
    {
     "name": "stdout",
     "output_type": "stream",
     "text": [
      "torch.Size([5, 1, 720, 720])\n",
      "torch.Size([5, 1, 720, 720])\n",
      "(5, 720, 720) b x c x h x w\n"
     ]
    },
    {
     "name": "stderr",
     "output_type": "stream",
     "text": [
      "training: R_total_loss: 0.687/0.709:  15%|█      | 3/20 [00:32<02:47,  9.88s/it]"
     ]
    },
    {
     "name": "stdout",
     "output_type": "stream",
     "text": [
      "torch.Size([5, 1, 720, 720])\n",
      "torch.Size([5, 1, 720, 720])\n",
      "(5, 720, 720) b x c x h x w\n"
     ]
    },
    {
     "name": "stderr",
     "output_type": "stream",
     "text": [
      "training: R_total_loss: 0.700/0.739:  20%|█▍     | 4/20 [00:40<02:27,  9.21s/it]"
     ]
    },
    {
     "name": "stdout",
     "output_type": "stream",
     "text": [
      "torch.Size([5, 1, 720, 720])\n",
      "torch.Size([5, 1, 720, 720])\n",
      "(5, 720, 720) b x c x h x w\n"
     ]
    },
    {
     "name": "stderr",
     "output_type": "stream",
     "text": [
      "training: R_total_loss: 0.709/0.743:  25%|█▊     | 5/20 [00:52<02:34, 10.31s/it]"
     ]
    },
    {
     "name": "stdout",
     "output_type": "stream",
     "text": [
      "torch.Size([5, 1, 720, 720])\n",
      "torch.Size([5, 1, 720, 720])\n",
      "(5, 720, 720) b x c x h x w\n"
     ]
    },
    {
     "name": "stderr",
     "output_type": "stream",
     "text": [
      "training: R_total_loss: 0.708/0.702:  30%|██     | 6/20 [01:01<02:15,  9.71s/it]"
     ]
    },
    {
     "name": "stdout",
     "output_type": "stream",
     "text": [
      "torch.Size([5, 1, 720, 720])\n",
      "torch.Size([5, 1, 720, 720])\n",
      "(5, 720, 720) b x c x h x w\n"
     ]
    },
    {
     "name": "stderr",
     "output_type": "stream",
     "text": [
      "training: R_total_loss: 0.711/0.730:  35%|██▍    | 7/20 [01:09<02:00,  9.29s/it]"
     ]
    },
    {
     "name": "stdout",
     "output_type": "stream",
     "text": [
      "torch.Size([5, 1, 720, 720])\n",
      "torch.Size([5, 1, 720, 720])\n",
      "(5, 720, 720) b x c x h x w\n"
     ]
    },
    {
     "name": "stderr",
     "output_type": "stream",
     "text": [
      "training: R_total_loss: 0.706/0.676:  40%|██▊    | 8/20 [01:18<01:48,  9.07s/it]"
     ]
    },
    {
     "name": "stdout",
     "output_type": "stream",
     "text": [
      "torch.Size([5, 1, 720, 720])\n",
      "torch.Size([5, 1, 720, 720])\n",
      "(5, 720, 720) b x c x h x w\n"
     ]
    },
    {
     "name": "stderr",
     "output_type": "stream",
     "text": [
      "training: R_total_loss: 0.709/0.732:  45%|███▏   | 9/20 [01:26<01:38,  8.93s/it]"
     ]
    },
    {
     "name": "stdout",
     "output_type": "stream",
     "text": [
      "torch.Size([5, 1, 720, 720])\n",
      "torch.Size([5, 1, 720, 720])\n",
      "(5, 720, 720) b x c x h x w\n"
     ]
    },
    {
     "name": "stderr",
     "output_type": "stream",
     "text": [
      "training: R_total_loss: 0.708/0.699:  50%|███   | 10/20 [01:35<01:27,  8.72s/it]"
     ]
    },
    {
     "name": "stdout",
     "output_type": "stream",
     "text": [
      "torch.Size([5, 1, 720, 720])\n",
      "torch.Size([5, 1, 720, 720])\n",
      "(5, 720, 720) b x c x h x w\n"
     ]
    },
    {
     "name": "stderr",
     "output_type": "stream",
     "text": [
      "training: R_total_loss: 0.706/0.680:  55%|███▎  | 11/20 [01:43<01:17,  8.62s/it]"
     ]
    },
    {
     "name": "stdout",
     "output_type": "stream",
     "text": [
      "torch.Size([5, 1, 720, 720])\n",
      "torch.Size([5, 1, 720, 720])\n",
      "(5, 720, 720) b x c x h x w\n"
     ]
    },
    {
     "name": "stderr",
     "output_type": "stream",
     "text": [
      "training: R_total_loss: 0.700/0.637:  60%|███▌  | 12/20 [01:52<01:09,  8.65s/it]"
     ]
    },
    {
     "name": "stdout",
     "output_type": "stream",
     "text": [
      "torch.Size([5, 1, 720, 720])\n",
      "torch.Size([5, 1, 720, 720])\n",
      "(5, 720, 720) b x c x h x w\n"
     ]
    },
    {
     "name": "stderr",
     "output_type": "stream",
     "text": [
      "training: R_total_loss: 0.699/0.687:  65%|███▉  | 13/20 [02:00<00:59,  8.50s/it]"
     ]
    },
    {
     "name": "stdout",
     "output_type": "stream",
     "text": [
      "torch.Size([5, 1, 720, 720])\n",
      "torch.Size([5, 1, 720, 720])\n",
      "(5, 720, 720) b x c x h x w\n"
     ]
    },
    {
     "name": "stderr",
     "output_type": "stream",
     "text": [
      "training: R_total_loss: 0.700/0.710:  70%|████▏ | 14/20 [02:08<00:50,  8.48s/it]"
     ]
    },
    {
     "name": "stdout",
     "output_type": "stream",
     "text": [
      "torch.Size([5, 1, 720, 720])\n",
      "torch.Size([5, 1, 720, 720])\n",
      "(5, 720, 720) b x c x h x w\n"
     ]
    },
    {
     "name": "stderr",
     "output_type": "stream",
     "text": [
      "training: R_total_loss: 0.700/0.706:  75%|████▌ | 15/20 [02:17<00:42,  8.50s/it]"
     ]
    },
    {
     "name": "stdout",
     "output_type": "stream",
     "text": [
      "torch.Size([5, 1, 720, 720])\n",
      "torch.Size([5, 1, 720, 720])\n",
      "(5, 720, 720) b x c x h x w\n"
     ]
    },
    {
     "name": "stderr",
     "output_type": "stream",
     "text": [
      "training: R_total_loss: 0.705/0.771:  80%|████▊ | 16/20 [02:25<00:33,  8.46s/it]"
     ]
    },
    {
     "name": "stdout",
     "output_type": "stream",
     "text": [
      "torch.Size([5, 1, 720, 720])\n",
      "torch.Size([5, 1, 720, 720])\n",
      "(5, 720, 720) b x c x h x w\n"
     ]
    },
    {
     "name": "stderr",
     "output_type": "stream",
     "text": [
      "training: R_total_loss: 0.703/0.682:  85%|█████ | 17/20 [02:34<00:25,  8.46s/it]"
     ]
    },
    {
     "name": "stdout",
     "output_type": "stream",
     "text": [
      "torch.Size([5, 1, 720, 720])\n",
      "torch.Size([5, 1, 720, 720])\n",
      "(5, 720, 720) b x c x h x w\n"
     ]
    },
    {
     "name": "stderr",
     "output_type": "stream",
     "text": [
      "training: R_total_loss: 0.704/0.721:  90%|█████▍| 18/20 [02:42<00:16,  8.42s/it]"
     ]
    },
    {
     "name": "stdout",
     "output_type": "stream",
     "text": [
      "torch.Size([5, 1, 720, 720])\n",
      "torch.Size([5, 1, 720, 720])\n",
      "(5, 720, 720) b x c x h x w\n"
     ]
    },
    {
     "name": "stderr",
     "output_type": "stream",
     "text": [
      "training: R_total_loss: 0.708/0.773:  95%|█████▋| 19/20 [02:50<00:08,  8.35s/it]"
     ]
    },
    {
     "name": "stdout",
     "output_type": "stream",
     "text": [
      "torch.Size([1, 1, 720, 720])\n",
      "torch.Size([1, 1, 720, 720])\n",
      "(1, 720, 720) b x c x h x w\n"
     ]
    },
    {
     "name": "stderr",
     "output_type": "stream",
     "text": [
      "training: R_total_loss: 0.678/0.108: 100%|██████| 20/20 [03:33<00:00, 10.68s/it]"
     ]
    },
    {
     "name": "stdout",
     "output_type": "stream",
     "text": [
      "\u001b[32m==> \u001b[0mTrain average loss: 0.6779125753790141\n"
     ]
    },
    {
     "name": "stderr",
     "output_type": "stream",
     "text": [
      "\n",
      "  0%|                                                    | 0/10 [00:00<?, ?it/s]"
     ]
    },
    {
     "name": "stdout",
     "output_type": "stream",
     "text": [
      "(4, 720, 720) b x c x h x w\n"
     ]
    },
    {
     "name": "stderr",
     "output_type": "stream",
     "text": [
      "validation: R_total_loss: 0.912/0.912:  10%|▌    | 1/10 [00:10<01:34, 10.47s/it]"
     ]
    },
    {
     "name": "stdout",
     "output_type": "stream",
     "text": [
      "(4, 720, 720) b x c x h x w\n"
     ]
    },
    {
     "name": "stderr",
     "output_type": "stream",
     "text": [
      "validation: R_total_loss: 0.931/0.949:  20%|█    | 2/10 [00:12<00:45,  5.70s/it]"
     ]
    },
    {
     "name": "stdout",
     "output_type": "stream",
     "text": [
      "(4, 720, 720) b x c x h x w\n"
     ]
    },
    {
     "name": "stderr",
     "output_type": "stream",
     "text": [
      "validation: R_total_loss: 0.931/0.930:  30%|█▌   | 3/10 [00:14<00:27,  3.90s/it]"
     ]
    },
    {
     "name": "stdout",
     "output_type": "stream",
     "text": [
      "(4, 720, 720) b x c x h x w\n"
     ]
    },
    {
     "name": "stderr",
     "output_type": "stream",
     "text": [
      "validation: R_total_loss: 0.928/0.921:  40%|██   | 4/10 [00:16<00:18,  3.08s/it]"
     ]
    },
    {
     "name": "stdout",
     "output_type": "stream",
     "text": [
      "(4, 720, 720) b x c x h x w\n"
     ]
    },
    {
     "name": "stderr",
     "output_type": "stream",
     "text": [
      "validation: R_total_loss: 0.928/0.929:  50%|██▌  | 5/10 [00:18<00:13,  2.63s/it]"
     ]
    },
    {
     "name": "stdout",
     "output_type": "stream",
     "text": [
      "(4, 720, 720) b x c x h x w\n"
     ]
    },
    {
     "name": "stderr",
     "output_type": "stream",
     "text": [
      "validation: R_total_loss: 0.908/0.804:  60%|███  | 6/10 [00:20<00:09,  2.36s/it]"
     ]
    },
    {
     "name": "stdout",
     "output_type": "stream",
     "text": [
      "(4, 720, 720) b x c x h x w\n"
     ]
    },
    {
     "name": "stderr",
     "output_type": "stream",
     "text": [
      "validation: R_total_loss: 0.907/0.906:  70%|███▌ | 7/10 [00:21<00:06,  2.19s/it]"
     ]
    },
    {
     "name": "stdout",
     "output_type": "stream",
     "text": [
      "(4, 720, 720) b x c x h x w\n"
     ]
    },
    {
     "name": "stderr",
     "output_type": "stream",
     "text": [
      "validation: R_total_loss: 0.908/0.914:  80%|████ | 8/10 [00:23<00:04,  2.08s/it]"
     ]
    },
    {
     "name": "stdout",
     "output_type": "stream",
     "text": [
      "(4, 720, 720) b x c x h x w\n"
     ]
    },
    {
     "name": "stderr",
     "output_type": "stream",
     "text": [
      "validation: R_total_loss: 0.904/0.868:  90%|████▌| 9/10 [00:25<00:02,  2.06s/it]"
     ]
    },
    {
     "name": "stdout",
     "output_type": "stream",
     "text": [
      "(2, 720, 720) b x c x h x w\n"
     ]
    },
    {
     "name": "stderr",
     "output_type": "stream",
     "text": [
      "validation: R_total_loss: 0.857/0.438: 100%|████| 10/10 [01:06<00:00,  6.69s/it]"
     ]
    },
    {
     "name": "stdout",
     "output_type": "stream",
     "text": [
      "\u001b[34m==> \u001b[0mVal average grid loss : 0.08572177708148956\n",
      "\u001b[34m==> \u001b[0mepoch : 8\n",
      "starting epoch 8\n"
     ]
    },
    {
     "name": "stderr",
     "output_type": "stream",
     "text": [
      "\n",
      "  0%|                                                    | 0/20 [00:00<?, ?it/s]"
     ]
    },
    {
     "name": "stdout",
     "output_type": "stream",
     "text": [
      "torch.Size([5, 1, 720, 720])\n",
      "torch.Size([5, 1, 720, 720])\n",
      "(5, 720, 720) b x c x h x w\n"
     ]
    },
    {
     "name": "stderr",
     "output_type": "stream",
     "text": [
      "training: R_total_loss: 0.811/0.811:   5%|▎      | 1/20 [00:16<05:18, 16.77s/it]"
     ]
    },
    {
     "name": "stdout",
     "output_type": "stream",
     "text": [
      "torch.Size([5, 1, 720, 720])\n",
      "torch.Size([5, 1, 720, 720])\n",
      "(5, 720, 720) b x c x h x w\n"
     ]
    },
    {
     "name": "stderr",
     "output_type": "stream",
     "text": [
      "training: R_total_loss: 0.779/0.747:  10%|▋      | 2/20 [00:24<03:30, 11.69s/it]"
     ]
    },
    {
     "name": "stdout",
     "output_type": "stream",
     "text": [
      "torch.Size([5, 1, 720, 720])\n",
      "torch.Size([5, 1, 720, 720])\n",
      "(5, 720, 720) b x c x h x w\n"
     ]
    },
    {
     "name": "stderr",
     "output_type": "stream",
     "text": [
      "training: R_total_loss: 0.770/0.753:  15%|█      | 3/20 [00:33<02:52, 10.13s/it]"
     ]
    },
    {
     "name": "stdout",
     "output_type": "stream",
     "text": [
      "torch.Size([5, 1, 720, 720])\n",
      "torch.Size([5, 1, 720, 720])\n",
      "(5, 720, 720) b x c x h x w\n"
     ]
    },
    {
     "name": "stderr",
     "output_type": "stream",
     "text": [
      "training: R_total_loss: 0.771/0.772:  20%|█▍     | 4/20 [00:41<02:30,  9.38s/it]"
     ]
    },
    {
     "name": "stdout",
     "output_type": "stream",
     "text": [
      "torch.Size([5, 1, 720, 720])\n",
      "torch.Size([5, 1, 720, 720])\n",
      "(5, 720, 720) b x c x h x w\n"
     ]
    },
    {
     "name": "stderr",
     "output_type": "stream",
     "text": [
      "training: R_total_loss: 0.754/0.686:  25%|█▊     | 5/20 [00:49<02:14,  8.98s/it]"
     ]
    },
    {
     "name": "stdout",
     "output_type": "stream",
     "text": [
      "torch.Size([5, 1, 720, 720])\n",
      "torch.Size([5, 1, 720, 720])\n",
      "(5, 720, 720) b x c x h x w\n"
     ]
    },
    {
     "name": "stderr",
     "output_type": "stream",
     "text": [
      "training: R_total_loss: 0.745/0.702:  30%|██     | 6/20 [00:58<02:02,  8.77s/it]"
     ]
    },
    {
     "name": "stdout",
     "output_type": "stream",
     "text": [
      "torch.Size([5, 1, 720, 720])\n",
      "torch.Size([5, 1, 720, 720])\n",
      "(5, 720, 720) b x c x h x w\n"
     ]
    },
    {
     "name": "stderr",
     "output_type": "stream",
     "text": [
      "training: R_total_loss: 0.746/0.753:  35%|██▍    | 7/20 [01:06<01:52,  8.66s/it]"
     ]
    },
    {
     "name": "stdout",
     "output_type": "stream",
     "text": [
      "torch.Size([5, 1, 720, 720])\n",
      "torch.Size([5, 1, 720, 720])\n",
      "(5, 720, 720) b x c x h x w\n"
     ]
    },
    {
     "name": "stderr",
     "output_type": "stream",
     "text": [
      "training: R_total_loss: 0.741/0.703:  40%|██▊    | 8/20 [01:14<01:42,  8.58s/it]"
     ]
    },
    {
     "name": "stdout",
     "output_type": "stream",
     "text": [
      "torch.Size([5, 1, 720, 720])\n",
      "torch.Size([5, 1, 720, 720])\n",
      "(5, 720, 720) b x c x h x w\n"
     ]
    },
    {
     "name": "stderr",
     "output_type": "stream",
     "text": [
      "training: R_total_loss: 0.737/0.705:  45%|███▏   | 9/20 [01:23<01:34,  8.60s/it]"
     ]
    },
    {
     "name": "stdout",
     "output_type": "stream",
     "text": [
      "torch.Size([5, 1, 720, 720])\n",
      "torch.Size([5, 1, 720, 720])\n",
      "(5, 720, 720) b x c x h x w\n"
     ]
    },
    {
     "name": "stderr",
     "output_type": "stream",
     "text": [
      "training: R_total_loss: 0.729/0.655:  50%|███   | 10/20 [01:32<01:26,  8.69s/it]"
     ]
    },
    {
     "name": "stdout",
     "output_type": "stream",
     "text": [
      "torch.Size([5, 1, 720, 720])\n",
      "torch.Size([5, 1, 720, 720])\n",
      "(5, 720, 720) b x c x h x w\n"
     ]
    },
    {
     "name": "stderr",
     "output_type": "stream",
     "text": [
      "training: R_total_loss: 0.733/0.773:  55%|███▎  | 11/20 [01:40<01:17,  8.59s/it]"
     ]
    },
    {
     "name": "stdout",
     "output_type": "stream",
     "text": [
      "torch.Size([5, 1, 720, 720])\n",
      "torch.Size([5, 1, 720, 720])\n",
      "(5, 720, 720) b x c x h x w\n"
     ]
    },
    {
     "name": "stderr",
     "output_type": "stream",
     "text": [
      "training: R_total_loss: 0.734/0.754:  60%|███▌  | 12/20 [01:49<01:08,  8.52s/it]"
     ]
    },
    {
     "name": "stdout",
     "output_type": "stream",
     "text": [
      "torch.Size([5, 1, 720, 720])\n",
      "torch.Size([5, 1, 720, 720])\n",
      "(5, 720, 720) b x c x h x w\n"
     ]
    },
    {
     "name": "stderr",
     "output_type": "stream",
     "text": [
      "training: R_total_loss: 0.735/0.747:  65%|███▉  | 13/20 [01:57<00:59,  8.46s/it]"
     ]
    },
    {
     "name": "stdout",
     "output_type": "stream",
     "text": [
      "torch.Size([5, 1, 720, 720])\n",
      "torch.Size([5, 1, 720, 720])\n",
      "(5, 720, 720) b x c x h x w\n"
     ]
    },
    {
     "name": "stderr",
     "output_type": "stream",
     "text": [
      "training: R_total_loss: 0.729/0.645:  70%|████▏ | 14/20 [02:06<00:51,  8.57s/it]"
     ]
    },
    {
     "name": "stdout",
     "output_type": "stream",
     "text": [
      "torch.Size([5, 1, 720, 720])\n",
      "torch.Size([5, 1, 720, 720])\n",
      "(5, 720, 720) b x c x h x w\n"
     ]
    },
    {
     "name": "stderr",
     "output_type": "stream",
     "text": [
      "training: R_total_loss: 0.724/0.660:  75%|████▌ | 15/20 [02:14<00:42,  8.59s/it]"
     ]
    },
    {
     "name": "stdout",
     "output_type": "stream",
     "text": [
      "torch.Size([5, 1, 720, 720])\n",
      "torch.Size([5, 1, 720, 720])\n",
      "(5, 720, 720) b x c x h x w\n"
     ]
    },
    {
     "name": "stderr",
     "output_type": "stream",
     "text": [
      "training: R_total_loss: 0.724/0.721:  80%|████▊ | 16/20 [02:23<00:34,  8.58s/it]"
     ]
    },
    {
     "name": "stdout",
     "output_type": "stream",
     "text": [
      "torch.Size([5, 1, 720, 720])\n",
      "torch.Size([5, 1, 720, 720])\n",
      "(5, 720, 720) b x c x h x w\n"
     ]
    },
    {
     "name": "stderr",
     "output_type": "stream",
     "text": [
      "training: R_total_loss: 0.724/0.717:  85%|█████ | 17/20 [02:31<00:25,  8.52s/it]"
     ]
    },
    {
     "name": "stdout",
     "output_type": "stream",
     "text": [
      "torch.Size([5, 1, 720, 720])\n",
      "torch.Size([5, 1, 720, 720])\n",
      "(5, 720, 720) b x c x h x w\n"
     ]
    },
    {
     "name": "stderr",
     "output_type": "stream",
     "text": [
      "training: R_total_loss: 0.718/0.630:  90%|█████▍| 18/20 [02:40<00:17,  8.63s/it]"
     ]
    },
    {
     "name": "stdout",
     "output_type": "stream",
     "text": [
      "torch.Size([5, 1, 720, 720])\n",
      "torch.Size([5, 1, 720, 720])\n",
      "(5, 720, 720) b x c x h x w\n"
     ]
    },
    {
     "name": "stderr",
     "output_type": "stream",
     "text": [
      "training: R_total_loss: 0.714/0.635:  95%|█████▋| 19/20 [02:49<00:08,  8.66s/it]"
     ]
    },
    {
     "name": "stdout",
     "output_type": "stream",
     "text": [
      "torch.Size([1, 1, 720, 720])\n",
      "torch.Size([1, 1, 720, 720])\n",
      "(1, 720, 720) b x c x h x w\n"
     ]
    },
    {
     "name": "stderr",
     "output_type": "stream",
     "text": [
      "training: R_total_loss: 0.686/0.144: 100%|██████| 20/20 [03:32<00:00, 10.60s/it]"
     ]
    },
    {
     "name": "stdout",
     "output_type": "stream",
     "text": [
      "\u001b[32m==> \u001b[0mTrain average loss: 0.6855740062892437\n"
     ]
    },
    {
     "name": "stderr",
     "output_type": "stream",
     "text": [
      "\n",
      "  0%|                                                    | 0/10 [00:00<?, ?it/s]"
     ]
    },
    {
     "name": "stdout",
     "output_type": "stream",
     "text": [
      "(4, 720, 720) b x c x h x w\n"
     ]
    },
    {
     "name": "stderr",
     "output_type": "stream",
     "text": [
      "validation: R_total_loss: 0.881/0.881:  10%|▌    | 1/10 [00:10<01:31, 10.17s/it]"
     ]
    },
    {
     "name": "stdout",
     "output_type": "stream",
     "text": [
      "(4, 720, 720) b x c x h x w\n"
     ]
    },
    {
     "name": "stderr",
     "output_type": "stream",
     "text": [
      "validation: R_total_loss: 0.924/0.967:  20%|█    | 2/10 [00:12<00:44,  5.58s/it]"
     ]
    },
    {
     "name": "stdout",
     "output_type": "stream",
     "text": [
      "(4, 720, 720) b x c x h x w\n"
     ]
    },
    {
     "name": "stderr",
     "output_type": "stream",
     "text": [
      "validation: R_total_loss: 0.918/0.905:  30%|█▌   | 3/10 [00:14<00:26,  3.85s/it]"
     ]
    },
    {
     "name": "stdout",
     "output_type": "stream",
     "text": [
      "(4, 720, 720) b x c x h x w\n"
     ]
    },
    {
     "name": "stderr",
     "output_type": "stream",
     "text": [
      "validation: R_total_loss: 0.916/0.909:  40%|██   | 4/10 [00:16<00:18,  3.03s/it]"
     ]
    },
    {
     "name": "stdout",
     "output_type": "stream",
     "text": [
      "(4, 720, 720) b x c x h x w\n"
     ]
    },
    {
     "name": "stderr",
     "output_type": "stream",
     "text": [
      "validation: R_total_loss: 0.916/0.919:  50%|██▌  | 5/10 [00:17<00:13,  2.60s/it]"
     ]
    },
    {
     "name": "stdout",
     "output_type": "stream",
     "text": [
      "(4, 720, 720) b x c x h x w\n"
     ]
    },
    {
     "name": "stderr",
     "output_type": "stream",
     "text": [
      "validation: R_total_loss: 0.899/0.812:  60%|███  | 6/10 [00:19<00:09,  2.35s/it]"
     ]
    },
    {
     "name": "stdout",
     "output_type": "stream",
     "text": [
      "(4, 720, 720) b x c x h x w\n"
     ]
    },
    {
     "name": "stderr",
     "output_type": "stream",
     "text": [
      "validation: R_total_loss: 0.891/0.843:  70%|███▌ | 7/10 [00:21<00:06,  2.19s/it]"
     ]
    },
    {
     "name": "stdout",
     "output_type": "stream",
     "text": [
      "(4, 720, 720) b x c x h x w\n"
     ]
    },
    {
     "name": "stderr",
     "output_type": "stream",
     "text": [
      "validation: R_total_loss: 0.886/0.848:  80%|████ | 8/10 [00:23<00:04,  2.08s/it]"
     ]
    },
    {
     "name": "stdout",
     "output_type": "stream",
     "text": [
      "(4, 720, 720) b x c x h x w\n"
     ]
    },
    {
     "name": "stderr",
     "output_type": "stream",
     "text": [
      "validation: R_total_loss: 0.882/0.857:  90%|████▌| 9/10 [00:25<00:01,  2.00s/it]"
     ]
    },
    {
     "name": "stdout",
     "output_type": "stream",
     "text": [
      "(2, 720, 720) b x c x h x w\n"
     ]
    },
    {
     "name": "stderr",
     "output_type": "stream",
     "text": [
      "validation: R_total_loss: 0.834/0.400: 100%|████| 10/10 [01:06<00:00,  6.63s/it]"
     ]
    },
    {
     "name": "stdout",
     "output_type": "stream",
     "text": [
      "\u001b[34m==> \u001b[0mVal average grid loss : 0.08342000067234039\n",
      "\u001b[34m==> \u001b[0mepoch : 9\n"
     ]
    },
    {
     "name": "stderr",
     "output_type": "stream",
     "text": [
      "\n"
     ]
    }
   ],
   "source": [
    "%run training_glam_detector.py --path_ymlfile config_training.yaml --compute_metrics True"
   ]
  },
  {
   "cell_type": "code",
   "execution_count": 17,
   "id": "74c72a69-2906-489f-80e4-cccaee0c15e6",
   "metadata": {},
   "outputs": [],
   "source": [
    "from pathlib import Path\n",
    "dir = Path(\"/Users/danaawamleh/Desktop/leaves/\")\n",
    "list = [f for f in dir.rglob('*healthy/*.JPG')]"
   ]
  },
  {
   "cell_type": "code",
   "execution_count": 19,
   "id": "b97b989f",
   "metadata": {},
   "outputs": [
    {
     "name": "stdout",
     "output_type": "stream",
     "text": [
      "[PosixPath('/Users/danaawamleh/Desktop/leaves/Arjun (P1)/healthy/0002_0065.JPG'), PosixPath('/Users/danaawamleh/Desktop/leaves/Arjun (P1)/healthy/0002_0071.JPG'), PosixPath('/Users/danaawamleh/Desktop/leaves/Arjun (P1)/healthy/0002_0059.JPG'), PosixPath('/Users/danaawamleh/Desktop/leaves/Arjun (P1)/healthy/0002_0111.JPG'), PosixPath('/Users/danaawamleh/Desktop/leaves/Arjun (P1)/healthy/0002_0105.JPG'), PosixPath('/Users/danaawamleh/Desktop/leaves/Arjun (P1)/healthy/0002_0139.JPG'), PosixPath('/Users/danaawamleh/Desktop/leaves/Arjun (P1)/healthy/0002_0138.JPG'), PosixPath('/Users/danaawamleh/Desktop/leaves/Arjun (P1)/healthy/0002_0104.JPG'), PosixPath('/Users/danaawamleh/Desktop/leaves/Arjun (P1)/healthy/0002_0110.JPG'), PosixPath('/Users/danaawamleh/Desktop/leaves/Arjun (P1)/healthy/0002_0058.JPG'), PosixPath('/Users/danaawamleh/Desktop/leaves/Arjun (P1)/healthy/0002_0070.JPG'), PosixPath('/Users/danaawamleh/Desktop/leaves/Arjun (P1)/healthy/0002_0064.JPG'), PosixPath('/Users/danaawamleh/Desktop/leaves/Arjun (P1)/healthy/0002_0099.JPG'), PosixPath('/Users/danaawamleh/Desktop/leaves/Arjun (P1)/healthy/0002_0072.JPG'), PosixPath('/Users/danaawamleh/Desktop/leaves/Arjun (P1)/healthy/0002_0066.JPG'), PosixPath('/Users/danaawamleh/Desktop/leaves/Arjun (P1)/healthy/0002_0106.JPG'), PosixPath('/Users/danaawamleh/Desktop/leaves/Arjun (P1)/healthy/0002_0112.JPG'), PosixPath('/Users/danaawamleh/Desktop/leaves/Arjun (P1)/healthy/0002_0113.JPG'), PosixPath('/Users/danaawamleh/Desktop/leaves/Arjun (P1)/healthy/0002_0107.JPG'), PosixPath('/Users/danaawamleh/Desktop/leaves/Arjun (P1)/healthy/0002_0067.JPG'), PosixPath('/Users/danaawamleh/Desktop/leaves/Arjun (P1)/healthy/0002_0073.JPG'), PosixPath('/Users/danaawamleh/Desktop/leaves/Arjun (P1)/healthy/0002_0098.JPG'), PosixPath('/Users/danaawamleh/Desktop/leaves/Arjun (P1)/healthy/0002_0088.JPG'), PosixPath('/Users/danaawamleh/Desktop/leaves/Arjun (P1)/healthy/0002_0077.JPG'), PosixPath('/Users/danaawamleh/Desktop/leaves/Arjun (P1)/healthy/0002_0063.JPG'), PosixPath('/Users/danaawamleh/Desktop/leaves/Arjun (P1)/healthy/0002_0103.JPG'), PosixPath('/Users/danaawamleh/Desktop/leaves/Arjun (P1)/healthy/0002_0117.JPG'), PosixPath('/Users/danaawamleh/Desktop/leaves/Arjun (P1)/healthy/0002_0116.JPG'), PosixPath('/Users/danaawamleh/Desktop/leaves/Arjun (P1)/healthy/0002_0102.JPG'), PosixPath('/Users/danaawamleh/Desktop/leaves/Arjun (P1)/healthy/0002_0062.JPG'), PosixPath('/Users/danaawamleh/Desktop/leaves/Arjun (P1)/healthy/0002_0076.JPG'), PosixPath('/Users/danaawamleh/Desktop/leaves/Arjun (P1)/healthy/0002_0089.JPG'), PosixPath('/Users/danaawamleh/Desktop/leaves/Arjun (P1)/healthy/0002_0048.JPG'), PosixPath('/Users/danaawamleh/Desktop/leaves/Arjun (P1)/healthy/0002_0060.JPG'), PosixPath('/Users/danaawamleh/Desktop/leaves/Arjun (P1)/healthy/0002_0074.JPG'), PosixPath('/Users/danaawamleh/Desktop/leaves/Arjun (P1)/healthy/0002_0128.JPG'), PosixPath('/Users/danaawamleh/Desktop/leaves/Arjun (P1)/healthy/0002_0114.JPG'), PosixPath('/Users/danaawamleh/Desktop/leaves/Arjun (P1)/healthy/0002_0100.JPG'), PosixPath('/Users/danaawamleh/Desktop/leaves/Arjun (P1)/healthy/0002_0101.JPG'), PosixPath('/Users/danaawamleh/Desktop/leaves/Arjun (P1)/healthy/0002_0115.JPG'), PosixPath('/Users/danaawamleh/Desktop/leaves/Arjun (P1)/healthy/0002_0129.JPG'), PosixPath('/Users/danaawamleh/Desktop/leaves/Arjun (P1)/healthy/0002_0075.JPG'), PosixPath('/Users/danaawamleh/Desktop/leaves/Arjun (P1)/healthy/0002_0061.JPG'), PosixPath('/Users/danaawamleh/Desktop/leaves/Arjun (P1)/healthy/0002_0049.JPG'), PosixPath('/Users/danaawamleh/Desktop/leaves/Arjun (P1)/healthy/0002_0006.JPG'), PosixPath('/Users/danaawamleh/Desktop/leaves/Arjun (P1)/healthy/0002_0012.JPG'), PosixPath('/Users/danaawamleh/Desktop/leaves/Arjun (P1)/healthy/0002_0204.JPG'), PosixPath('/Users/danaawamleh/Desktop/leaves/Arjun (P1)/healthy/0002_0210.JPG'), PosixPath('/Users/danaawamleh/Desktop/leaves/Arjun (P1)/healthy/0002_0199.JPG'), PosixPath('/Users/danaawamleh/Desktop/leaves/Arjun (P1)/healthy/0002_0172.JPG'), PosixPath('/Users/danaawamleh/Desktop/leaves/Arjun (P1)/healthy/0002_0166.JPG'), PosixPath('/Users/danaawamleh/Desktop/leaves/Arjun (P1)/healthy/0002_0167.JPG'), PosixPath('/Users/danaawamleh/Desktop/leaves/Arjun (P1)/healthy/0002_0173.JPG'), PosixPath('/Users/danaawamleh/Desktop/leaves/Arjun (P1)/healthy/0002_0198.JPG'), PosixPath('/Users/danaawamleh/Desktop/leaves/Arjun (P1)/healthy/0002_0211.JPG'), PosixPath('/Users/danaawamleh/Desktop/leaves/Arjun (P1)/healthy/0002_0205.JPG'), PosixPath('/Users/danaawamleh/Desktop/leaves/Arjun (P1)/healthy/0002_0013.JPG'), PosixPath('/Users/danaawamleh/Desktop/leaves/Arjun (P1)/healthy/0002_0007.JPG'), PosixPath('/Users/danaawamleh/Desktop/leaves/Arjun (P1)/healthy/0002_0011.JPG'), PosixPath('/Users/danaawamleh/Desktop/leaves/Arjun (P1)/healthy/0002_0005.JPG'), PosixPath('/Users/danaawamleh/Desktop/leaves/Arjun (P1)/healthy/0002_0039.JPG'), PosixPath('/Users/danaawamleh/Desktop/leaves/Arjun (P1)/healthy/0002_0213.JPG'), PosixPath('/Users/danaawamleh/Desktop/leaves/Arjun (P1)/healthy/0002_0207.JPG'), PosixPath('/Users/danaawamleh/Desktop/leaves/Arjun (P1)/healthy/0002_0165.JPG'), PosixPath('/Users/danaawamleh/Desktop/leaves/Arjun (P1)/healthy/0002_0171.JPG'), PosixPath('/Users/danaawamleh/Desktop/leaves/Arjun (P1)/healthy/0002_0159.JPG'), PosixPath('/Users/danaawamleh/Desktop/leaves/Arjun (P1)/healthy/0002_0158.JPG'), PosixPath('/Users/danaawamleh/Desktop/leaves/Arjun (P1)/healthy/0002_0170.JPG'), PosixPath('/Users/danaawamleh/Desktop/leaves/Arjun (P1)/healthy/0002_0164.JPG'), PosixPath('/Users/danaawamleh/Desktop/leaves/Arjun (P1)/healthy/0002_0206.JPG'), PosixPath('/Users/danaawamleh/Desktop/leaves/Arjun (P1)/healthy/0002_0212.JPG'), PosixPath('/Users/danaawamleh/Desktop/leaves/Arjun (P1)/healthy/0002_0038.JPG'), PosixPath('/Users/danaawamleh/Desktop/leaves/Arjun (P1)/healthy/0002_0004.JPG'), PosixPath('/Users/danaawamleh/Desktop/leaves/Arjun (P1)/healthy/0002_0010.JPG'), PosixPath('/Users/danaawamleh/Desktop/leaves/Arjun (P1)/healthy/0002_0028.JPG'), PosixPath('/Users/danaawamleh/Desktop/leaves/Arjun (P1)/healthy/0002_0014.JPG'), PosixPath('/Users/danaawamleh/Desktop/leaves/Arjun (P1)/healthy/0002_0216.JPG'), PosixPath('/Users/danaawamleh/Desktop/leaves/Arjun (P1)/healthy/0002_0202.JPG'), PosixPath('/Users/danaawamleh/Desktop/leaves/Arjun (P1)/healthy/0002_0148.JPG'), PosixPath('/Users/danaawamleh/Desktop/leaves/Arjun (P1)/healthy/0002_0160.JPG'), PosixPath('/Users/danaawamleh/Desktop/leaves/Arjun (P1)/healthy/0002_0174.JPG'), PosixPath('/Users/danaawamleh/Desktop/leaves/Arjun (P1)/healthy/0002_0175.JPG'), PosixPath('/Users/danaawamleh/Desktop/leaves/Arjun (P1)/healthy/0002_0161.JPG'), PosixPath('/Users/danaawamleh/Desktop/leaves/Arjun (P1)/healthy/0002_0149.JPG'), PosixPath('/Users/danaawamleh/Desktop/leaves/Arjun (P1)/healthy/0002_0203.JPG'), PosixPath('/Users/danaawamleh/Desktop/leaves/Arjun (P1)/healthy/0002_0217.JPG'), PosixPath('/Users/danaawamleh/Desktop/leaves/Arjun (P1)/healthy/0002_0001.JPG'), PosixPath('/Users/danaawamleh/Desktop/leaves/Arjun (P1)/healthy/0002_0015.JPG'), PosixPath('/Users/danaawamleh/Desktop/leaves/Arjun (P1)/healthy/0002_0029.JPG'), PosixPath('/Users/danaawamleh/Desktop/leaves/Arjun (P1)/healthy/0002_0003.JPG'), PosixPath('/Users/danaawamleh/Desktop/leaves/Arjun (P1)/healthy/0002_0017.JPG'), PosixPath('/Users/danaawamleh/Desktop/leaves/Arjun (P1)/healthy/0002_0201.JPG'), PosixPath('/Users/danaawamleh/Desktop/leaves/Arjun (P1)/healthy/0002_0215.JPG'), PosixPath('/Users/danaawamleh/Desktop/leaves/Arjun (P1)/healthy/0002_0188.JPG'), PosixPath('/Users/danaawamleh/Desktop/leaves/Arjun (P1)/healthy/0002_0177.JPG'), PosixPath('/Users/danaawamleh/Desktop/leaves/Arjun (P1)/healthy/0002_0163.JPG'), PosixPath('/Users/danaawamleh/Desktop/leaves/Arjun (P1)/healthy/0002_0162.JPG'), PosixPath('/Users/danaawamleh/Desktop/leaves/Arjun (P1)/healthy/0002_0176.JPG'), PosixPath('/Users/danaawamleh/Desktop/leaves/Arjun (P1)/healthy/0002_0189.JPG'), PosixPath('/Users/danaawamleh/Desktop/leaves/Arjun (P1)/healthy/0002_0214.JPG'), PosixPath('/Users/danaawamleh/Desktop/leaves/Arjun (P1)/healthy/0002_0200.JPG'), PosixPath('/Users/danaawamleh/Desktop/leaves/Arjun (P1)/healthy/0002_0016.JPG'), PosixPath('/Users/danaawamleh/Desktop/leaves/Arjun (P1)/healthy/0002_0002.JPG'), PosixPath('/Users/danaawamleh/Desktop/leaves/Arjun (P1)/healthy/0002_0027.JPG'), PosixPath('/Users/danaawamleh/Desktop/leaves/Arjun (P1)/healthy/0002_0033.JPG'), PosixPath('/Users/danaawamleh/Desktop/leaves/Arjun (P1)/healthy/0002_0219.JPG'), PosixPath('/Users/danaawamleh/Desktop/leaves/Arjun (P1)/healthy/0002_0190.JPG'), PosixPath('/Users/danaawamleh/Desktop/leaves/Arjun (P1)/healthy/0002_0184.JPG'), PosixPath('/Users/danaawamleh/Desktop/leaves/Arjun (P1)/healthy/0002_0153.JPG'), PosixPath('/Users/danaawamleh/Desktop/leaves/Arjun (P1)/healthy/0002_0147.JPG'), PosixPath('/Users/danaawamleh/Desktop/leaves/Arjun (P1)/healthy/0002_0146.JPG'), PosixPath('/Users/danaawamleh/Desktop/leaves/Arjun (P1)/healthy/0002_0152.JPG'), PosixPath('/Users/danaawamleh/Desktop/leaves/Arjun (P1)/healthy/0002_0185.JPG'), PosixPath('/Users/danaawamleh/Desktop/leaves/Arjun (P1)/healthy/0002_0191.JPG'), PosixPath('/Users/danaawamleh/Desktop/leaves/Arjun (P1)/healthy/0002_0218.JPG'), PosixPath('/Users/danaawamleh/Desktop/leaves/Arjun (P1)/healthy/0002_0032.JPG'), PosixPath('/Users/danaawamleh/Desktop/leaves/Arjun (P1)/healthy/0002_0026.JPG'), PosixPath('/Users/danaawamleh/Desktop/leaves/Arjun (P1)/healthy/0002_0030.JPG'), PosixPath('/Users/danaawamleh/Desktop/leaves/Arjun (P1)/healthy/0002_0024.JPG'), PosixPath('/Users/danaawamleh/Desktop/leaves/Arjun (P1)/healthy/0002_0018.JPG'), PosixPath('/Users/danaawamleh/Desktop/leaves/Arjun (P1)/healthy/0002_0187.JPG'), PosixPath('/Users/danaawamleh/Desktop/leaves/Arjun (P1)/healthy/0002_0193.JPG'), PosixPath('/Users/danaawamleh/Desktop/leaves/Arjun (P1)/healthy/0002_0144.JPG'), PosixPath('/Users/danaawamleh/Desktop/leaves/Arjun (P1)/healthy/0002_0150.JPG'), PosixPath('/Users/danaawamleh/Desktop/leaves/Arjun (P1)/healthy/0002_0178.JPG'), PosixPath('/Users/danaawamleh/Desktop/leaves/Arjun (P1)/healthy/0002_0179.JPG'), PosixPath('/Users/danaawamleh/Desktop/leaves/Arjun (P1)/healthy/0002_0151.JPG'), PosixPath('/Users/danaawamleh/Desktop/leaves/Arjun (P1)/healthy/0002_0145.JPG'), PosixPath('/Users/danaawamleh/Desktop/leaves/Arjun (P1)/healthy/0002_0192.JPG'), PosixPath('/Users/danaawamleh/Desktop/leaves/Arjun (P1)/healthy/0002_0186.JPG'), PosixPath('/Users/danaawamleh/Desktop/leaves/Arjun (P1)/healthy/0002_0019.JPG'), PosixPath('/Users/danaawamleh/Desktop/leaves/Arjun (P1)/healthy/0002_0025.JPG'), PosixPath('/Users/danaawamleh/Desktop/leaves/Arjun (P1)/healthy/0002_0031.JPG'), PosixPath('/Users/danaawamleh/Desktop/leaves/Arjun (P1)/healthy/0002_0009.JPG'), PosixPath('/Users/danaawamleh/Desktop/leaves/Arjun (P1)/healthy/0002_0035.JPG'), PosixPath('/Users/danaawamleh/Desktop/leaves/Arjun (P1)/healthy/0002_0021.JPG'), PosixPath('/Users/danaawamleh/Desktop/leaves/Arjun (P1)/healthy/0002_0182.JPG'), PosixPath('/Users/danaawamleh/Desktop/leaves/Arjun (P1)/healthy/0002_0196.JPG'), PosixPath('/Users/danaawamleh/Desktop/leaves/Arjun (P1)/healthy/0002_0169.JPG'), PosixPath('/Users/danaawamleh/Desktop/leaves/Arjun (P1)/healthy/0002_0141.JPG'), PosixPath('/Users/danaawamleh/Desktop/leaves/Arjun (P1)/healthy/0002_0155.JPG'), PosixPath('/Users/danaawamleh/Desktop/leaves/Arjun (P1)/healthy/0002_0154.JPG'), PosixPath('/Users/danaawamleh/Desktop/leaves/Arjun (P1)/healthy/0002_0140.JPG'), PosixPath('/Users/danaawamleh/Desktop/leaves/Arjun (P1)/healthy/0002_0168.JPG'), PosixPath('/Users/danaawamleh/Desktop/leaves/Arjun (P1)/healthy/0002_0197.JPG'), PosixPath('/Users/danaawamleh/Desktop/leaves/Arjun (P1)/healthy/0002_0183.JPG'), PosixPath('/Users/danaawamleh/Desktop/leaves/Arjun (P1)/healthy/0002_0020.JPG'), PosixPath('/Users/danaawamleh/Desktop/leaves/Arjun (P1)/healthy/0002_0034.JPG'), PosixPath('/Users/danaawamleh/Desktop/leaves/Arjun (P1)/healthy/0002_0008.JPG'), PosixPath('/Users/danaawamleh/Desktop/leaves/Arjun (P1)/healthy/0002_0022.JPG'), PosixPath('/Users/danaawamleh/Desktop/leaves/Arjun (P1)/healthy/0002_0036.JPG'), PosixPath('/Users/danaawamleh/Desktop/leaves/Arjun (P1)/healthy/0002_0208.JPG'), PosixPath('/Users/danaawamleh/Desktop/leaves/Arjun (P1)/healthy/0002_0220.JPG'), PosixPath('/Users/danaawamleh/Desktop/leaves/Arjun (P1)/healthy/0002_0195.JPG'), PosixPath('/Users/danaawamleh/Desktop/leaves/Arjun (P1)/healthy/0002_0181.JPG'), PosixPath('/Users/danaawamleh/Desktop/leaves/Arjun (P1)/healthy/0002_0156.JPG'), PosixPath('/Users/danaawamleh/Desktop/leaves/Arjun (P1)/healthy/0002_0142.JPG'), PosixPath('/Users/danaawamleh/Desktop/leaves/Arjun (P1)/healthy/0002_0143.JPG'), PosixPath('/Users/danaawamleh/Desktop/leaves/Arjun (P1)/healthy/0002_0157.JPG'), PosixPath('/Users/danaawamleh/Desktop/leaves/Arjun (P1)/healthy/0002_0180.JPG'), PosixPath('/Users/danaawamleh/Desktop/leaves/Arjun (P1)/healthy/0002_0194.JPG'), PosixPath('/Users/danaawamleh/Desktop/leaves/Arjun (P1)/healthy/0002_0209.JPG'), PosixPath('/Users/danaawamleh/Desktop/leaves/Arjun (P1)/healthy/0002_0037.JPG'), PosixPath('/Users/danaawamleh/Desktop/leaves/Arjun (P1)/healthy/0002_0023.JPG'), PosixPath('/Users/danaawamleh/Desktop/leaves/Arjun (P1)/healthy/0002_0087.JPG'), PosixPath('/Users/danaawamleh/Desktop/leaves/Arjun (P1)/healthy/0002_0093.JPG'), PosixPath('/Users/danaawamleh/Desktop/leaves/Arjun (P1)/healthy/0002_0044.JPG'), PosixPath('/Users/danaawamleh/Desktop/leaves/Arjun (P1)/healthy/0002_0050.JPG'), PosixPath('/Users/danaawamleh/Desktop/leaves/Arjun (P1)/healthy/0002_0078.JPG'), PosixPath('/Users/danaawamleh/Desktop/leaves/Arjun (P1)/healthy/0002_0130.JPG'), PosixPath('/Users/danaawamleh/Desktop/leaves/Arjun (P1)/healthy/0002_0124.JPG'), PosixPath('/Users/danaawamleh/Desktop/leaves/Arjun (P1)/healthy/0002_0118.JPG'), PosixPath('/Users/danaawamleh/Desktop/leaves/Arjun (P1)/healthy/0002_0119.JPG'), PosixPath('/Users/danaawamleh/Desktop/leaves/Arjun (P1)/healthy/0002_0125.JPG'), PosixPath('/Users/danaawamleh/Desktop/leaves/Arjun (P1)/healthy/0002_0131.JPG'), PosixPath('/Users/danaawamleh/Desktop/leaves/Arjun (P1)/healthy/0002_0079.JPG'), PosixPath('/Users/danaawamleh/Desktop/leaves/Arjun (P1)/healthy/0002_0051.JPG'), PosixPath('/Users/danaawamleh/Desktop/leaves/Arjun (P1)/healthy/0002_0045.JPG'), PosixPath('/Users/danaawamleh/Desktop/leaves/Arjun (P1)/healthy/0002_0092.JPG'), PosixPath('/Users/danaawamleh/Desktop/leaves/Arjun (P1)/healthy/0002_0086.JPG'), PosixPath('/Users/danaawamleh/Desktop/leaves/Arjun (P1)/healthy/0002_0090.JPG'), PosixPath('/Users/danaawamleh/Desktop/leaves/Arjun (P1)/healthy/0002_0084.JPG'), PosixPath('/Users/danaawamleh/Desktop/leaves/Arjun (P1)/healthy/0002_0053.JPG'), PosixPath('/Users/danaawamleh/Desktop/leaves/Arjun (P1)/healthy/0002_0047.JPG'), PosixPath('/Users/danaawamleh/Desktop/leaves/Arjun (P1)/healthy/0002_0127.JPG'), PosixPath('/Users/danaawamleh/Desktop/leaves/Arjun (P1)/healthy/0002_0133.JPG'), PosixPath('/Users/danaawamleh/Desktop/leaves/Arjun (P1)/healthy/0002_0132.JPG'), PosixPath('/Users/danaawamleh/Desktop/leaves/Arjun (P1)/healthy/0002_0126.JPG'), PosixPath('/Users/danaawamleh/Desktop/leaves/Arjun (P1)/healthy/0002_0046.JPG'), PosixPath('/Users/danaawamleh/Desktop/leaves/Arjun (P1)/healthy/0002_0052.JPG'), PosixPath('/Users/danaawamleh/Desktop/leaves/Arjun (P1)/healthy/0002_0085.JPG'), PosixPath('/Users/danaawamleh/Desktop/leaves/Arjun (P1)/healthy/0002_0091.JPG'), PosixPath('/Users/danaawamleh/Desktop/leaves/Arjun (P1)/healthy/0002_0095.JPG'), PosixPath('/Users/danaawamleh/Desktop/leaves/Arjun (P1)/healthy/0002_0081.JPG'), PosixPath('/Users/danaawamleh/Desktop/leaves/Arjun (P1)/healthy/0002_0056.JPG'), PosixPath('/Users/danaawamleh/Desktop/leaves/Arjun (P1)/healthy/0002_0042.JPG'), PosixPath('/Users/danaawamleh/Desktop/leaves/Arjun (P1)/healthy/0002_0122.JPG'), PosixPath('/Users/danaawamleh/Desktop/leaves/Arjun (P1)/healthy/0002_0136.JPG'), PosixPath('/Users/danaawamleh/Desktop/leaves/Arjun (P1)/healthy/0002_0137.JPG'), PosixPath('/Users/danaawamleh/Desktop/leaves/Arjun (P1)/healthy/0002_0123.JPG'), PosixPath('/Users/danaawamleh/Desktop/leaves/Arjun (P1)/healthy/0002_0043.JPG'), PosixPath('/Users/danaawamleh/Desktop/leaves/Arjun (P1)/healthy/0002_0057.JPG'), PosixPath('/Users/danaawamleh/Desktop/leaves/Arjun (P1)/healthy/0002_0080.JPG'), PosixPath('/Users/danaawamleh/Desktop/leaves/Arjun (P1)/healthy/0002_0094.JPG'), PosixPath('/Users/danaawamleh/Desktop/leaves/Arjun (P1)/healthy/0002_0082.JPG'), PosixPath('/Users/danaawamleh/Desktop/leaves/Arjun (P1)/healthy/0002_0096.JPG'), PosixPath('/Users/danaawamleh/Desktop/leaves/Arjun (P1)/healthy/0002_0069.JPG'), PosixPath('/Users/danaawamleh/Desktop/leaves/Arjun (P1)/healthy/0002_0041.JPG'), PosixPath('/Users/danaawamleh/Desktop/leaves/Arjun (P1)/healthy/0002_0055.JPG'), PosixPath('/Users/danaawamleh/Desktop/leaves/Arjun (P1)/healthy/0002_0109.JPG'), PosixPath('/Users/danaawamleh/Desktop/leaves/Arjun (P1)/healthy/0002_0135.JPG'), PosixPath('/Users/danaawamleh/Desktop/leaves/Arjun (P1)/healthy/0002_0121.JPG'), PosixPath('/Users/danaawamleh/Desktop/leaves/Arjun (P1)/healthy/0002_0120.JPG'), PosixPath('/Users/danaawamleh/Desktop/leaves/Arjun (P1)/healthy/0002_0134.JPG'), PosixPath('/Users/danaawamleh/Desktop/leaves/Arjun (P1)/healthy/0002_0108.JPG'), PosixPath('/Users/danaawamleh/Desktop/leaves/Arjun (P1)/healthy/0002_0054.JPG'), PosixPath('/Users/danaawamleh/Desktop/leaves/Arjun (P1)/healthy/0002_0040.JPG'), PosixPath('/Users/danaawamleh/Desktop/leaves/Arjun (P1)/healthy/0002_0068.JPG'), PosixPath('/Users/danaawamleh/Desktop/leaves/Arjun (P1)/healthy/0002_0097.JPG'), PosixPath('/Users/danaawamleh/Desktop/leaves/Arjun (P1)/healthy/0002_0083.JPG'), PosixPath('/Users/danaawamleh/Desktop/leaves/Jamun (P5)/healthy/0005_0216.JPG'), PosixPath('/Users/danaawamleh/Desktop/leaves/Jamun (P5)/healthy/0005_0202.JPG'), PosixPath('/Users/danaawamleh/Desktop/leaves/Jamun (P5)/healthy/0005_0028.JPG'), PosixPath('/Users/danaawamleh/Desktop/leaves/Jamun (P5)/healthy/0005_0014.JPG'), PosixPath('/Users/danaawamleh/Desktop/leaves/Jamun (P5)/healthy/0005_0148.JPG'), PosixPath('/Users/danaawamleh/Desktop/leaves/Jamun (P5)/healthy/0005_0160.JPG'), PosixPath('/Users/danaawamleh/Desktop/leaves/Jamun (P5)/healthy/0005_0174.JPG'), PosixPath('/Users/danaawamleh/Desktop/leaves/Jamun (P5)/healthy/0005_0175.JPG'), PosixPath('/Users/danaawamleh/Desktop/leaves/Jamun (P5)/healthy/0005_0161.JPG'), PosixPath('/Users/danaawamleh/Desktop/leaves/Jamun (P5)/healthy/0005_0149.JPG'), PosixPath('/Users/danaawamleh/Desktop/leaves/Jamun (P5)/healthy/0005_0001.JPG'), PosixPath('/Users/danaawamleh/Desktop/leaves/Jamun (P5)/healthy/0005_0015.JPG'), PosixPath('/Users/danaawamleh/Desktop/leaves/Jamun (P5)/healthy/0005_0029.JPG'), PosixPath('/Users/danaawamleh/Desktop/leaves/Jamun (P5)/healthy/0005_0203.JPG'), PosixPath('/Users/danaawamleh/Desktop/leaves/Jamun (P5)/healthy/0005_0217.JPG'), PosixPath('/Users/danaawamleh/Desktop/leaves/Jamun (P5)/healthy/0005_0229.JPG'), PosixPath('/Users/danaawamleh/Desktop/leaves/Jamun (P5)/healthy/0005_0201.JPG'), PosixPath('/Users/danaawamleh/Desktop/leaves/Jamun (P5)/healthy/0005_0215.JPG'), PosixPath('/Users/danaawamleh/Desktop/leaves/Jamun (P5)/healthy/0005_0003.JPG'), PosixPath('/Users/danaawamleh/Desktop/leaves/Jamun (P5)/healthy/0005_0017.JPG'), PosixPath('/Users/danaawamleh/Desktop/leaves/Jamun (P5)/healthy/0005_0188.JPG'), PosixPath('/Users/danaawamleh/Desktop/leaves/Jamun (P5)/healthy/0005_0177.JPG'), PosixPath('/Users/danaawamleh/Desktop/leaves/Jamun (P5)/healthy/0005_0163.JPG'), PosixPath('/Users/danaawamleh/Desktop/leaves/Jamun (P5)/healthy/0005_0162.JPG'), PosixPath('/Users/danaawamleh/Desktop/leaves/Jamun (P5)/healthy/0005_0176.JPG'), PosixPath('/Users/danaawamleh/Desktop/leaves/Jamun (P5)/healthy/0005_0189.JPG'), PosixPath('/Users/danaawamleh/Desktop/leaves/Jamun (P5)/healthy/0005_0016.JPG'), PosixPath('/Users/danaawamleh/Desktop/leaves/Jamun (P5)/healthy/0005_0002.JPG'), PosixPath('/Users/danaawamleh/Desktop/leaves/Jamun (P5)/healthy/0005_0214.JPG'), PosixPath('/Users/danaawamleh/Desktop/leaves/Jamun (P5)/healthy/0005_0200.JPG'), PosixPath('/Users/danaawamleh/Desktop/leaves/Jamun (P5)/healthy/0005_0228.JPG'), PosixPath('/Users/danaawamleh/Desktop/leaves/Jamun (P5)/healthy/0005_0204.JPG'), PosixPath('/Users/danaawamleh/Desktop/leaves/Jamun (P5)/healthy/0005_0210.JPG'), PosixPath('/Users/danaawamleh/Desktop/leaves/Jamun (P5)/healthy/0005_0238.JPG'), PosixPath('/Users/danaawamleh/Desktop/leaves/Jamun (P5)/healthy/0005_0006.JPG'), PosixPath('/Users/danaawamleh/Desktop/leaves/Jamun (P5)/healthy/0005_0012.JPG'), PosixPath('/Users/danaawamleh/Desktop/leaves/Jamun (P5)/healthy/0005_0199.JPG'), PosixPath('/Users/danaawamleh/Desktop/leaves/Jamun (P5)/healthy/0005_0172.JPG'), PosixPath('/Users/danaawamleh/Desktop/leaves/Jamun (P5)/healthy/0005_0166.JPG'), PosixPath('/Users/danaawamleh/Desktop/leaves/Jamun (P5)/healthy/0005_0167.JPG'), PosixPath('/Users/danaawamleh/Desktop/leaves/Jamun (P5)/healthy/0005_0173.JPG'), PosixPath('/Users/danaawamleh/Desktop/leaves/Jamun (P5)/healthy/0005_0198.JPG'), PosixPath('/Users/danaawamleh/Desktop/leaves/Jamun (P5)/healthy/0005_0013.JPG'), PosixPath('/Users/danaawamleh/Desktop/leaves/Jamun (P5)/healthy/0005_0007.JPG'), PosixPath('/Users/danaawamleh/Desktop/leaves/Jamun (P5)/healthy/0005_0239.JPG'), PosixPath('/Users/danaawamleh/Desktop/leaves/Jamun (P5)/healthy/0005_0211.JPG'), PosixPath('/Users/danaawamleh/Desktop/leaves/Jamun (P5)/healthy/0005_0205.JPG'), PosixPath('/Users/danaawamleh/Desktop/leaves/Jamun (P5)/healthy/0005_0213.JPG'), PosixPath('/Users/danaawamleh/Desktop/leaves/Jamun (P5)/healthy/0005_0207.JPG'), PosixPath('/Users/danaawamleh/Desktop/leaves/Jamun (P5)/healthy/0005_0011.JPG'), PosixPath('/Users/danaawamleh/Desktop/leaves/Jamun (P5)/healthy/0005_0005.JPG'), PosixPath('/Users/danaawamleh/Desktop/leaves/Jamun (P5)/healthy/0005_0039.JPG'), PosixPath('/Users/danaawamleh/Desktop/leaves/Jamun (P5)/healthy/0005_0165.JPG'), PosixPath('/Users/danaawamleh/Desktop/leaves/Jamun (P5)/healthy/0005_0171.JPG'), PosixPath('/Users/danaawamleh/Desktop/leaves/Jamun (P5)/healthy/0005_0159.JPG'), PosixPath('/Users/danaawamleh/Desktop/leaves/Jamun (P5)/healthy/0005_0158.JPG'), PosixPath('/Users/danaawamleh/Desktop/leaves/Jamun (P5)/healthy/0005_0170.JPG'), PosixPath('/Users/danaawamleh/Desktop/leaves/Jamun (P5)/healthy/0005_0164.JPG'), PosixPath('/Users/danaawamleh/Desktop/leaves/Jamun (P5)/healthy/0005_0038.JPG'), PosixPath('/Users/danaawamleh/Desktop/leaves/Jamun (P5)/healthy/0005_0004.JPG'), PosixPath('/Users/danaawamleh/Desktop/leaves/Jamun (P5)/healthy/0005_0010.JPG'), PosixPath('/Users/danaawamleh/Desktop/leaves/Jamun (P5)/healthy/0005_0206.JPG'), PosixPath('/Users/danaawamleh/Desktop/leaves/Jamun (P5)/healthy/0005_0212.JPG'), PosixPath('/Users/danaawamleh/Desktop/leaves/Jamun (P5)/healthy/0005_0249.JPG'), PosixPath('/Users/danaawamleh/Desktop/leaves/Jamun (P5)/healthy/0005_0275.JPG'), PosixPath('/Users/danaawamleh/Desktop/leaves/Jamun (P5)/healthy/0005_0261.JPG'), PosixPath('/Users/danaawamleh/Desktop/leaves/Jamun (P5)/healthy/0005_0088.JPG'), PosixPath('/Users/danaawamleh/Desktop/leaves/Jamun (P5)/healthy/0005_0077.JPG'), PosixPath('/Users/danaawamleh/Desktop/leaves/Jamun (P5)/healthy/0005_0063.JPG'), PosixPath('/Users/danaawamleh/Desktop/leaves/Jamun (P5)/healthy/0005_0103.JPG'), PosixPath('/Users/danaawamleh/Desktop/leaves/Jamun (P5)/healthy/0005_0117.JPG'), PosixPath('/Users/danaawamleh/Desktop/leaves/Jamun (P5)/healthy/0005_0116.JPG'), PosixPath('/Users/danaawamleh/Desktop/leaves/Jamun (P5)/healthy/0005_0102.JPG'), PosixPath('/Users/danaawamleh/Desktop/leaves/Jamun (P5)/healthy/0005_0062.JPG'), PosixPath('/Users/danaawamleh/Desktop/leaves/Jamun (P5)/healthy/0005_0076.JPG'), PosixPath('/Users/danaawamleh/Desktop/leaves/Jamun (P5)/healthy/0005_0089.JPG'), PosixPath('/Users/danaawamleh/Desktop/leaves/Jamun (P5)/healthy/0005_0260.JPG'), PosixPath('/Users/danaawamleh/Desktop/leaves/Jamun (P5)/healthy/0005_0274.JPG'), PosixPath('/Users/danaawamleh/Desktop/leaves/Jamun (P5)/healthy/0005_0248.JPG'), PosixPath('/Users/danaawamleh/Desktop/leaves/Jamun (P5)/healthy/0005_0262.JPG'), PosixPath('/Users/danaawamleh/Desktop/leaves/Jamun (P5)/healthy/0005_0276.JPG'), PosixPath('/Users/danaawamleh/Desktop/leaves/Jamun (P5)/healthy/0005_0048.JPG'), PosixPath('/Users/danaawamleh/Desktop/leaves/Jamun (P5)/healthy/0005_0060.JPG'), PosixPath('/Users/danaawamleh/Desktop/leaves/Jamun (P5)/healthy/0005_0074.JPG'), PosixPath('/Users/danaawamleh/Desktop/leaves/Jamun (P5)/healthy/0005_0128.JPG'), PosixPath('/Users/danaawamleh/Desktop/leaves/Jamun (P5)/healthy/0005_0114.JPG'), PosixPath('/Users/danaawamleh/Desktop/leaves/Jamun (P5)/healthy/0005_0100.JPG'), PosixPath('/Users/danaawamleh/Desktop/leaves/Jamun (P5)/healthy/0005_0101.JPG'), PosixPath('/Users/danaawamleh/Desktop/leaves/Jamun (P5)/healthy/0005_0115.JPG'), PosixPath('/Users/danaawamleh/Desktop/leaves/Jamun (P5)/healthy/0005_0129.JPG'), PosixPath('/Users/danaawamleh/Desktop/leaves/Jamun (P5)/healthy/0005_0075.JPG'), PosixPath('/Users/danaawamleh/Desktop/leaves/Jamun (P5)/healthy/0005_0061.JPG'), PosixPath('/Users/danaawamleh/Desktop/leaves/Jamun (P5)/healthy/0005_0049.JPG'), PosixPath('/Users/danaawamleh/Desktop/leaves/Jamun (P5)/healthy/0005_0277.JPG'), PosixPath('/Users/danaawamleh/Desktop/leaves/Jamun (P5)/healthy/0005_0263.JPG'), PosixPath('/Users/danaawamleh/Desktop/leaves/Jamun (P5)/healthy/0005_0267.JPG'), PosixPath('/Users/danaawamleh/Desktop/leaves/Jamun (P5)/healthy/0005_0273.JPG'), PosixPath('/Users/danaawamleh/Desktop/leaves/Jamun (P5)/healthy/0005_0065.JPG'), PosixPath('/Users/danaawamleh/Desktop/leaves/Jamun (P5)/healthy/0005_0071.JPG'), PosixPath('/Users/danaawamleh/Desktop/leaves/Jamun (P5)/healthy/0005_0059.JPG'), PosixPath('/Users/danaawamleh/Desktop/leaves/Jamun (P5)/healthy/0005_0111.JPG'), PosixPath('/Users/danaawamleh/Desktop/leaves/Jamun (P5)/healthy/0005_0105.JPG'), PosixPath('/Users/danaawamleh/Desktop/leaves/Jamun (P5)/healthy/0005_0139.JPG'), PosixPath('/Users/danaawamleh/Desktop/leaves/Jamun (P5)/healthy/0005_0138.JPG'), PosixPath('/Users/danaawamleh/Desktop/leaves/Jamun (P5)/healthy/0005_0104.JPG'), PosixPath('/Users/danaawamleh/Desktop/leaves/Jamun (P5)/healthy/0005_0110.JPG'), PosixPath('/Users/danaawamleh/Desktop/leaves/Jamun (P5)/healthy/0005_0058.JPG'), PosixPath('/Users/danaawamleh/Desktop/leaves/Jamun (P5)/healthy/0005_0070.JPG'), PosixPath('/Users/danaawamleh/Desktop/leaves/Jamun (P5)/healthy/0005_0064.JPG'), PosixPath('/Users/danaawamleh/Desktop/leaves/Jamun (P5)/healthy/0005_0272.JPG'), PosixPath('/Users/danaawamleh/Desktop/leaves/Jamun (P5)/healthy/0005_0266.JPG'), PosixPath('/Users/danaawamleh/Desktop/leaves/Jamun (P5)/healthy/0005_0270.JPG'), PosixPath('/Users/danaawamleh/Desktop/leaves/Jamun (P5)/healthy/0005_0264.JPG'), PosixPath('/Users/danaawamleh/Desktop/leaves/Jamun (P5)/healthy/0005_0258.JPG'), PosixPath('/Users/danaawamleh/Desktop/leaves/Jamun (P5)/healthy/0005_0099.JPG'), PosixPath('/Users/danaawamleh/Desktop/leaves/Jamun (P5)/healthy/0005_0072.JPG'), PosixPath('/Users/danaawamleh/Desktop/leaves/Jamun (P5)/healthy/0005_0066.JPG'), PosixPath('/Users/danaawamleh/Desktop/leaves/Jamun (P5)/healthy/0005_0106.JPG'), PosixPath('/Users/danaawamleh/Desktop/leaves/Jamun (P5)/healthy/0005_0112.JPG'), PosixPath('/Users/danaawamleh/Desktop/leaves/Jamun (P5)/healthy/0005_0113.JPG'), PosixPath('/Users/danaawamleh/Desktop/leaves/Jamun (P5)/healthy/0005_0107.JPG'), PosixPath('/Users/danaawamleh/Desktop/leaves/Jamun (P5)/healthy/0005_0067.JPG'), PosixPath('/Users/danaawamleh/Desktop/leaves/Jamun (P5)/healthy/0005_0073.JPG'), PosixPath('/Users/danaawamleh/Desktop/leaves/Jamun (P5)/healthy/0005_0098.JPG'), PosixPath('/Users/danaawamleh/Desktop/leaves/Jamun (P5)/healthy/0005_0259.JPG'), PosixPath('/Users/danaawamleh/Desktop/leaves/Jamun (P5)/healthy/0005_0265.JPG'), PosixPath('/Users/danaawamleh/Desktop/leaves/Jamun (P5)/healthy/0005_0271.JPG'), PosixPath('/Users/danaawamleh/Desktop/leaves/Jamun (P5)/healthy/0005_0268.JPG'), PosixPath('/Users/danaawamleh/Desktop/leaves/Jamun (P5)/healthy/0005_0254.JPG'), PosixPath('/Users/danaawamleh/Desktop/leaves/Jamun (P5)/healthy/0005_0240.JPG'), PosixPath('/Users/danaawamleh/Desktop/leaves/Jamun (P5)/healthy/0005_0095.JPG'), PosixPath('/Users/danaawamleh/Desktop/leaves/Jamun (P5)/healthy/0005_0081.JPG'), PosixPath('/Users/danaawamleh/Desktop/leaves/Jamun (P5)/healthy/0005_0056.JPG'), PosixPath('/Users/danaawamleh/Desktop/leaves/Jamun (P5)/healthy/0005_0042.JPG'), PosixPath('/Users/danaawamleh/Desktop/leaves/Jamun (P5)/healthy/0005_0122.JPG'), PosixPath('/Users/danaawamleh/Desktop/leaves/Jamun (P5)/healthy/0005_0136.JPG'), PosixPath('/Users/danaawamleh/Desktop/leaves/Jamun (P5)/healthy/0005_0137.JPG'), PosixPath('/Users/danaawamleh/Desktop/leaves/Jamun (P5)/healthy/0005_0123.JPG'), PosixPath('/Users/danaawamleh/Desktop/leaves/Jamun (P5)/healthy/0005_0043.JPG'), PosixPath('/Users/danaawamleh/Desktop/leaves/Jamun (P5)/healthy/0005_0057.JPG'), PosixPath('/Users/danaawamleh/Desktop/leaves/Jamun (P5)/healthy/0005_0080.JPG'), PosixPath('/Users/danaawamleh/Desktop/leaves/Jamun (P5)/healthy/0005_0094.JPG'), PosixPath('/Users/danaawamleh/Desktop/leaves/Jamun (P5)/healthy/0005_0241.JPG'), PosixPath('/Users/danaawamleh/Desktop/leaves/Jamun (P5)/healthy/0005_0255.JPG'), PosixPath('/Users/danaawamleh/Desktop/leaves/Jamun (P5)/healthy/0005_0269.JPG'), PosixPath('/Users/danaawamleh/Desktop/leaves/Jamun (P5)/healthy/0005_0243.JPG'), PosixPath('/Users/danaawamleh/Desktop/leaves/Jamun (P5)/healthy/0005_0257.JPG'), PosixPath('/Users/danaawamleh/Desktop/leaves/Jamun (P5)/healthy/0005_0082.JPG'), PosixPath('/Users/danaawamleh/Desktop/leaves/Jamun (P5)/healthy/0005_0096.JPG'), PosixPath('/Users/danaawamleh/Desktop/leaves/Jamun (P5)/healthy/0005_0069.JPG'), PosixPath('/Users/danaawamleh/Desktop/leaves/Jamun (P5)/healthy/0005_0041.JPG'), PosixPath('/Users/danaawamleh/Desktop/leaves/Jamun (P5)/healthy/0005_0055.JPG'), PosixPath('/Users/danaawamleh/Desktop/leaves/Jamun (P5)/healthy/0005_0109.JPG'), PosixPath('/Users/danaawamleh/Desktop/leaves/Jamun (P5)/healthy/0005_0135.JPG'), PosixPath('/Users/danaawamleh/Desktop/leaves/Jamun (P5)/healthy/0005_0121.JPG'), PosixPath('/Users/danaawamleh/Desktop/leaves/Jamun (P5)/healthy/0005_0120.JPG'), PosixPath('/Users/danaawamleh/Desktop/leaves/Jamun (P5)/healthy/0005_0134.JPG'), PosixPath('/Users/danaawamleh/Desktop/leaves/Jamun (P5)/healthy/0005_0108.JPG'), PosixPath('/Users/danaawamleh/Desktop/leaves/Jamun (P5)/healthy/0005_0054.JPG'), PosixPath('/Users/danaawamleh/Desktop/leaves/Jamun (P5)/healthy/0005_0040.JPG'), PosixPath('/Users/danaawamleh/Desktop/leaves/Jamun (P5)/healthy/0005_0068.JPG'), PosixPath('/Users/danaawamleh/Desktop/leaves/Jamun (P5)/healthy/0005_0097.JPG'), PosixPath('/Users/danaawamleh/Desktop/leaves/Jamun (P5)/healthy/0005_0083.JPG'), PosixPath('/Users/danaawamleh/Desktop/leaves/Jamun (P5)/healthy/0005_0256.JPG'), PosixPath('/Users/danaawamleh/Desktop/leaves/Jamun (P5)/healthy/0005_0242.JPG'), PosixPath('/Users/danaawamleh/Desktop/leaves/Jamun (P5)/healthy/0005_0246.JPG'), PosixPath('/Users/danaawamleh/Desktop/leaves/Jamun (P5)/healthy/0005_0252.JPG'), PosixPath('/Users/danaawamleh/Desktop/leaves/Jamun (P5)/healthy/0005_0087.JPG'), PosixPath('/Users/danaawamleh/Desktop/leaves/Jamun (P5)/healthy/0005_0093.JPG'), PosixPath('/Users/danaawamleh/Desktop/leaves/Jamun (P5)/healthy/0005_0044.JPG'), PosixPath('/Users/danaawamleh/Desktop/leaves/Jamun (P5)/healthy/0005_0050.JPG'), PosixPath('/Users/danaawamleh/Desktop/leaves/Jamun (P5)/healthy/0005_0078.JPG'), PosixPath('/Users/danaawamleh/Desktop/leaves/Jamun (P5)/healthy/0005_0130.JPG'), PosixPath('/Users/danaawamleh/Desktop/leaves/Jamun (P5)/healthy/0005_0124.JPG'), PosixPath('/Users/danaawamleh/Desktop/leaves/Jamun (P5)/healthy/0005_0118.JPG'), PosixPath('/Users/danaawamleh/Desktop/leaves/Jamun (P5)/healthy/0005_0119.JPG'), PosixPath('/Users/danaawamleh/Desktop/leaves/Jamun (P5)/healthy/0005_0125.JPG'), PosixPath('/Users/danaawamleh/Desktop/leaves/Jamun (P5)/healthy/0005_0131.JPG'), PosixPath('/Users/danaawamleh/Desktop/leaves/Jamun (P5)/healthy/0005_0079.JPG'), PosixPath('/Users/danaawamleh/Desktop/leaves/Jamun (P5)/healthy/0005_0051.JPG'), PosixPath('/Users/danaawamleh/Desktop/leaves/Jamun (P5)/healthy/0005_0045.JPG'), PosixPath('/Users/danaawamleh/Desktop/leaves/Jamun (P5)/healthy/0005_0092.JPG'), PosixPath('/Users/danaawamleh/Desktop/leaves/Jamun (P5)/healthy/0005_0086.JPG'), PosixPath('/Users/danaawamleh/Desktop/leaves/Jamun (P5)/healthy/0005_0253.JPG'), PosixPath('/Users/danaawamleh/Desktop/leaves/Jamun (P5)/healthy/0005_0247.JPG'), PosixPath('/Users/danaawamleh/Desktop/leaves/Jamun (P5)/healthy/0005_0251.JPG'), PosixPath('/Users/danaawamleh/Desktop/leaves/Jamun (P5)/healthy/0005_0245.JPG'), PosixPath('/Users/danaawamleh/Desktop/leaves/Jamun (P5)/healthy/0005_0279.JPG'), PosixPath('/Users/danaawamleh/Desktop/leaves/Jamun (P5)/healthy/0005_0090.JPG'), PosixPath('/Users/danaawamleh/Desktop/leaves/Jamun (P5)/healthy/0005_0084.JPG'), PosixPath('/Users/danaawamleh/Desktop/leaves/Jamun (P5)/healthy/0005_0053.JPG'), PosixPath('/Users/danaawamleh/Desktop/leaves/Jamun (P5)/healthy/0005_0047.JPG'), PosixPath('/Users/danaawamleh/Desktop/leaves/Jamun (P5)/healthy/0005_0127.JPG'), PosixPath('/Users/danaawamleh/Desktop/leaves/Jamun (P5)/healthy/0005_0133.JPG'), PosixPath('/Users/danaawamleh/Desktop/leaves/Jamun (P5)/healthy/0005_0132.JPG'), PosixPath('/Users/danaawamleh/Desktop/leaves/Jamun (P5)/healthy/0005_0126.JPG'), PosixPath('/Users/danaawamleh/Desktop/leaves/Jamun (P5)/healthy/0005_0046.JPG'), PosixPath('/Users/danaawamleh/Desktop/leaves/Jamun (P5)/healthy/0005_0052.JPG'), PosixPath('/Users/danaawamleh/Desktop/leaves/Jamun (P5)/healthy/0005_0085.JPG'), PosixPath('/Users/danaawamleh/Desktop/leaves/Jamun (P5)/healthy/0005_0091.JPG'), PosixPath('/Users/danaawamleh/Desktop/leaves/Jamun (P5)/healthy/0005_0278.JPG'), PosixPath('/Users/danaawamleh/Desktop/leaves/Jamun (P5)/healthy/0005_0244.JPG'), PosixPath('/Users/danaawamleh/Desktop/leaves/Jamun (P5)/healthy/0005_0250.JPG'), PosixPath('/Users/danaawamleh/Desktop/leaves/Jamun (P5)/healthy/0005_0237.JPG'), PosixPath('/Users/danaawamleh/Desktop/leaves/Jamun (P5)/healthy/0005_0223.JPG'), PosixPath('/Users/danaawamleh/Desktop/leaves/Jamun (P5)/healthy/0005_0009.JPG'), PosixPath('/Users/danaawamleh/Desktop/leaves/Jamun (P5)/healthy/0005_0035.JPG'), PosixPath('/Users/danaawamleh/Desktop/leaves/Jamun (P5)/healthy/0005_0021.JPG'), PosixPath('/Users/danaawamleh/Desktop/leaves/Jamun (P5)/healthy/0005_0182.JPG'), PosixPath('/Users/danaawamleh/Desktop/leaves/Jamun (P5)/healthy/0005_0196.JPG'), PosixPath('/Users/danaawamleh/Desktop/leaves/Jamun (P5)/healthy/0005_0169.JPG'), PosixPath('/Users/danaawamleh/Desktop/leaves/Jamun (P5)/healthy/0005_0141.JPG'), PosixPath('/Users/danaawamleh/Desktop/leaves/Jamun (P5)/healthy/0005_0155.JPG'), PosixPath('/Users/danaawamleh/Desktop/leaves/Jamun (P5)/healthy/0005_0154.JPG'), PosixPath('/Users/danaawamleh/Desktop/leaves/Jamun (P5)/healthy/0005_0140.JPG'), PosixPath('/Users/danaawamleh/Desktop/leaves/Jamun (P5)/healthy/0005_0168.JPG'), PosixPath('/Users/danaawamleh/Desktop/leaves/Jamun (P5)/healthy/0005_0197.JPG'), PosixPath('/Users/danaawamleh/Desktop/leaves/Jamun (P5)/healthy/0005_0183.JPG'), PosixPath('/Users/danaawamleh/Desktop/leaves/Jamun (P5)/healthy/0005_0020.JPG'), PosixPath('/Users/danaawamleh/Desktop/leaves/Jamun (P5)/healthy/0005_0034.JPG'), PosixPath('/Users/danaawamleh/Desktop/leaves/Jamun (P5)/healthy/0005_0008.JPG'), PosixPath('/Users/danaawamleh/Desktop/leaves/Jamun (P5)/healthy/0005_0222.JPG'), PosixPath('/Users/danaawamleh/Desktop/leaves/Jamun (P5)/healthy/0005_0236.JPG'), PosixPath('/Users/danaawamleh/Desktop/leaves/Jamun (P5)/healthy/0005_0208.JPG'), PosixPath('/Users/danaawamleh/Desktop/leaves/Jamun (P5)/healthy/0005_0220.JPG'), PosixPath('/Users/danaawamleh/Desktop/leaves/Jamun (P5)/healthy/0005_0234.JPG'), PosixPath('/Users/danaawamleh/Desktop/leaves/Jamun (P5)/healthy/0005_0022.JPG'), PosixPath('/Users/danaawamleh/Desktop/leaves/Jamun (P5)/healthy/0005_0036.JPG'), PosixPath('/Users/danaawamleh/Desktop/leaves/Jamun (P5)/healthy/0005_0195.JPG'), PosixPath('/Users/danaawamleh/Desktop/leaves/Jamun (P5)/healthy/0005_0181.JPG'), PosixPath('/Users/danaawamleh/Desktop/leaves/Jamun (P5)/healthy/0005_0156.JPG'), PosixPath('/Users/danaawamleh/Desktop/leaves/Jamun (P5)/healthy/0005_0142.JPG'), PosixPath('/Users/danaawamleh/Desktop/leaves/Jamun (P5)/healthy/0005_0143.JPG'), PosixPath('/Users/danaawamleh/Desktop/leaves/Jamun (P5)/healthy/0005_0157.JPG'), PosixPath('/Users/danaawamleh/Desktop/leaves/Jamun (P5)/healthy/0005_0180.JPG'), PosixPath('/Users/danaawamleh/Desktop/leaves/Jamun (P5)/healthy/0005_0194.JPG'), PosixPath('/Users/danaawamleh/Desktop/leaves/Jamun (P5)/healthy/0005_0037.JPG'), PosixPath('/Users/danaawamleh/Desktop/leaves/Jamun (P5)/healthy/0005_0023.JPG'), PosixPath('/Users/danaawamleh/Desktop/leaves/Jamun (P5)/healthy/0005_0235.JPG'), PosixPath('/Users/danaawamleh/Desktop/leaves/Jamun (P5)/healthy/0005_0221.JPG'), PosixPath('/Users/danaawamleh/Desktop/leaves/Jamun (P5)/healthy/0005_0209.JPG'), PosixPath('/Users/danaawamleh/Desktop/leaves/Jamun (P5)/healthy/0005_0225.JPG'), PosixPath('/Users/danaawamleh/Desktop/leaves/Jamun (P5)/healthy/0005_0231.JPG'), PosixPath('/Users/danaawamleh/Desktop/leaves/Jamun (P5)/healthy/0005_0219.JPG'), PosixPath('/Users/danaawamleh/Desktop/leaves/Jamun (P5)/healthy/0005_0027.JPG'), PosixPath('/Users/danaawamleh/Desktop/leaves/Jamun (P5)/healthy/0005_0033.JPG'), PosixPath('/Users/danaawamleh/Desktop/leaves/Jamun (P5)/healthy/0005_0190.JPG'), PosixPath('/Users/danaawamleh/Desktop/leaves/Jamun (P5)/healthy/0005_0184.JPG'), PosixPath('/Users/danaawamleh/Desktop/leaves/Jamun (P5)/healthy/0005_0153.JPG'), PosixPath('/Users/danaawamleh/Desktop/leaves/Jamun (P5)/healthy/0005_0147.JPG'), PosixPath('/Users/danaawamleh/Desktop/leaves/Jamun (P5)/healthy/0005_0146.JPG'), PosixPath('/Users/danaawamleh/Desktop/leaves/Jamun (P5)/healthy/0005_0152.JPG'), PosixPath('/Users/danaawamleh/Desktop/leaves/Jamun (P5)/healthy/0005_0185.JPG'), PosixPath('/Users/danaawamleh/Desktop/leaves/Jamun (P5)/healthy/0005_0191.JPG'), PosixPath('/Users/danaawamleh/Desktop/leaves/Jamun (P5)/healthy/0005_0032.JPG'), PosixPath('/Users/danaawamleh/Desktop/leaves/Jamun (P5)/healthy/0005_0026.JPG'), PosixPath('/Users/danaawamleh/Desktop/leaves/Jamun (P5)/healthy/0005_0218.JPG'), PosixPath('/Users/danaawamleh/Desktop/leaves/Jamun (P5)/healthy/0005_0230.JPG'), PosixPath('/Users/danaawamleh/Desktop/leaves/Jamun (P5)/healthy/0005_0224.JPG'), PosixPath('/Users/danaawamleh/Desktop/leaves/Jamun (P5)/healthy/0005_0232.JPG'), PosixPath('/Users/danaawamleh/Desktop/leaves/Jamun (P5)/healthy/0005_0226.JPG'), PosixPath('/Users/danaawamleh/Desktop/leaves/Jamun (P5)/healthy/0005_0030.JPG'), PosixPath('/Users/danaawamleh/Desktop/leaves/Jamun (P5)/healthy/0005_0024.JPG'), PosixPath('/Users/danaawamleh/Desktop/leaves/Jamun (P5)/healthy/0005_0018.JPG'), PosixPath('/Users/danaawamleh/Desktop/leaves/Jamun (P5)/healthy/0005_0187.JPG'), PosixPath('/Users/danaawamleh/Desktop/leaves/Jamun (P5)/healthy/0005_0193.JPG'), PosixPath('/Users/danaawamleh/Desktop/leaves/Jamun (P5)/healthy/0005_0144.JPG'), PosixPath('/Users/danaawamleh/Desktop/leaves/Jamun (P5)/healthy/0005_0150.JPG'), PosixPath('/Users/danaawamleh/Desktop/leaves/Jamun (P5)/healthy/0005_0178.JPG'), PosixPath('/Users/danaawamleh/Desktop/leaves/Jamun (P5)/healthy/0005_0179.JPG'), PosixPath('/Users/danaawamleh/Desktop/leaves/Jamun (P5)/healthy/0005_0151.JPG'), PosixPath('/Users/danaawamleh/Desktop/leaves/Jamun (P5)/healthy/0005_0145.JPG'), PosixPath('/Users/danaawamleh/Desktop/leaves/Jamun (P5)/healthy/0005_0192.JPG'), PosixPath('/Users/danaawamleh/Desktop/leaves/Jamun (P5)/healthy/0005_0186.JPG'), PosixPath('/Users/danaawamleh/Desktop/leaves/Jamun (P5)/healthy/0005_0019.JPG'), PosixPath('/Users/danaawamleh/Desktop/leaves/Jamun (P5)/healthy/0005_0025.JPG'), PosixPath('/Users/danaawamleh/Desktop/leaves/Jamun (P5)/healthy/0005_0031.JPG'), PosixPath('/Users/danaawamleh/Desktop/leaves/Jamun (P5)/healthy/0005_0227.JPG'), PosixPath('/Users/danaawamleh/Desktop/leaves/Jamun (P5)/healthy/0005_0233.JPG'), PosixPath('/Users/danaawamleh/Desktop/leaves/Basil (P8)/healthy/0008_0106.JPG'), PosixPath('/Users/danaawamleh/Desktop/leaves/Basil (P8)/healthy/0008_0112.JPG'), PosixPath('/Users/danaawamleh/Desktop/leaves/Basil (P8)/healthy/0008_0072.JPG'), PosixPath('/Users/danaawamleh/Desktop/leaves/Basil (P8)/healthy/0008_0066.JPG'), PosixPath('/Users/danaawamleh/Desktop/leaves/Basil (P8)/healthy/0008_0099.JPG'), PosixPath('/Users/danaawamleh/Desktop/leaves/Basil (P8)/healthy/0008_0098.JPG'), PosixPath('/Users/danaawamleh/Desktop/leaves/Basil (P8)/healthy/0008_0067.JPG'), PosixPath('/Users/danaawamleh/Desktop/leaves/Basil (P8)/healthy/0008_0073.JPG'), PosixPath('/Users/danaawamleh/Desktop/leaves/Basil (P8)/healthy/0008_0113.JPG'), PosixPath('/Users/danaawamleh/Desktop/leaves/Basil (P8)/healthy/0008_0107.JPG'), PosixPath('/Users/danaawamleh/Desktop/leaves/Basil (P8)/healthy/0008_0111.JPG'), PosixPath('/Users/danaawamleh/Desktop/leaves/Basil (P8)/healthy/0008_0105.JPG'), PosixPath('/Users/danaawamleh/Desktop/leaves/Basil (P8)/healthy/0008_0139.JPG'), PosixPath('/Users/danaawamleh/Desktop/leaves/Basil (P8)/healthy/0008_0065.JPG'), PosixPath('/Users/danaawamleh/Desktop/leaves/Basil (P8)/healthy/0008_0071.JPG'), PosixPath('/Users/danaawamleh/Desktop/leaves/Basil (P8)/healthy/0008_0059.JPG'), PosixPath('/Users/danaawamleh/Desktop/leaves/Basil (P8)/healthy/0008_0058.JPG'), PosixPath('/Users/danaawamleh/Desktop/leaves/Basil (P8)/healthy/0008_0070.JPG'), PosixPath('/Users/danaawamleh/Desktop/leaves/Basil (P8)/healthy/0008_0064.JPG'), PosixPath('/Users/danaawamleh/Desktop/leaves/Basil (P8)/healthy/0008_0138.JPG'), PosixPath('/Users/danaawamleh/Desktop/leaves/Basil (P8)/healthy/0008_0104.JPG'), PosixPath('/Users/danaawamleh/Desktop/leaves/Basil (P8)/healthy/0008_0110.JPG'), PosixPath('/Users/danaawamleh/Desktop/leaves/Basil (P8)/healthy/0008_0128.JPG'), PosixPath('/Users/danaawamleh/Desktop/leaves/Basil (P8)/healthy/0008_0114.JPG'), PosixPath('/Users/danaawamleh/Desktop/leaves/Basil (P8)/healthy/0008_0100.JPG'), PosixPath('/Users/danaawamleh/Desktop/leaves/Basil (P8)/healthy/0008_0048.JPG'), PosixPath('/Users/danaawamleh/Desktop/leaves/Basil (P8)/healthy/0008_0060.JPG'), PosixPath('/Users/danaawamleh/Desktop/leaves/Basil (P8)/healthy/0008_0074.JPG'), PosixPath('/Users/danaawamleh/Desktop/leaves/Basil (P8)/healthy/0008_0075.JPG'), PosixPath('/Users/danaawamleh/Desktop/leaves/Basil (P8)/healthy/0008_0061.JPG'), PosixPath('/Users/danaawamleh/Desktop/leaves/Basil (P8)/healthy/0008_0049.JPG'), PosixPath('/Users/danaawamleh/Desktop/leaves/Basil (P8)/healthy/0008_0101.JPG'), PosixPath('/Users/danaawamleh/Desktop/leaves/Basil (P8)/healthy/0008_0115.JPG'), PosixPath('/Users/danaawamleh/Desktop/leaves/Basil (P8)/healthy/0008_0129.JPG'), PosixPath('/Users/danaawamleh/Desktop/leaves/Basil (P8)/healthy/0008_0103.JPG'), PosixPath('/Users/danaawamleh/Desktop/leaves/Basil (P8)/healthy/0008_0117.JPG'), PosixPath('/Users/danaawamleh/Desktop/leaves/Basil (P8)/healthy/0008_0077.JPG'), PosixPath('/Users/danaawamleh/Desktop/leaves/Basil (P8)/healthy/0008_0063.JPG'), PosixPath('/Users/danaawamleh/Desktop/leaves/Basil (P8)/healthy/0008_0088.JPG'), PosixPath('/Users/danaawamleh/Desktop/leaves/Basil (P8)/healthy/0008_0089.JPG'), PosixPath('/Users/danaawamleh/Desktop/leaves/Basil (P8)/healthy/0008_0062.JPG'), PosixPath('/Users/danaawamleh/Desktop/leaves/Basil (P8)/healthy/0008_0076.JPG'), PosixPath('/Users/danaawamleh/Desktop/leaves/Basil (P8)/healthy/0008_0116.JPG'), PosixPath('/Users/danaawamleh/Desktop/leaves/Basil (P8)/healthy/0008_0102.JPG'), PosixPath('/Users/danaawamleh/Desktop/leaves/Basil (P8)/healthy/0008_0011.JPG'), PosixPath('/Users/danaawamleh/Desktop/leaves/Basil (P8)/healthy/0008_0005.JPG'), PosixPath('/Users/danaawamleh/Desktop/leaves/Basil (P8)/healthy/0008_0039.JPG'), PosixPath('/Users/danaawamleh/Desktop/leaves/Basil (P8)/healthy/0008_0038.JPG'), PosixPath('/Users/danaawamleh/Desktop/leaves/Basil (P8)/healthy/0008_0004.JPG'), PosixPath('/Users/danaawamleh/Desktop/leaves/Basil (P8)/healthy/0008_0010.JPG'), PosixPath('/Users/danaawamleh/Desktop/leaves/Basil (P8)/healthy/0008_0006.JPG'), PosixPath('/Users/danaawamleh/Desktop/leaves/Basil (P8)/healthy/0008_0012.JPG'), PosixPath('/Users/danaawamleh/Desktop/leaves/Basil (P8)/healthy/0008_0013.JPG'), PosixPath('/Users/danaawamleh/Desktop/leaves/Basil (P8)/healthy/0008_0007.JPG'), PosixPath('/Users/danaawamleh/Desktop/leaves/Basil (P8)/healthy/0008_0003.JPG'), PosixPath('/Users/danaawamleh/Desktop/leaves/Basil (P8)/healthy/0008_0017.JPG'), PosixPath('/Users/danaawamleh/Desktop/leaves/Basil (P8)/healthy/0008_0016.JPG'), PosixPath('/Users/danaawamleh/Desktop/leaves/Basil (P8)/healthy/0008_0002.JPG'), PosixPath('/Users/danaawamleh/Desktop/leaves/Basil (P8)/healthy/0008_0148.JPG'), PosixPath('/Users/danaawamleh/Desktop/leaves/Basil (P8)/healthy/0008_0028.JPG'), PosixPath('/Users/danaawamleh/Desktop/leaves/Basil (P8)/healthy/0008_0014.JPG'), PosixPath('/Users/danaawamleh/Desktop/leaves/Basil (P8)/healthy/0008_0001.JPG'), PosixPath('/Users/danaawamleh/Desktop/leaves/Basil (P8)/healthy/0008_0015.JPG'), PosixPath('/Users/danaawamleh/Desktop/leaves/Basil (P8)/healthy/0008_0029.JPG'), PosixPath('/Users/danaawamleh/Desktop/leaves/Basil (P8)/healthy/0008_0144.JPG'), PosixPath('/Users/danaawamleh/Desktop/leaves/Basil (P8)/healthy/0008_0030.JPG'), PosixPath('/Users/danaawamleh/Desktop/leaves/Basil (P8)/healthy/0008_0024.JPG'), PosixPath('/Users/danaawamleh/Desktop/leaves/Basil (P8)/healthy/0008_0018.JPG'), PosixPath('/Users/danaawamleh/Desktop/leaves/Basil (P8)/healthy/0008_0019.JPG'), PosixPath('/Users/danaawamleh/Desktop/leaves/Basil (P8)/healthy/0008_0025.JPG'), PosixPath('/Users/danaawamleh/Desktop/leaves/Basil (P8)/healthy/0008_0031.JPG'), PosixPath('/Users/danaawamleh/Desktop/leaves/Basil (P8)/healthy/0008_0145.JPG'), PosixPath('/Users/danaawamleh/Desktop/leaves/Basil (P8)/healthy/0008_0147.JPG'), PosixPath('/Users/danaawamleh/Desktop/leaves/Basil (P8)/healthy/0008_0027.JPG'), PosixPath('/Users/danaawamleh/Desktop/leaves/Basil (P8)/healthy/0008_0033.JPG'), PosixPath('/Users/danaawamleh/Desktop/leaves/Basil (P8)/healthy/0008_0032.JPG'), PosixPath('/Users/danaawamleh/Desktop/leaves/Basil (P8)/healthy/0008_0026.JPG'), PosixPath('/Users/danaawamleh/Desktop/leaves/Basil (P8)/healthy/0008_0146.JPG'), PosixPath('/Users/danaawamleh/Desktop/leaves/Basil (P8)/healthy/0008_0142.JPG'), PosixPath('/Users/danaawamleh/Desktop/leaves/Basil (P8)/healthy/0008_0022.JPG'), PosixPath('/Users/danaawamleh/Desktop/leaves/Basil (P8)/healthy/0008_0036.JPG'), PosixPath('/Users/danaawamleh/Desktop/leaves/Basil (P8)/healthy/0008_0037.JPG'), PosixPath('/Users/danaawamleh/Desktop/leaves/Basil (P8)/healthy/0008_0023.JPG'), PosixPath('/Users/danaawamleh/Desktop/leaves/Basil (P8)/healthy/0008_0143.JPG'), PosixPath('/Users/danaawamleh/Desktop/leaves/Basil (P8)/healthy/0008_0141.JPG'), PosixPath('/Users/danaawamleh/Desktop/leaves/Basil (P8)/healthy/0008_0009.JPG'), PosixPath('/Users/danaawamleh/Desktop/leaves/Basil (P8)/healthy/0008_0035.JPG'), PosixPath('/Users/danaawamleh/Desktop/leaves/Basil (P8)/healthy/0008_0021.JPG'), PosixPath('/Users/danaawamleh/Desktop/leaves/Basil (P8)/healthy/0008_0020.JPG'), PosixPath('/Users/danaawamleh/Desktop/leaves/Basil (P8)/healthy/0008_0034.JPG'), PosixPath('/Users/danaawamleh/Desktop/leaves/Basil (P8)/healthy/0008_0008.JPG'), PosixPath('/Users/danaawamleh/Desktop/leaves/Basil (P8)/healthy/0008_0140.JPG'), PosixPath('/Users/danaawamleh/Desktop/leaves/Basil (P8)/healthy/0008_0127.JPG'), PosixPath('/Users/danaawamleh/Desktop/leaves/Basil (P8)/healthy/0008_0133.JPG'), PosixPath('/Users/danaawamleh/Desktop/leaves/Basil (P8)/healthy/0008_0053.JPG'), PosixPath('/Users/danaawamleh/Desktop/leaves/Basil (P8)/healthy/0008_0047.JPG'), PosixPath('/Users/danaawamleh/Desktop/leaves/Basil (P8)/healthy/0008_0090.JPG'), PosixPath('/Users/danaawamleh/Desktop/leaves/Basil (P8)/healthy/0008_0084.JPG'), PosixPath('/Users/danaawamleh/Desktop/leaves/Basil (P8)/healthy/0008_0085.JPG'), PosixPath('/Users/danaawamleh/Desktop/leaves/Basil (P8)/healthy/0008_0091.JPG'), PosixPath('/Users/danaawamleh/Desktop/leaves/Basil (P8)/healthy/0008_0046.JPG'), PosixPath('/Users/danaawamleh/Desktop/leaves/Basil (P8)/healthy/0008_0052.JPG'), PosixPath('/Users/danaawamleh/Desktop/leaves/Basil (P8)/healthy/0008_0132.JPG'), PosixPath('/Users/danaawamleh/Desktop/leaves/Basil (P8)/healthy/0008_0126.JPG'), PosixPath('/Users/danaawamleh/Desktop/leaves/Basil (P8)/healthy/0008_0130.JPG'), PosixPath('/Users/danaawamleh/Desktop/leaves/Basil (P8)/healthy/0008_0124.JPG'), PosixPath('/Users/danaawamleh/Desktop/leaves/Basil (P8)/healthy/0008_0118.JPG'), PosixPath('/Users/danaawamleh/Desktop/leaves/Basil (P8)/healthy/0008_0044.JPG'), PosixPath('/Users/danaawamleh/Desktop/leaves/Basil (P8)/healthy/0008_0050.JPG'), PosixPath('/Users/danaawamleh/Desktop/leaves/Basil (P8)/healthy/0008_0078.JPG'), PosixPath('/Users/danaawamleh/Desktop/leaves/Basil (P8)/healthy/0008_0087.JPG'), PosixPath('/Users/danaawamleh/Desktop/leaves/Basil (P8)/healthy/0008_0093.JPG'), PosixPath('/Users/danaawamleh/Desktop/leaves/Basil (P8)/healthy/0008_0092.JPG'), PosixPath('/Users/danaawamleh/Desktop/leaves/Basil (P8)/healthy/0008_0086.JPG'), PosixPath('/Users/danaawamleh/Desktop/leaves/Basil (P8)/healthy/0008_0079.JPG'), PosixPath('/Users/danaawamleh/Desktop/leaves/Basil (P8)/healthy/0008_0051.JPG'), PosixPath('/Users/danaawamleh/Desktop/leaves/Basil (P8)/healthy/0008_0045.JPG'), PosixPath('/Users/danaawamleh/Desktop/leaves/Basil (P8)/healthy/0008_0119.JPG'), PosixPath('/Users/danaawamleh/Desktop/leaves/Basil (P8)/healthy/0008_0125.JPG'), PosixPath('/Users/danaawamleh/Desktop/leaves/Basil (P8)/healthy/0008_0131.JPG'), PosixPath('/Users/danaawamleh/Desktop/leaves/Basil (P8)/healthy/0008_0109.JPG'), PosixPath('/Users/danaawamleh/Desktop/leaves/Basil (P8)/healthy/0008_0135.JPG'), PosixPath('/Users/danaawamleh/Desktop/leaves/Basil (P8)/healthy/0008_0121.JPG'), PosixPath('/Users/danaawamleh/Desktop/leaves/Basil (P8)/healthy/0008_0069.JPG'), PosixPath('/Users/danaawamleh/Desktop/leaves/Basil (P8)/healthy/0008_0041.JPG'), PosixPath('/Users/danaawamleh/Desktop/leaves/Basil (P8)/healthy/0008_0055.JPG'), PosixPath('/Users/danaawamleh/Desktop/leaves/Basil (P8)/healthy/0008_0082.JPG'), PosixPath('/Users/danaawamleh/Desktop/leaves/Basil (P8)/healthy/0008_0096.JPG'), PosixPath('/Users/danaawamleh/Desktop/leaves/Basil (P8)/healthy/0008_0097.JPG'), PosixPath('/Users/danaawamleh/Desktop/leaves/Basil (P8)/healthy/0008_0083.JPG'), PosixPath('/Users/danaawamleh/Desktop/leaves/Basil (P8)/healthy/0008_0054.JPG'), PosixPath('/Users/danaawamleh/Desktop/leaves/Basil (P8)/healthy/0008_0040.JPG'), PosixPath('/Users/danaawamleh/Desktop/leaves/Basil (P8)/healthy/0008_0068.JPG'), PosixPath('/Users/danaawamleh/Desktop/leaves/Basil (P8)/healthy/0008_0120.JPG'), PosixPath('/Users/danaawamleh/Desktop/leaves/Basil (P8)/healthy/0008_0134.JPG'), PosixPath('/Users/danaawamleh/Desktop/leaves/Basil (P8)/healthy/0008_0108.JPG'), PosixPath('/Users/danaawamleh/Desktop/leaves/Basil (P8)/healthy/0008_0122.JPG'), PosixPath('/Users/danaawamleh/Desktop/leaves/Basil (P8)/healthy/0008_0136.JPG'), PosixPath('/Users/danaawamleh/Desktop/leaves/Basil (P8)/healthy/0008_0056.JPG'), PosixPath('/Users/danaawamleh/Desktop/leaves/Basil (P8)/healthy/0008_0042.JPG'), PosixPath('/Users/danaawamleh/Desktop/leaves/Basil (P8)/healthy/0008_0095.JPG'), PosixPath('/Users/danaawamleh/Desktop/leaves/Basil (P8)/healthy/0008_0081.JPG'), PosixPath('/Users/danaawamleh/Desktop/leaves/Basil (P8)/healthy/0008_0080.JPG'), PosixPath('/Users/danaawamleh/Desktop/leaves/Basil (P8)/healthy/0008_0094.JPG'), PosixPath('/Users/danaawamleh/Desktop/leaves/Basil (P8)/healthy/0008_0043.JPG'), PosixPath('/Users/danaawamleh/Desktop/leaves/Basil (P8)/healthy/0008_0057.JPG'), PosixPath('/Users/danaawamleh/Desktop/leaves/Basil (P8)/healthy/0008_0137.JPG'), PosixPath('/Users/danaawamleh/Desktop/leaves/Basil (P8)/healthy/0008_0123.JPG'), PosixPath('/Users/danaawamleh/Desktop/leaves/Gauva (P3)/healthy/0004_0202.JPG'), PosixPath('/Users/danaawamleh/Desktop/leaves/Gauva (P3)/healthy/0004_0216.JPG'), PosixPath('/Users/danaawamleh/Desktop/leaves/Gauva (P3)/healthy/0004_0028.JPG'), PosixPath('/Users/danaawamleh/Desktop/leaves/Gauva (P3)/healthy/0004_0014.JPG'), PosixPath('/Users/danaawamleh/Desktop/leaves/Gauva (P3)/healthy/0004_0148.JPG'), PosixPath('/Users/danaawamleh/Desktop/leaves/Gauva (P3)/healthy/0004_0174.JPG'), PosixPath('/Users/danaawamleh/Desktop/leaves/Gauva (P3)/healthy/0004_0160.JPG'), PosixPath('/Users/danaawamleh/Desktop/leaves/Gauva (P3)/healthy/0004_0161.JPG'), PosixPath('/Users/danaawamleh/Desktop/leaves/Gauva (P3)/healthy/0004_0175.JPG'), PosixPath('/Users/danaawamleh/Desktop/leaves/Gauva (P3)/healthy/0004_0149.JPG'), PosixPath('/Users/danaawamleh/Desktop/leaves/Gauva (P3)/healthy/0004_0015.JPG'), PosixPath('/Users/danaawamleh/Desktop/leaves/Gauva (P3)/healthy/0004_0001.JPG'), PosixPath('/Users/danaawamleh/Desktop/leaves/Gauva (P3)/healthy/0004_0029.JPG'), PosixPath('/Users/danaawamleh/Desktop/leaves/Gauva (P3)/healthy/0004_0217.JPG'), PosixPath('/Users/danaawamleh/Desktop/leaves/Gauva (P3)/healthy/0004_0203.JPG'), PosixPath('/Users/danaawamleh/Desktop/leaves/Gauva (P3)/healthy/0004_0229.JPG'), PosixPath('/Users/danaawamleh/Desktop/leaves/Gauva (P3)/healthy/0004_0215.JPG'), PosixPath('/Users/danaawamleh/Desktop/leaves/Gauva (P3)/healthy/0004_0201.JPG'), PosixPath('/Users/danaawamleh/Desktop/leaves/Gauva (P3)/healthy/0004_0017.JPG'), PosixPath('/Users/danaawamleh/Desktop/leaves/Gauva (P3)/healthy/0004_0003.JPG'), PosixPath('/Users/danaawamleh/Desktop/leaves/Gauva (P3)/healthy/0004_0188.JPG'), PosixPath('/Users/danaawamleh/Desktop/leaves/Gauva (P3)/healthy/0004_0163.JPG'), PosixPath('/Users/danaawamleh/Desktop/leaves/Gauva (P3)/healthy/0004_0177.JPG'), PosixPath('/Users/danaawamleh/Desktop/leaves/Gauva (P3)/healthy/0004_0176.JPG'), PosixPath('/Users/danaawamleh/Desktop/leaves/Gauva (P3)/healthy/0004_0162.JPG'), PosixPath('/Users/danaawamleh/Desktop/leaves/Gauva (P3)/healthy/0004_0189.JPG'), PosixPath('/Users/danaawamleh/Desktop/leaves/Gauva (P3)/healthy/0004_0002.JPG'), PosixPath('/Users/danaawamleh/Desktop/leaves/Gauva (P3)/healthy/0004_0016.JPG'), PosixPath('/Users/danaawamleh/Desktop/leaves/Gauva (P3)/healthy/0004_0200.JPG'), PosixPath('/Users/danaawamleh/Desktop/leaves/Gauva (P3)/healthy/0004_0214.JPG'), PosixPath('/Users/danaawamleh/Desktop/leaves/Gauva (P3)/healthy/0004_0228.JPG'), PosixPath('/Users/danaawamleh/Desktop/leaves/Gauva (P3)/healthy/0004_0210.JPG'), PosixPath('/Users/danaawamleh/Desktop/leaves/Gauva (P3)/healthy/0004_0204.JPG'), PosixPath('/Users/danaawamleh/Desktop/leaves/Gauva (P3)/healthy/0004_0238.JPG'), PosixPath('/Users/danaawamleh/Desktop/leaves/Gauva (P3)/healthy/0004_0012.JPG'), PosixPath('/Users/danaawamleh/Desktop/leaves/Gauva (P3)/healthy/0004_0006.JPG'), PosixPath('/Users/danaawamleh/Desktop/leaves/Gauva (P3)/healthy/0004_0199.JPG'), PosixPath('/Users/danaawamleh/Desktop/leaves/Gauva (P3)/healthy/0004_0166.JPG'), PosixPath('/Users/danaawamleh/Desktop/leaves/Gauva (P3)/healthy/0004_0172.JPG'), PosixPath('/Users/danaawamleh/Desktop/leaves/Gauva (P3)/healthy/0004_0173.JPG'), PosixPath('/Users/danaawamleh/Desktop/leaves/Gauva (P3)/healthy/0004_0167.JPG'), PosixPath('/Users/danaawamleh/Desktop/leaves/Gauva (P3)/healthy/0004_0198.JPG'), PosixPath('/Users/danaawamleh/Desktop/leaves/Gauva (P3)/healthy/0004_0007.JPG'), PosixPath('/Users/danaawamleh/Desktop/leaves/Gauva (P3)/healthy/0004_0013.JPG'), PosixPath('/Users/danaawamleh/Desktop/leaves/Gauva (P3)/healthy/0004_0239.JPG'), PosixPath('/Users/danaawamleh/Desktop/leaves/Gauva (P3)/healthy/0004_0205.JPG'), PosixPath('/Users/danaawamleh/Desktop/leaves/Gauva (P3)/healthy/0004_0211.JPG'), PosixPath('/Users/danaawamleh/Desktop/leaves/Gauva (P3)/healthy/0004_0207.JPG'), PosixPath('/Users/danaawamleh/Desktop/leaves/Gauva (P3)/healthy/0004_0213.JPG'), PosixPath('/Users/danaawamleh/Desktop/leaves/Gauva (P3)/healthy/0004_0005.JPG'), PosixPath('/Users/danaawamleh/Desktop/leaves/Gauva (P3)/healthy/0004_0011.JPG'), PosixPath('/Users/danaawamleh/Desktop/leaves/Gauva (P3)/healthy/0004_0039.JPG'), PosixPath('/Users/danaawamleh/Desktop/leaves/Gauva (P3)/healthy/0004_0171.JPG'), PosixPath('/Users/danaawamleh/Desktop/leaves/Gauva (P3)/healthy/0004_0165.JPG'), PosixPath('/Users/danaawamleh/Desktop/leaves/Gauva (P3)/healthy/0004_0159.JPG'), PosixPath('/Users/danaawamleh/Desktop/leaves/Gauva (P3)/healthy/0004_0158.JPG'), PosixPath('/Users/danaawamleh/Desktop/leaves/Gauva (P3)/healthy/0004_0164.JPG'), PosixPath('/Users/danaawamleh/Desktop/leaves/Gauva (P3)/healthy/0004_0170.JPG'), PosixPath('/Users/danaawamleh/Desktop/leaves/Gauva (P3)/healthy/0004_0038.JPG'), PosixPath('/Users/danaawamleh/Desktop/leaves/Gauva (P3)/healthy/0004_0010.JPG'), PosixPath('/Users/danaawamleh/Desktop/leaves/Gauva (P3)/healthy/0004_0004.JPG'), PosixPath('/Users/danaawamleh/Desktop/leaves/Gauva (P3)/healthy/0004_0212.JPG'), PosixPath('/Users/danaawamleh/Desktop/leaves/Gauva (P3)/healthy/0004_0206.JPG'), PosixPath('/Users/danaawamleh/Desktop/leaves/Gauva (P3)/healthy/0004_0249.JPG'), PosixPath('/Users/danaawamleh/Desktop/leaves/Gauva (P3)/healthy/0004_0261.JPG'), PosixPath('/Users/danaawamleh/Desktop/leaves/Gauva (P3)/healthy/0004_0275.JPG'), PosixPath('/Users/danaawamleh/Desktop/leaves/Gauva (P3)/healthy/0004_0088.JPG'), PosixPath('/Users/danaawamleh/Desktop/leaves/Gauva (P3)/healthy/0004_0063.JPG'), PosixPath('/Users/danaawamleh/Desktop/leaves/Gauva (P3)/healthy/0004_0077.JPG'), PosixPath('/Users/danaawamleh/Desktop/leaves/Gauva (P3)/healthy/0004_0117.JPG'), PosixPath('/Users/danaawamleh/Desktop/leaves/Gauva (P3)/healthy/0004_0103.JPG'), PosixPath('/Users/danaawamleh/Desktop/leaves/Gauva (P3)/healthy/0004_0102.JPG'), PosixPath('/Users/danaawamleh/Desktop/leaves/Gauva (P3)/healthy/0004_0116.JPG'), PosixPath('/Users/danaawamleh/Desktop/leaves/Gauva (P3)/healthy/0004_0076.JPG'), PosixPath('/Users/danaawamleh/Desktop/leaves/Gauva (P3)/healthy/0004_0062.JPG'), PosixPath('/Users/danaawamleh/Desktop/leaves/Gauva (P3)/healthy/0004_0089.JPG'), PosixPath('/Users/danaawamleh/Desktop/leaves/Gauva (P3)/healthy/0004_0274.JPG'), PosixPath('/Users/danaawamleh/Desktop/leaves/Gauva (P3)/healthy/0004_0260.JPG'), PosixPath('/Users/danaawamleh/Desktop/leaves/Gauva (P3)/healthy/0004_0248.JPG'), PosixPath('/Users/danaawamleh/Desktop/leaves/Gauva (P3)/healthy/0004_0276.JPG'), PosixPath('/Users/danaawamleh/Desktop/leaves/Gauva (P3)/healthy/0004_0262.JPG'), PosixPath('/Users/danaawamleh/Desktop/leaves/Gauva (P3)/healthy/0004_0048.JPG'), PosixPath('/Users/danaawamleh/Desktop/leaves/Gauva (P3)/healthy/0004_0074.JPG'), PosixPath('/Users/danaawamleh/Desktop/leaves/Gauva (P3)/healthy/0004_0060.JPG'), PosixPath('/Users/danaawamleh/Desktop/leaves/Gauva (P3)/healthy/0004_0128.JPG'), PosixPath('/Users/danaawamleh/Desktop/leaves/Gauva (P3)/healthy/0004_0100.JPG'), PosixPath('/Users/danaawamleh/Desktop/leaves/Gauva (P3)/healthy/0004_0114.JPG'), PosixPath('/Users/danaawamleh/Desktop/leaves/Gauva (P3)/healthy/0004_0115.JPG'), PosixPath('/Users/danaawamleh/Desktop/leaves/Gauva (P3)/healthy/0004_0101.JPG'), PosixPath('/Users/danaawamleh/Desktop/leaves/Gauva (P3)/healthy/0004_0129.JPG'), PosixPath('/Users/danaawamleh/Desktop/leaves/Gauva (P3)/healthy/0004_0061.JPG'), PosixPath('/Users/danaawamleh/Desktop/leaves/Gauva (P3)/healthy/0004_0075.JPG'), PosixPath('/Users/danaawamleh/Desktop/leaves/Gauva (P3)/healthy/0004_0049.JPG'), PosixPath('/Users/danaawamleh/Desktop/leaves/Gauva (P3)/healthy/0004_0263.JPG'), PosixPath('/Users/danaawamleh/Desktop/leaves/Gauva (P3)/healthy/0004_0277.JPG'), PosixPath('/Users/danaawamleh/Desktop/leaves/Gauva (P3)/healthy/0004_0273.JPG'), PosixPath('/Users/danaawamleh/Desktop/leaves/Gauva (P3)/healthy/0004_0267.JPG'), PosixPath('/Users/danaawamleh/Desktop/leaves/Gauva (P3)/healthy/0004_0071.JPG'), PosixPath('/Users/danaawamleh/Desktop/leaves/Gauva (P3)/healthy/0004_0065.JPG'), PosixPath('/Users/danaawamleh/Desktop/leaves/Gauva (P3)/healthy/0004_0059.JPG'), PosixPath('/Users/danaawamleh/Desktop/leaves/Gauva (P3)/healthy/0004_0105.JPG'), PosixPath('/Users/danaawamleh/Desktop/leaves/Gauva (P3)/healthy/0004_0111.JPG'), PosixPath('/Users/danaawamleh/Desktop/leaves/Gauva (P3)/healthy/0004_0139.JPG'), PosixPath('/Users/danaawamleh/Desktop/leaves/Gauva (P3)/healthy/0004_0138.JPG'), PosixPath('/Users/danaawamleh/Desktop/leaves/Gauva (P3)/healthy/0004_0110.JPG'), PosixPath('/Users/danaawamleh/Desktop/leaves/Gauva (P3)/healthy/0004_0104.JPG'), PosixPath('/Users/danaawamleh/Desktop/leaves/Gauva (P3)/healthy/0004_0058.JPG'), PosixPath('/Users/danaawamleh/Desktop/leaves/Gauva (P3)/healthy/0004_0064.JPG'), PosixPath('/Users/danaawamleh/Desktop/leaves/Gauva (P3)/healthy/0004_0070.JPG'), PosixPath('/Users/danaawamleh/Desktop/leaves/Gauva (P3)/healthy/0004_0266.JPG'), PosixPath('/Users/danaawamleh/Desktop/leaves/Gauva (P3)/healthy/0004_0272.JPG'), PosixPath('/Users/danaawamleh/Desktop/leaves/Gauva (P3)/healthy/0004_0264.JPG'), PosixPath('/Users/danaawamleh/Desktop/leaves/Gauva (P3)/healthy/0004_0270.JPG'), PosixPath('/Users/danaawamleh/Desktop/leaves/Gauva (P3)/healthy/0004_0258.JPG'), PosixPath('/Users/danaawamleh/Desktop/leaves/Gauva (P3)/healthy/0004_0099.JPG'), PosixPath('/Users/danaawamleh/Desktop/leaves/Gauva (P3)/healthy/0004_0066.JPG'), PosixPath('/Users/danaawamleh/Desktop/leaves/Gauva (P3)/healthy/0004_0072.JPG'), PosixPath('/Users/danaawamleh/Desktop/leaves/Gauva (P3)/healthy/0004_0112.JPG'), PosixPath('/Users/danaawamleh/Desktop/leaves/Gauva (P3)/healthy/0004_0106.JPG'), PosixPath('/Users/danaawamleh/Desktop/leaves/Gauva (P3)/healthy/0004_0107.JPG'), PosixPath('/Users/danaawamleh/Desktop/leaves/Gauva (P3)/healthy/0004_0113.JPG'), PosixPath('/Users/danaawamleh/Desktop/leaves/Gauva (P3)/healthy/0004_0073.JPG'), PosixPath('/Users/danaawamleh/Desktop/leaves/Gauva (P3)/healthy/0004_0067.JPG'), PosixPath('/Users/danaawamleh/Desktop/leaves/Gauva (P3)/healthy/0004_0098.JPG'), PosixPath('/Users/danaawamleh/Desktop/leaves/Gauva (P3)/healthy/0004_0259.JPG'), PosixPath('/Users/danaawamleh/Desktop/leaves/Gauva (P3)/healthy/0004_0271.JPG'), PosixPath('/Users/danaawamleh/Desktop/leaves/Gauva (P3)/healthy/0004_0265.JPG'), PosixPath('/Users/danaawamleh/Desktop/leaves/Gauva (P3)/healthy/0004_0268.JPG'), PosixPath('/Users/danaawamleh/Desktop/leaves/Gauva (P3)/healthy/0004_0240.JPG'), PosixPath('/Users/danaawamleh/Desktop/leaves/Gauva (P3)/healthy/0004_0254.JPG'), PosixPath('/Users/danaawamleh/Desktop/leaves/Gauva (P3)/healthy/0004_0081.JPG'), PosixPath('/Users/danaawamleh/Desktop/leaves/Gauva (P3)/healthy/0004_0095.JPG'), PosixPath('/Users/danaawamleh/Desktop/leaves/Gauva (P3)/healthy/0004_0042.JPG'), PosixPath('/Users/danaawamleh/Desktop/leaves/Gauva (P3)/healthy/0004_0056.JPG'), PosixPath('/Users/danaawamleh/Desktop/leaves/Gauva (P3)/healthy/0004_0136.JPG'), PosixPath('/Users/danaawamleh/Desktop/leaves/Gauva (P3)/healthy/0004_0122.JPG'), PosixPath('/Users/danaawamleh/Desktop/leaves/Gauva (P3)/healthy/0004_0123.JPG'), PosixPath('/Users/danaawamleh/Desktop/leaves/Gauva (P3)/healthy/0004_0137.JPG'), PosixPath('/Users/danaawamleh/Desktop/leaves/Gauva (P3)/healthy/0004_0057.JPG'), PosixPath('/Users/danaawamleh/Desktop/leaves/Gauva (P3)/healthy/0004_0043.JPG'), PosixPath('/Users/danaawamleh/Desktop/leaves/Gauva (P3)/healthy/0004_0094.JPG'), PosixPath('/Users/danaawamleh/Desktop/leaves/Gauva (P3)/healthy/0004_0080.JPG'), PosixPath('/Users/danaawamleh/Desktop/leaves/Gauva (P3)/healthy/0004_0255.JPG'), PosixPath('/Users/danaawamleh/Desktop/leaves/Gauva (P3)/healthy/0004_0241.JPG'), PosixPath('/Users/danaawamleh/Desktop/leaves/Gauva (P3)/healthy/0004_0269.JPG'), PosixPath('/Users/danaawamleh/Desktop/leaves/Gauva (P3)/healthy/0004_0257.JPG'), PosixPath('/Users/danaawamleh/Desktop/leaves/Gauva (P3)/healthy/0004_0243.JPG'), PosixPath('/Users/danaawamleh/Desktop/leaves/Gauva (P3)/healthy/0004_0096.JPG'), PosixPath('/Users/danaawamleh/Desktop/leaves/Gauva (P3)/healthy/0004_0082.JPG'), PosixPath('/Users/danaawamleh/Desktop/leaves/Gauva (P3)/healthy/0004_0069.JPG'), PosixPath('/Users/danaawamleh/Desktop/leaves/Gauva (P3)/healthy/0004_0055.JPG'), PosixPath('/Users/danaawamleh/Desktop/leaves/Gauva (P3)/healthy/0004_0041.JPG'), PosixPath('/Users/danaawamleh/Desktop/leaves/Gauva (P3)/healthy/0004_0109.JPG'), PosixPath('/Users/danaawamleh/Desktop/leaves/Gauva (P3)/healthy/0004_0121.JPG'), PosixPath('/Users/danaawamleh/Desktop/leaves/Gauva (P3)/healthy/0004_0135.JPG'), PosixPath('/Users/danaawamleh/Desktop/leaves/Gauva (P3)/healthy/0004_0134.JPG'), PosixPath('/Users/danaawamleh/Desktop/leaves/Gauva (P3)/healthy/0004_0120.JPG'), PosixPath('/Users/danaawamleh/Desktop/leaves/Gauva (P3)/healthy/0004_0108.JPG'), PosixPath('/Users/danaawamleh/Desktop/leaves/Gauva (P3)/healthy/0004_0040.JPG'), PosixPath('/Users/danaawamleh/Desktop/leaves/Gauva (P3)/healthy/0004_0054.JPG'), PosixPath('/Users/danaawamleh/Desktop/leaves/Gauva (P3)/healthy/0004_0068.JPG'), PosixPath('/Users/danaawamleh/Desktop/leaves/Gauva (P3)/healthy/0004_0083.JPG'), PosixPath('/Users/danaawamleh/Desktop/leaves/Gauva (P3)/healthy/0004_0097.JPG'), PosixPath('/Users/danaawamleh/Desktop/leaves/Gauva (P3)/healthy/0004_0242.JPG'), PosixPath('/Users/danaawamleh/Desktop/leaves/Gauva (P3)/healthy/0004_0256.JPG'), PosixPath('/Users/danaawamleh/Desktop/leaves/Gauva (P3)/healthy/0004_0252.JPG'), PosixPath('/Users/danaawamleh/Desktop/leaves/Gauva (P3)/healthy/0004_0246.JPG'), PosixPath('/Users/danaawamleh/Desktop/leaves/Gauva (P3)/healthy/0004_0093.JPG'), PosixPath('/Users/danaawamleh/Desktop/leaves/Gauva (P3)/healthy/0004_0087.JPG'), PosixPath('/Users/danaawamleh/Desktop/leaves/Gauva (P3)/healthy/0004_0050.JPG'), PosixPath('/Users/danaawamleh/Desktop/leaves/Gauva (P3)/healthy/0004_0044.JPG'), PosixPath('/Users/danaawamleh/Desktop/leaves/Gauva (P3)/healthy/0004_0078.JPG'), PosixPath('/Users/danaawamleh/Desktop/leaves/Gauva (P3)/healthy/0004_0124.JPG'), PosixPath('/Users/danaawamleh/Desktop/leaves/Gauva (P3)/healthy/0004_0130.JPG'), PosixPath('/Users/danaawamleh/Desktop/leaves/Gauva (P3)/healthy/0004_0118.JPG'), PosixPath('/Users/danaawamleh/Desktop/leaves/Gauva (P3)/healthy/0004_0119.JPG'), PosixPath('/Users/danaawamleh/Desktop/leaves/Gauva (P3)/healthy/0004_0131.JPG'), PosixPath('/Users/danaawamleh/Desktop/leaves/Gauva (P3)/healthy/0004_0125.JPG'), PosixPath('/Users/danaawamleh/Desktop/leaves/Gauva (P3)/healthy/0004_0079.JPG'), PosixPath('/Users/danaawamleh/Desktop/leaves/Gauva (P3)/healthy/0004_0045.JPG'), PosixPath('/Users/danaawamleh/Desktop/leaves/Gauva (P3)/healthy/0004_0051.JPG'), PosixPath('/Users/danaawamleh/Desktop/leaves/Gauva (P3)/healthy/0004_0086.JPG'), PosixPath('/Users/danaawamleh/Desktop/leaves/Gauva (P3)/healthy/0004_0092.JPG'), PosixPath('/Users/danaawamleh/Desktop/leaves/Gauva (P3)/healthy/0004_0247.JPG'), PosixPath('/Users/danaawamleh/Desktop/leaves/Gauva (P3)/healthy/0004_0253.JPG'), PosixPath('/Users/danaawamleh/Desktop/leaves/Gauva (P3)/healthy/0004_0245.JPG'), PosixPath('/Users/danaawamleh/Desktop/leaves/Gauva (P3)/healthy/0004_0251.JPG'), PosixPath('/Users/danaawamleh/Desktop/leaves/Gauva (P3)/healthy/0004_0084.JPG'), PosixPath('/Users/danaawamleh/Desktop/leaves/Gauva (P3)/healthy/0004_0090.JPG'), PosixPath('/Users/danaawamleh/Desktop/leaves/Gauva (P3)/healthy/0004_0047.JPG'), PosixPath('/Users/danaawamleh/Desktop/leaves/Gauva (P3)/healthy/0004_0053.JPG'), PosixPath('/Users/danaawamleh/Desktop/leaves/Gauva (P3)/healthy/0004_0133.JPG'), PosixPath('/Users/danaawamleh/Desktop/leaves/Gauva (P3)/healthy/0004_0127.JPG'), PosixPath('/Users/danaawamleh/Desktop/leaves/Gauva (P3)/healthy/0004_0126.JPG'), PosixPath('/Users/danaawamleh/Desktop/leaves/Gauva (P3)/healthy/0004_0132.JPG'), PosixPath('/Users/danaawamleh/Desktop/leaves/Gauva (P3)/healthy/0004_0052.JPG'), PosixPath('/Users/danaawamleh/Desktop/leaves/Gauva (P3)/healthy/0004_0046.JPG'), PosixPath('/Users/danaawamleh/Desktop/leaves/Gauva (P3)/healthy/0004_0091.JPG'), PosixPath('/Users/danaawamleh/Desktop/leaves/Gauva (P3)/healthy/0004_0085.JPG'), PosixPath('/Users/danaawamleh/Desktop/leaves/Gauva (P3)/healthy/0004_0250.JPG'), PosixPath('/Users/danaawamleh/Desktop/leaves/Gauva (P3)/healthy/0004_0244.JPG'), PosixPath('/Users/danaawamleh/Desktop/leaves/Gauva (P3)/healthy/0004_0223.JPG'), PosixPath('/Users/danaawamleh/Desktop/leaves/Gauva (P3)/healthy/0004_0237.JPG'), PosixPath('/Users/danaawamleh/Desktop/leaves/Gauva (P3)/healthy/0004_0009.JPG'), PosixPath('/Users/danaawamleh/Desktop/leaves/Gauva (P3)/healthy/0004_0021.JPG'), PosixPath('/Users/danaawamleh/Desktop/leaves/Gauva (P3)/healthy/0004_0035.JPG'), PosixPath('/Users/danaawamleh/Desktop/leaves/Gauva (P3)/healthy/0004_0196.JPG'), PosixPath('/Users/danaawamleh/Desktop/leaves/Gauva (P3)/healthy/0004_0182.JPG'), PosixPath('/Users/danaawamleh/Desktop/leaves/Gauva (P3)/healthy/0004_0169.JPG'), PosixPath('/Users/danaawamleh/Desktop/leaves/Gauva (P3)/healthy/0004_0155.JPG'), PosixPath('/Users/danaawamleh/Desktop/leaves/Gauva (P3)/healthy/0004_0141.JPG'), PosixPath('/Users/danaawamleh/Desktop/leaves/Gauva (P3)/healthy/0004_0140.JPG'), PosixPath('/Users/danaawamleh/Desktop/leaves/Gauva (P3)/healthy/0004_0154.JPG'), PosixPath('/Users/danaawamleh/Desktop/leaves/Gauva (P3)/healthy/0004_0168.JPG'), PosixPath('/Users/danaawamleh/Desktop/leaves/Gauva (P3)/healthy/0004_0183.JPG'), PosixPath('/Users/danaawamleh/Desktop/leaves/Gauva (P3)/healthy/0004_0197.JPG'), PosixPath('/Users/danaawamleh/Desktop/leaves/Gauva (P3)/healthy/0004_0034.JPG'), PosixPath('/Users/danaawamleh/Desktop/leaves/Gauva (P3)/healthy/0004_0020.JPG'), PosixPath('/Users/danaawamleh/Desktop/leaves/Gauva (P3)/healthy/0004_0008.JPG'), PosixPath('/Users/danaawamleh/Desktop/leaves/Gauva (P3)/healthy/0004_0236.JPG'), PosixPath('/Users/danaawamleh/Desktop/leaves/Gauva (P3)/healthy/0004_0222.JPG'), PosixPath('/Users/danaawamleh/Desktop/leaves/Gauva (P3)/healthy/0004_0208.JPG'), PosixPath('/Users/danaawamleh/Desktop/leaves/Gauva (P3)/healthy/0004_0234.JPG'), PosixPath('/Users/danaawamleh/Desktop/leaves/Gauva (P3)/healthy/0004_0220.JPG'), PosixPath('/Users/danaawamleh/Desktop/leaves/Gauva (P3)/healthy/0004_0036.JPG'), PosixPath('/Users/danaawamleh/Desktop/leaves/Gauva (P3)/healthy/0004_0022.JPG'), PosixPath('/Users/danaawamleh/Desktop/leaves/Gauva (P3)/healthy/0004_0181.JPG'), PosixPath('/Users/danaawamleh/Desktop/leaves/Gauva (P3)/healthy/0004_0195.JPG'), PosixPath('/Users/danaawamleh/Desktop/leaves/Gauva (P3)/healthy/0004_0142.JPG'), PosixPath('/Users/danaawamleh/Desktop/leaves/Gauva (P3)/healthy/0004_0156.JPG'), PosixPath('/Users/danaawamleh/Desktop/leaves/Gauva (P3)/healthy/0004_0157.JPG'), PosixPath('/Users/danaawamleh/Desktop/leaves/Gauva (P3)/healthy/0004_0143.JPG'), PosixPath('/Users/danaawamleh/Desktop/leaves/Gauva (P3)/healthy/0004_0194.JPG'), PosixPath('/Users/danaawamleh/Desktop/leaves/Gauva (P3)/healthy/0004_0180.JPG'), PosixPath('/Users/danaawamleh/Desktop/leaves/Gauva (P3)/healthy/0004_0023.JPG'), PosixPath('/Users/danaawamleh/Desktop/leaves/Gauva (P3)/healthy/0004_0037.JPG'), PosixPath('/Users/danaawamleh/Desktop/leaves/Gauva (P3)/healthy/0004_0221.JPG'), PosixPath('/Users/danaawamleh/Desktop/leaves/Gauva (P3)/healthy/0004_0235.JPG'), PosixPath('/Users/danaawamleh/Desktop/leaves/Gauva (P3)/healthy/0004_0209.JPG'), PosixPath('/Users/danaawamleh/Desktop/leaves/Gauva (P3)/healthy/0004_0231.JPG'), PosixPath('/Users/danaawamleh/Desktop/leaves/Gauva (P3)/healthy/0004_0225.JPG'), PosixPath('/Users/danaawamleh/Desktop/leaves/Gauva (P3)/healthy/0004_0219.JPG'), PosixPath('/Users/danaawamleh/Desktop/leaves/Gauva (P3)/healthy/0004_0033.JPG'), PosixPath('/Users/danaawamleh/Desktop/leaves/Gauva (P3)/healthy/0004_0027.JPG'), PosixPath('/Users/danaawamleh/Desktop/leaves/Gauva (P3)/healthy/0004_0184.JPG'), PosixPath('/Users/danaawamleh/Desktop/leaves/Gauva (P3)/healthy/0004_0190.JPG'), PosixPath('/Users/danaawamleh/Desktop/leaves/Gauva (P3)/healthy/0004_0147.JPG'), PosixPath('/Users/danaawamleh/Desktop/leaves/Gauva (P3)/healthy/0004_0153.JPG'), PosixPath('/Users/danaawamleh/Desktop/leaves/Gauva (P3)/healthy/0004_0152.JPG'), PosixPath('/Users/danaawamleh/Desktop/leaves/Gauva (P3)/healthy/0004_0146.JPG'), PosixPath('/Users/danaawamleh/Desktop/leaves/Gauva (P3)/healthy/0004_0191.JPG'), PosixPath('/Users/danaawamleh/Desktop/leaves/Gauva (P3)/healthy/0004_0185.JPG'), PosixPath('/Users/danaawamleh/Desktop/leaves/Gauva (P3)/healthy/0004_0026.JPG'), PosixPath('/Users/danaawamleh/Desktop/leaves/Gauva (P3)/healthy/0004_0032.JPG'), PosixPath('/Users/danaawamleh/Desktop/leaves/Gauva (P3)/healthy/0004_0218.JPG'), PosixPath('/Users/danaawamleh/Desktop/leaves/Gauva (P3)/healthy/0004_0224.JPG'), PosixPath('/Users/danaawamleh/Desktop/leaves/Gauva (P3)/healthy/0004_0230.JPG'), PosixPath('/Users/danaawamleh/Desktop/leaves/Gauva (P3)/healthy/0004_0226.JPG'), PosixPath('/Users/danaawamleh/Desktop/leaves/Gauva (P3)/healthy/0004_0232.JPG'), PosixPath('/Users/danaawamleh/Desktop/leaves/Gauva (P3)/healthy/0004_0024.JPG'), PosixPath('/Users/danaawamleh/Desktop/leaves/Gauva (P3)/healthy/0004_0030.JPG'), PosixPath('/Users/danaawamleh/Desktop/leaves/Gauva (P3)/healthy/0004_0018.JPG'), PosixPath('/Users/danaawamleh/Desktop/leaves/Gauva (P3)/healthy/0004_0193.JPG'), PosixPath('/Users/danaawamleh/Desktop/leaves/Gauva (P3)/healthy/0004_0187.JPG'), PosixPath('/Users/danaawamleh/Desktop/leaves/Gauva (P3)/healthy/0004_0150.JPG'), PosixPath('/Users/danaawamleh/Desktop/leaves/Gauva (P3)/healthy/0004_0144.JPG'), PosixPath('/Users/danaawamleh/Desktop/leaves/Gauva (P3)/healthy/0004_0178.JPG'), PosixPath('/Users/danaawamleh/Desktop/leaves/Gauva (P3)/healthy/0004_0179.JPG'), PosixPath('/Users/danaawamleh/Desktop/leaves/Gauva (P3)/healthy/0004_0145.JPG'), PosixPath('/Users/danaawamleh/Desktop/leaves/Gauva (P3)/healthy/0004_0151.JPG'), PosixPath('/Users/danaawamleh/Desktop/leaves/Gauva (P3)/healthy/0004_0186.JPG'), PosixPath('/Users/danaawamleh/Desktop/leaves/Gauva (P3)/healthy/0004_0192.JPG'), PosixPath('/Users/danaawamleh/Desktop/leaves/Gauva (P3)/healthy/0004_0019.JPG'), PosixPath('/Users/danaawamleh/Desktop/leaves/Gauva (P3)/healthy/0004_0031.JPG'), PosixPath('/Users/danaawamleh/Desktop/leaves/Gauva (P3)/healthy/0004_0025.JPG'), PosixPath('/Users/danaawamleh/Desktop/leaves/Gauva (P3)/healthy/0004_0233.JPG'), PosixPath('/Users/danaawamleh/Desktop/leaves/Gauva (P3)/healthy/0004_0227.JPG'), PosixPath('/Users/danaawamleh/Desktop/leaves/1/healthy/0003_0071.JPG'), PosixPath('/Users/danaawamleh/Desktop/leaves/1/healthy/0003_0065.JPG'), PosixPath('/Users/danaawamleh/Desktop/leaves/1/healthy/0003_0059.JPG'), PosixPath('/Users/danaawamleh/Desktop/leaves/1/healthy/0003_0105.JPG'), PosixPath('/Users/danaawamleh/Desktop/leaves/1/healthy/0003_0111.JPG'), PosixPath('/Users/danaawamleh/Desktop/leaves/1/healthy/0003_0139.JPG'), PosixPath('/Users/danaawamleh/Desktop/leaves/1/healthy/0003_0138.JPG'), PosixPath('/Users/danaawamleh/Desktop/leaves/1/healthy/0003_0110.JPG'), PosixPath('/Users/danaawamleh/Desktop/leaves/1/healthy/0003_0104.JPG'), PosixPath('/Users/danaawamleh/Desktop/leaves/1/healthy/0003_0058.JPG'), PosixPath('/Users/danaawamleh/Desktop/leaves/1/healthy/0003_0064.JPG'), PosixPath('/Users/danaawamleh/Desktop/leaves/1/healthy/0003_0070.JPG'), PosixPath('/Users/danaawamleh/Desktop/leaves/1/healthy/0003_0099.JPG'), PosixPath('/Users/danaawamleh/Desktop/leaves/1/healthy/0003_0066.JPG'), PosixPath('/Users/danaawamleh/Desktop/leaves/1/healthy/0003_0072.JPG'), PosixPath('/Users/danaawamleh/Desktop/leaves/1/healthy/0003_0112.JPG'), PosixPath('/Users/danaawamleh/Desktop/leaves/1/healthy/0003_0106.JPG'), PosixPath('/Users/danaawamleh/Desktop/leaves/1/healthy/0003_0107.JPG'), PosixPath('/Users/danaawamleh/Desktop/leaves/1/healthy/0003_0113.JPG'), PosixPath('/Users/danaawamleh/Desktop/leaves/1/healthy/0003_0073.JPG'), PosixPath('/Users/danaawamleh/Desktop/leaves/1/healthy/0003_0067.JPG'), PosixPath('/Users/danaawamleh/Desktop/leaves/1/healthy/0003_0098.JPG'), PosixPath('/Users/danaawamleh/Desktop/leaves/1/healthy/0003_0088.JPG'), PosixPath('/Users/danaawamleh/Desktop/leaves/1/healthy/0003_0063.JPG'), PosixPath('/Users/danaawamleh/Desktop/leaves/1/healthy/0003_0077.JPG'), PosixPath('/Users/danaawamleh/Desktop/leaves/1/healthy/0003_0117.JPG'), PosixPath('/Users/danaawamleh/Desktop/leaves/1/healthy/0003_0103.JPG'), PosixPath('/Users/danaawamleh/Desktop/leaves/1/healthy/0003_0102.JPG'), PosixPath('/Users/danaawamleh/Desktop/leaves/1/healthy/0003_0116.JPG'), PosixPath('/Users/danaawamleh/Desktop/leaves/1/healthy/0003_0076.JPG'), PosixPath('/Users/danaawamleh/Desktop/leaves/1/healthy/0003_0062.JPG'), PosixPath('/Users/danaawamleh/Desktop/leaves/1/healthy/0003_0089.JPG'), PosixPath('/Users/danaawamleh/Desktop/leaves/1/healthy/0003_0048.JPG'), PosixPath('/Users/danaawamleh/Desktop/leaves/1/healthy/0003_0074.JPG'), PosixPath('/Users/danaawamleh/Desktop/leaves/1/healthy/0003_0060.JPG'), PosixPath('/Users/danaawamleh/Desktop/leaves/1/healthy/0003_0128.JPG'), PosixPath('/Users/danaawamleh/Desktop/leaves/1/healthy/0003_0100.JPG'), PosixPath('/Users/danaawamleh/Desktop/leaves/1/healthy/0003_0114.JPG'), PosixPath('/Users/danaawamleh/Desktop/leaves/1/healthy/0003_0115.JPG'), PosixPath('/Users/danaawamleh/Desktop/leaves/1/healthy/0003_0101.JPG'), PosixPath('/Users/danaawamleh/Desktop/leaves/1/healthy/0003_0129.JPG'), PosixPath('/Users/danaawamleh/Desktop/leaves/1/healthy/0003_0061.JPG'), PosixPath('/Users/danaawamleh/Desktop/leaves/1/healthy/0003_0075.JPG'), PosixPath('/Users/danaawamleh/Desktop/leaves/1/healthy/0003_0049.JPG'), PosixPath('/Users/danaawamleh/Desktop/leaves/1/healthy/0003_0012.JPG'), PosixPath('/Users/danaawamleh/Desktop/leaves/1/healthy/0003_0006.JPG'), PosixPath('/Users/danaawamleh/Desktop/leaves/1/healthy/0003_0166.JPG'), PosixPath('/Users/danaawamleh/Desktop/leaves/1/healthy/0003_0172.JPG'), PosixPath('/Users/danaawamleh/Desktop/leaves/1/healthy/0003_0173.JPG'), PosixPath('/Users/danaawamleh/Desktop/leaves/1/healthy/0003_0167.JPG'), PosixPath('/Users/danaawamleh/Desktop/leaves/1/healthy/0003_0007.JPG'), PosixPath('/Users/danaawamleh/Desktop/leaves/1/healthy/0003_0013.JPG'), PosixPath('/Users/danaawamleh/Desktop/leaves/1/healthy/0003_0005.JPG'), PosixPath('/Users/danaawamleh/Desktop/leaves/1/healthy/0003_0011.JPG'), PosixPath('/Users/danaawamleh/Desktop/leaves/1/healthy/0003_0039.JPG'), PosixPath('/Users/danaawamleh/Desktop/leaves/1/healthy/0003_0171.JPG'), PosixPath('/Users/danaawamleh/Desktop/leaves/1/healthy/0003_0165.JPG'), PosixPath('/Users/danaawamleh/Desktop/leaves/1/healthy/0003_0159.JPG'), PosixPath('/Users/danaawamleh/Desktop/leaves/1/healthy/0003_0158.JPG'), PosixPath('/Users/danaawamleh/Desktop/leaves/1/healthy/0003_0164.JPG'), PosixPath('/Users/danaawamleh/Desktop/leaves/1/healthy/0003_0170.JPG'), PosixPath('/Users/danaawamleh/Desktop/leaves/1/healthy/0003_0038.JPG'), PosixPath('/Users/danaawamleh/Desktop/leaves/1/healthy/0003_0010.JPG'), PosixPath('/Users/danaawamleh/Desktop/leaves/1/healthy/0003_0004.JPG'), PosixPath('/Users/danaawamleh/Desktop/leaves/1/healthy/0003_0028.JPG'), PosixPath('/Users/danaawamleh/Desktop/leaves/1/healthy/0003_0014.JPG'), PosixPath('/Users/danaawamleh/Desktop/leaves/1/healthy/0003_0148.JPG'), PosixPath('/Users/danaawamleh/Desktop/leaves/1/healthy/0003_0174.JPG'), PosixPath('/Users/danaawamleh/Desktop/leaves/1/healthy/0003_0160.JPG'), PosixPath('/Users/danaawamleh/Desktop/leaves/1/healthy/0003_0161.JPG'), PosixPath('/Users/danaawamleh/Desktop/leaves/1/healthy/0003_0175.JPG'), PosixPath('/Users/danaawamleh/Desktop/leaves/1/healthy/0003_0149.JPG'), PosixPath('/Users/danaawamleh/Desktop/leaves/1/healthy/0003_0015.JPG'), PosixPath('/Users/danaawamleh/Desktop/leaves/1/healthy/0003_0001.JPG'), PosixPath('/Users/danaawamleh/Desktop/leaves/1/healthy/0003_0029.JPG'), PosixPath('/Users/danaawamleh/Desktop/leaves/1/healthy/0003_0017.JPG'), PosixPath('/Users/danaawamleh/Desktop/leaves/1/healthy/0003_0003.JPG'), PosixPath('/Users/danaawamleh/Desktop/leaves/1/healthy/0003_0163.JPG'), PosixPath('/Users/danaawamleh/Desktop/leaves/1/healthy/0003_0177.JPG'), PosixPath('/Users/danaawamleh/Desktop/leaves/1/healthy/0003_0176.JPG'), PosixPath('/Users/danaawamleh/Desktop/leaves/1/healthy/0003_0162.JPG'), PosixPath('/Users/danaawamleh/Desktop/leaves/1/healthy/0003_0002.JPG'), PosixPath('/Users/danaawamleh/Desktop/leaves/1/healthy/0003_0016.JPG'), PosixPath('/Users/danaawamleh/Desktop/leaves/1/healthy/0003_0033.JPG'), PosixPath('/Users/danaawamleh/Desktop/leaves/1/healthy/0003_0027.JPG'), PosixPath('/Users/danaawamleh/Desktop/leaves/1/healthy/0003_0147.JPG'), PosixPath('/Users/danaawamleh/Desktop/leaves/1/healthy/0003_0153.JPG'), PosixPath('/Users/danaawamleh/Desktop/leaves/1/healthy/0003_0152.JPG'), PosixPath('/Users/danaawamleh/Desktop/leaves/1/healthy/0003_0146.JPG'), PosixPath('/Users/danaawamleh/Desktop/leaves/1/healthy/0003_0026.JPG'), PosixPath('/Users/danaawamleh/Desktop/leaves/1/healthy/0003_0032.JPG'), PosixPath('/Users/danaawamleh/Desktop/leaves/1/healthy/0003_0024.JPG'), PosixPath('/Users/danaawamleh/Desktop/leaves/1/healthy/0003_0030.JPG'), PosixPath('/Users/danaawamleh/Desktop/leaves/1/healthy/0003_0018.JPG'), PosixPath('/Users/danaawamleh/Desktop/leaves/1/healthy/0003_0150.JPG'), PosixPath('/Users/danaawamleh/Desktop/leaves/1/healthy/0003_0144.JPG'), PosixPath('/Users/danaawamleh/Desktop/leaves/1/healthy/0003_0178.JPG'), PosixPath('/Users/danaawamleh/Desktop/leaves/1/healthy/0003_0179.JPG'), PosixPath('/Users/danaawamleh/Desktop/leaves/1/healthy/0003_0145.JPG'), PosixPath('/Users/danaawamleh/Desktop/leaves/1/healthy/0003_0151.JPG'), PosixPath('/Users/danaawamleh/Desktop/leaves/1/healthy/0003_0019.JPG'), PosixPath('/Users/danaawamleh/Desktop/leaves/1/healthy/0003_0031.JPG'), PosixPath('/Users/danaawamleh/Desktop/leaves/1/healthy/0003_0025.JPG'), PosixPath('/Users/danaawamleh/Desktop/leaves/1/healthy/0003_0009.JPG'), PosixPath('/Users/danaawamleh/Desktop/leaves/1/healthy/0003_0021.JPG'), PosixPath('/Users/danaawamleh/Desktop/leaves/1/healthy/0003_0035.JPG'), PosixPath('/Users/danaawamleh/Desktop/leaves/1/healthy/0003_0169.JPG'), PosixPath('/Users/danaawamleh/Desktop/leaves/1/healthy/0003_0155.JPG'), PosixPath('/Users/danaawamleh/Desktop/leaves/1/healthy/0003_0141.JPG'), PosixPath('/Users/danaawamleh/Desktop/leaves/1/healthy/0003_0140.JPG'), PosixPath('/Users/danaawamleh/Desktop/leaves/1/healthy/0003_0154.JPG'), PosixPath('/Users/danaawamleh/Desktop/leaves/1/healthy/0003_0168.JPG'), PosixPath('/Users/danaawamleh/Desktop/leaves/1/healthy/0003_0034.JPG'), PosixPath('/Users/danaawamleh/Desktop/leaves/1/healthy/0003_0020.JPG'), PosixPath('/Users/danaawamleh/Desktop/leaves/1/healthy/0003_0008.JPG'), PosixPath('/Users/danaawamleh/Desktop/leaves/1/healthy/0003_0036.JPG'), PosixPath('/Users/danaawamleh/Desktop/leaves/1/healthy/0003_0022.JPG'), PosixPath('/Users/danaawamleh/Desktop/leaves/1/healthy/0003_0142.JPG'), PosixPath('/Users/danaawamleh/Desktop/leaves/1/healthy/0003_0156.JPG'), PosixPath('/Users/danaawamleh/Desktop/leaves/1/healthy/0003_0157.JPG'), PosixPath('/Users/danaawamleh/Desktop/leaves/1/healthy/0003_0143.JPG'), PosixPath('/Users/danaawamleh/Desktop/leaves/1/healthy/0003_0023.JPG'), PosixPath('/Users/danaawamleh/Desktop/leaves/1/healthy/0003_0037.JPG'), PosixPath('/Users/danaawamleh/Desktop/leaves/1/healthy/0003_0093.JPG'), PosixPath('/Users/danaawamleh/Desktop/leaves/1/healthy/0003_0087.JPG'), PosixPath('/Users/danaawamleh/Desktop/leaves/1/healthy/0003_0050.JPG'), PosixPath('/Users/danaawamleh/Desktop/leaves/1/healthy/0003_0044.JPG'), PosixPath('/Users/danaawamleh/Desktop/leaves/1/healthy/0003_0078.JPG'), PosixPath('/Users/danaawamleh/Desktop/leaves/1/healthy/0003_0124.JPG'), PosixPath('/Users/danaawamleh/Desktop/leaves/1/healthy/0003_0130.JPG'), PosixPath('/Users/danaawamleh/Desktop/leaves/1/healthy/0003_0118.JPG'), PosixPath('/Users/danaawamleh/Desktop/leaves/1/healthy/0003_0119.JPG'), PosixPath('/Users/danaawamleh/Desktop/leaves/1/healthy/0003_0131.JPG'), PosixPath('/Users/danaawamleh/Desktop/leaves/1/healthy/0003_0125.JPG'), PosixPath('/Users/danaawamleh/Desktop/leaves/1/healthy/0003_0079.JPG'), PosixPath('/Users/danaawamleh/Desktop/leaves/1/healthy/0003_0045.JPG'), PosixPath('/Users/danaawamleh/Desktop/leaves/1/healthy/0003_0051.JPG'), PosixPath('/Users/danaawamleh/Desktop/leaves/1/healthy/0003_0086.JPG'), PosixPath('/Users/danaawamleh/Desktop/leaves/1/healthy/0003_0092.JPG'), PosixPath('/Users/danaawamleh/Desktop/leaves/1/healthy/0003_0084.JPG'), PosixPath('/Users/danaawamleh/Desktop/leaves/1/healthy/0003_0090.JPG'), PosixPath('/Users/danaawamleh/Desktop/leaves/1/healthy/0003_0047.JPG'), PosixPath('/Users/danaawamleh/Desktop/leaves/1/healthy/0003_0053.JPG'), PosixPath('/Users/danaawamleh/Desktop/leaves/1/healthy/0003_0133.JPG'), PosixPath('/Users/danaawamleh/Desktop/leaves/1/healthy/0003_0127.JPG'), PosixPath('/Users/danaawamleh/Desktop/leaves/1/healthy/0003_0126.JPG'), PosixPath('/Users/danaawamleh/Desktop/leaves/1/healthy/0003_0132.JPG'), PosixPath('/Users/danaawamleh/Desktop/leaves/1/healthy/0003_0052.JPG'), PosixPath('/Users/danaawamleh/Desktop/leaves/1/healthy/0003_0046.JPG'), PosixPath('/Users/danaawamleh/Desktop/leaves/1/healthy/0003_0091.JPG'), PosixPath('/Users/danaawamleh/Desktop/leaves/1/healthy/0003_0085.JPG'), PosixPath('/Users/danaawamleh/Desktop/leaves/1/healthy/0003_0081.JPG'), PosixPath('/Users/danaawamleh/Desktop/leaves/1/healthy/0003_0095.JPG'), PosixPath('/Users/danaawamleh/Desktop/leaves/1/healthy/0003_0042.JPG'), PosixPath('/Users/danaawamleh/Desktop/leaves/1/healthy/0003_0056.JPG'), PosixPath('/Users/danaawamleh/Desktop/leaves/1/healthy/0003_0136.JPG'), PosixPath('/Users/danaawamleh/Desktop/leaves/1/healthy/0003_0122.JPG'), PosixPath('/Users/danaawamleh/Desktop/leaves/1/healthy/0003_0123.JPG'), PosixPath('/Users/danaawamleh/Desktop/leaves/1/healthy/0003_0137.JPG'), PosixPath('/Users/danaawamleh/Desktop/leaves/1/healthy/0003_0057.JPG'), PosixPath('/Users/danaawamleh/Desktop/leaves/1/healthy/0003_0043.JPG'), PosixPath('/Users/danaawamleh/Desktop/leaves/1/healthy/0003_0094.JPG'), PosixPath('/Users/danaawamleh/Desktop/leaves/1/healthy/0003_0080.JPG'), PosixPath('/Users/danaawamleh/Desktop/leaves/1/healthy/0003_0096.JPG'), PosixPath('/Users/danaawamleh/Desktop/leaves/1/healthy/0003_0082.JPG'), PosixPath('/Users/danaawamleh/Desktop/leaves/1/healthy/0003_0069.JPG'), PosixPath('/Users/danaawamleh/Desktop/leaves/1/healthy/0003_0055.JPG'), PosixPath('/Users/danaawamleh/Desktop/leaves/1/healthy/0003_0041.JPG'), PosixPath('/Users/danaawamleh/Desktop/leaves/1/healthy/0003_0109.JPG'), PosixPath('/Users/danaawamleh/Desktop/leaves/1/healthy/0003_0121.JPG'), PosixPath('/Users/danaawamleh/Desktop/leaves/1/healthy/0003_0135.JPG'), PosixPath('/Users/danaawamleh/Desktop/leaves/1/healthy/0003_0134.JPG'), PosixPath('/Users/danaawamleh/Desktop/leaves/1/healthy/0003_0120.JPG'), PosixPath('/Users/danaawamleh/Desktop/leaves/1/healthy/0003_0108.JPG'), PosixPath('/Users/danaawamleh/Desktop/leaves/1/healthy/0003_0040.JPG'), PosixPath('/Users/danaawamleh/Desktop/leaves/1/healthy/0003_0054.JPG'), PosixPath('/Users/danaawamleh/Desktop/leaves/1/healthy/0003_0068.JPG'), PosixPath('/Users/danaawamleh/Desktop/leaves/1/healthy/0003_0083.JPG'), PosixPath('/Users/danaawamleh/Desktop/leaves/1/healthy/0003_0097.JPG'), PosixPath('/Users/danaawamleh/Desktop/leaves/Lemon (P10)/healthy/0010_0121.JPG'), PosixPath('/Users/danaawamleh/Desktop/leaves/Lemon (P10)/healthy/0010_0135.JPG'), PosixPath('/Users/danaawamleh/Desktop/leaves/Lemon (P10)/healthy/0010_0109.JPG'), PosixPath('/Users/danaawamleh/Desktop/leaves/Lemon (P10)/healthy/0010_0055.JPG'), PosixPath('/Users/danaawamleh/Desktop/leaves/Lemon (P10)/healthy/0010_0041.JPG'), PosixPath('/Users/danaawamleh/Desktop/leaves/Lemon (P10)/healthy/0010_0069.JPG'), PosixPath('/Users/danaawamleh/Desktop/leaves/Lemon (P10)/healthy/0010_0096.JPG'), PosixPath('/Users/danaawamleh/Desktop/leaves/Lemon (P10)/healthy/0010_0082.JPG'), PosixPath('/Users/danaawamleh/Desktop/leaves/Lemon (P10)/healthy/0010_0083.JPG'), PosixPath('/Users/danaawamleh/Desktop/leaves/Lemon (P10)/healthy/0010_0097.JPG'), PosixPath('/Users/danaawamleh/Desktop/leaves/Lemon (P10)/healthy/0010_0068.JPG'), PosixPath('/Users/danaawamleh/Desktop/leaves/Lemon (P10)/healthy/0010_0040.JPG'), PosixPath('/Users/danaawamleh/Desktop/leaves/Lemon (P10)/healthy/0010_0054.JPG'), PosixPath('/Users/danaawamleh/Desktop/leaves/Lemon (P10)/healthy/0010_0108.JPG'), PosixPath('/Users/danaawamleh/Desktop/leaves/Lemon (P10)/healthy/0010_0134.JPG'), PosixPath('/Users/danaawamleh/Desktop/leaves/Lemon (P10)/healthy/0010_0120.JPG'), PosixPath('/Users/danaawamleh/Desktop/leaves/Lemon (P10)/healthy/0010_0136.JPG'), PosixPath('/Users/danaawamleh/Desktop/leaves/Lemon (P10)/healthy/0010_0122.JPG'), PosixPath('/Users/danaawamleh/Desktop/leaves/Lemon (P10)/healthy/0010_0042.JPG'), PosixPath('/Users/danaawamleh/Desktop/leaves/Lemon (P10)/healthy/0010_0056.JPG'), PosixPath('/Users/danaawamleh/Desktop/leaves/Lemon (P10)/healthy/0010_0081.JPG'), PosixPath('/Users/danaawamleh/Desktop/leaves/Lemon (P10)/healthy/0010_0095.JPG'), PosixPath('/Users/danaawamleh/Desktop/leaves/Lemon (P10)/healthy/0010_0094.JPG'), PosixPath('/Users/danaawamleh/Desktop/leaves/Lemon (P10)/healthy/0010_0080.JPG'), PosixPath('/Users/danaawamleh/Desktop/leaves/Lemon (P10)/healthy/0010_0057.JPG'), PosixPath('/Users/danaawamleh/Desktop/leaves/Lemon (P10)/healthy/0010_0043.JPG'), PosixPath('/Users/danaawamleh/Desktop/leaves/Lemon (P10)/healthy/0010_0123.JPG'), PosixPath('/Users/danaawamleh/Desktop/leaves/Lemon (P10)/healthy/0010_0137.JPG'), PosixPath('/Users/danaawamleh/Desktop/leaves/Lemon (P10)/healthy/0010_0133.JPG'), PosixPath('/Users/danaawamleh/Desktop/leaves/Lemon (P10)/healthy/0010_0127.JPG'), PosixPath('/Users/danaawamleh/Desktop/leaves/Lemon (P10)/healthy/0010_0047.JPG'), PosixPath('/Users/danaawamleh/Desktop/leaves/Lemon (P10)/healthy/0010_0053.JPG'), PosixPath('/Users/danaawamleh/Desktop/leaves/Lemon (P10)/healthy/0010_0084.JPG'), PosixPath('/Users/danaawamleh/Desktop/leaves/Lemon (P10)/healthy/0010_0090.JPG'), PosixPath('/Users/danaawamleh/Desktop/leaves/Lemon (P10)/healthy/0010_0091.JPG'), PosixPath('/Users/danaawamleh/Desktop/leaves/Lemon (P10)/healthy/0010_0085.JPG'), PosixPath('/Users/danaawamleh/Desktop/leaves/Lemon (P10)/healthy/0010_0052.JPG'), PosixPath('/Users/danaawamleh/Desktop/leaves/Lemon (P10)/healthy/0010_0046.JPG'), PosixPath('/Users/danaawamleh/Desktop/leaves/Lemon (P10)/healthy/0010_0126.JPG'), PosixPath('/Users/danaawamleh/Desktop/leaves/Lemon (P10)/healthy/0010_0132.JPG'), PosixPath('/Users/danaawamleh/Desktop/leaves/Lemon (P10)/healthy/0010_0118.JPG'), PosixPath('/Users/danaawamleh/Desktop/leaves/Lemon (P10)/healthy/0010_0124.JPG'), PosixPath('/Users/danaawamleh/Desktop/leaves/Lemon (P10)/healthy/0010_0130.JPG'), PosixPath('/Users/danaawamleh/Desktop/leaves/Lemon (P10)/healthy/0010_0078.JPG'), PosixPath('/Users/danaawamleh/Desktop/leaves/Lemon (P10)/healthy/0010_0050.JPG'), PosixPath('/Users/danaawamleh/Desktop/leaves/Lemon (P10)/healthy/0010_0044.JPG'), PosixPath('/Users/danaawamleh/Desktop/leaves/Lemon (P10)/healthy/0010_0093.JPG'), PosixPath('/Users/danaawamleh/Desktop/leaves/Lemon (P10)/healthy/0010_0087.JPG'), PosixPath('/Users/danaawamleh/Desktop/leaves/Lemon (P10)/healthy/0010_0086.JPG'), PosixPath('/Users/danaawamleh/Desktop/leaves/Lemon (P10)/healthy/0010_0092.JPG'), PosixPath('/Users/danaawamleh/Desktop/leaves/Lemon (P10)/healthy/0010_0045.JPG'), PosixPath('/Users/danaawamleh/Desktop/leaves/Lemon (P10)/healthy/0010_0051.JPG'), PosixPath('/Users/danaawamleh/Desktop/leaves/Lemon (P10)/healthy/0010_0079.JPG'), PosixPath('/Users/danaawamleh/Desktop/leaves/Lemon (P10)/healthy/0010_0131.JPG'), PosixPath('/Users/danaawamleh/Desktop/leaves/Lemon (P10)/healthy/0010_0125.JPG'), PosixPath('/Users/danaawamleh/Desktop/leaves/Lemon (P10)/healthy/0010_0119.JPG'), PosixPath('/Users/danaawamleh/Desktop/leaves/Lemon (P10)/healthy/0010_0142.JPG'), PosixPath('/Users/danaawamleh/Desktop/leaves/Lemon (P10)/healthy/0010_0156.JPG'), PosixPath('/Users/danaawamleh/Desktop/leaves/Lemon (P10)/healthy/0010_0036.JPG'), PosixPath('/Users/danaawamleh/Desktop/leaves/Lemon (P10)/healthy/0010_0022.JPG'), PosixPath('/Users/danaawamleh/Desktop/leaves/Lemon (P10)/healthy/0010_0023.JPG'), PosixPath('/Users/danaawamleh/Desktop/leaves/Lemon (P10)/healthy/0010_0037.JPG'), PosixPath('/Users/danaawamleh/Desktop/leaves/Lemon (P10)/healthy/0010_0157.JPG'), PosixPath('/Users/danaawamleh/Desktop/leaves/Lemon (P10)/healthy/0010_0143.JPG'), PosixPath('/Users/danaawamleh/Desktop/leaves/Lemon (P10)/healthy/0010_0155.JPG'), PosixPath('/Users/danaawamleh/Desktop/leaves/Lemon (P10)/healthy/0010_0141.JPG'), PosixPath('/Users/danaawamleh/Desktop/leaves/Lemon (P10)/healthy/0010_0021.JPG'), PosixPath('/Users/danaawamleh/Desktop/leaves/Lemon (P10)/healthy/0010_0035.JPG'), PosixPath('/Users/danaawamleh/Desktop/leaves/Lemon (P10)/healthy/0010_0009.JPG'), PosixPath('/Users/danaawamleh/Desktop/leaves/Lemon (P10)/healthy/0010_0008.JPG'), PosixPath('/Users/danaawamleh/Desktop/leaves/Lemon (P10)/healthy/0010_0034.JPG'), PosixPath('/Users/danaawamleh/Desktop/leaves/Lemon (P10)/healthy/0010_0020.JPG'), PosixPath('/Users/danaawamleh/Desktop/leaves/Lemon (P10)/healthy/0010_0140.JPG'), PosixPath('/Users/danaawamleh/Desktop/leaves/Lemon (P10)/healthy/0010_0154.JPG'), PosixPath('/Users/danaawamleh/Desktop/leaves/Lemon (P10)/healthy/0010_0150.JPG'), PosixPath('/Users/danaawamleh/Desktop/leaves/Lemon (P10)/healthy/0010_0144.JPG'), PosixPath('/Users/danaawamleh/Desktop/leaves/Lemon (P10)/healthy/0010_0018.JPG'), PosixPath('/Users/danaawamleh/Desktop/leaves/Lemon (P10)/healthy/0010_0024.JPG'), PosixPath('/Users/danaawamleh/Desktop/leaves/Lemon (P10)/healthy/0010_0030.JPG'), PosixPath('/Users/danaawamleh/Desktop/leaves/Lemon (P10)/healthy/0010_0031.JPG'), PosixPath('/Users/danaawamleh/Desktop/leaves/Lemon (P10)/healthy/0010_0025.JPG'), PosixPath('/Users/danaawamleh/Desktop/leaves/Lemon (P10)/healthy/0010_0019.JPG'), PosixPath('/Users/danaawamleh/Desktop/leaves/Lemon (P10)/healthy/0010_0145.JPG'), PosixPath('/Users/danaawamleh/Desktop/leaves/Lemon (P10)/healthy/0010_0151.JPG'), PosixPath('/Users/danaawamleh/Desktop/leaves/Lemon (P10)/healthy/0010_0147.JPG'), PosixPath('/Users/danaawamleh/Desktop/leaves/Lemon (P10)/healthy/0010_0153.JPG'), PosixPath('/Users/danaawamleh/Desktop/leaves/Lemon (P10)/healthy/0010_0033.JPG'), PosixPath('/Users/danaawamleh/Desktop/leaves/Lemon (P10)/healthy/0010_0027.JPG'), PosixPath('/Users/danaawamleh/Desktop/leaves/Lemon (P10)/healthy/0010_0026.JPG'), PosixPath('/Users/danaawamleh/Desktop/leaves/Lemon (P10)/healthy/0010_0032.JPG'), PosixPath('/Users/danaawamleh/Desktop/leaves/Lemon (P10)/healthy/0010_0152.JPG'), PosixPath('/Users/danaawamleh/Desktop/leaves/Lemon (P10)/healthy/0010_0146.JPG'), PosixPath('/Users/danaawamleh/Desktop/leaves/Lemon (P10)/healthy/0010_0017.JPG'), PosixPath('/Users/danaawamleh/Desktop/leaves/Lemon (P10)/healthy/0010_0003.JPG'), PosixPath('/Users/danaawamleh/Desktop/leaves/Lemon (P10)/healthy/0010_0002.JPG'), PosixPath('/Users/danaawamleh/Desktop/leaves/Lemon (P10)/healthy/0010_0016.JPG'), PosixPath('/Users/danaawamleh/Desktop/leaves/Lemon (P10)/healthy/0010_0148.JPG'), PosixPath('/Users/danaawamleh/Desktop/leaves/Lemon (P10)/healthy/0010_0014.JPG'), PosixPath('/Users/danaawamleh/Desktop/leaves/Lemon (P10)/healthy/0010_0028.JPG'), PosixPath('/Users/danaawamleh/Desktop/leaves/Lemon (P10)/healthy/0010_0029.JPG'), PosixPath('/Users/danaawamleh/Desktop/leaves/Lemon (P10)/healthy/0010_0015.JPG'), PosixPath('/Users/danaawamleh/Desktop/leaves/Lemon (P10)/healthy/0010_0001.JPG'), PosixPath('/Users/danaawamleh/Desktop/leaves/Lemon (P10)/healthy/0010_0149.JPG'), PosixPath('/Users/danaawamleh/Desktop/leaves/Lemon (P10)/healthy/0010_0159.JPG'), PosixPath('/Users/danaawamleh/Desktop/leaves/Lemon (P10)/healthy/0010_0039.JPG'), PosixPath('/Users/danaawamleh/Desktop/leaves/Lemon (P10)/healthy/0010_0005.JPG'), PosixPath('/Users/danaawamleh/Desktop/leaves/Lemon (P10)/healthy/0010_0011.JPG'), PosixPath('/Users/danaawamleh/Desktop/leaves/Lemon (P10)/healthy/0010_0010.JPG'), PosixPath('/Users/danaawamleh/Desktop/leaves/Lemon (P10)/healthy/0010_0004.JPG'), PosixPath('/Users/danaawamleh/Desktop/leaves/Lemon (P10)/healthy/0010_0038.JPG'), PosixPath('/Users/danaawamleh/Desktop/leaves/Lemon (P10)/healthy/0010_0158.JPG'), PosixPath('/Users/danaawamleh/Desktop/leaves/Lemon (P10)/healthy/0010_0012.JPG'), PosixPath('/Users/danaawamleh/Desktop/leaves/Lemon (P10)/healthy/0010_0006.JPG'), PosixPath('/Users/danaawamleh/Desktop/leaves/Lemon (P10)/healthy/0010_0007.JPG'), PosixPath('/Users/danaawamleh/Desktop/leaves/Lemon (P10)/healthy/0010_0013.JPG'), PosixPath('/Users/danaawamleh/Desktop/leaves/Lemon (P10)/healthy/0010_0100.JPG'), PosixPath('/Users/danaawamleh/Desktop/leaves/Lemon (P10)/healthy/0010_0114.JPG'), PosixPath('/Users/danaawamleh/Desktop/leaves/Lemon (P10)/healthy/0010_0128.JPG'), PosixPath('/Users/danaawamleh/Desktop/leaves/Lemon (P10)/healthy/0010_0074.JPG'), PosixPath('/Users/danaawamleh/Desktop/leaves/Lemon (P10)/healthy/0010_0060.JPG'), PosixPath('/Users/danaawamleh/Desktop/leaves/Lemon (P10)/healthy/0010_0048.JPG'), PosixPath('/Users/danaawamleh/Desktop/leaves/Lemon (P10)/healthy/0010_0049.JPG'), PosixPath('/Users/danaawamleh/Desktop/leaves/Lemon (P10)/healthy/0010_0061.JPG'), PosixPath('/Users/danaawamleh/Desktop/leaves/Lemon (P10)/healthy/0010_0075.JPG'), PosixPath('/Users/danaawamleh/Desktop/leaves/Lemon (P10)/healthy/0010_0129.JPG'), PosixPath('/Users/danaawamleh/Desktop/leaves/Lemon (P10)/healthy/0010_0115.JPG'), PosixPath('/Users/danaawamleh/Desktop/leaves/Lemon (P10)/healthy/0010_0101.JPG'), PosixPath('/Users/danaawamleh/Desktop/leaves/Lemon (P10)/healthy/0010_0117.JPG'), PosixPath('/Users/danaawamleh/Desktop/leaves/Lemon (P10)/healthy/0010_0103.JPG'), PosixPath('/Users/danaawamleh/Desktop/leaves/Lemon (P10)/healthy/0010_0063.JPG'), PosixPath('/Users/danaawamleh/Desktop/leaves/Lemon (P10)/healthy/0010_0077.JPG'), PosixPath('/Users/danaawamleh/Desktop/leaves/Lemon (P10)/healthy/0010_0088.JPG'), PosixPath('/Users/danaawamleh/Desktop/leaves/Lemon (P10)/healthy/0010_0089.JPG'), PosixPath('/Users/danaawamleh/Desktop/leaves/Lemon (P10)/healthy/0010_0076.JPG'), PosixPath('/Users/danaawamleh/Desktop/leaves/Lemon (P10)/healthy/0010_0062.JPG'), PosixPath('/Users/danaawamleh/Desktop/leaves/Lemon (P10)/healthy/0010_0102.JPG'), PosixPath('/Users/danaawamleh/Desktop/leaves/Lemon (P10)/healthy/0010_0116.JPG'), PosixPath('/Users/danaawamleh/Desktop/leaves/Lemon (P10)/healthy/0010_0112.JPG'), PosixPath('/Users/danaawamleh/Desktop/leaves/Lemon (P10)/healthy/0010_0106.JPG'), PosixPath('/Users/danaawamleh/Desktop/leaves/Lemon (P10)/healthy/0010_0066.JPG'), PosixPath('/Users/danaawamleh/Desktop/leaves/Lemon (P10)/healthy/0010_0072.JPG'), PosixPath('/Users/danaawamleh/Desktop/leaves/Lemon (P10)/healthy/0010_0099.JPG'), PosixPath('/Users/danaawamleh/Desktop/leaves/Lemon (P10)/healthy/0010_0098.JPG'), PosixPath('/Users/danaawamleh/Desktop/leaves/Lemon (P10)/healthy/0010_0073.JPG'), PosixPath('/Users/danaawamleh/Desktop/leaves/Lemon (P10)/healthy/0010_0067.JPG'), PosixPath('/Users/danaawamleh/Desktop/leaves/Lemon (P10)/healthy/0010_0107.JPG'), PosixPath('/Users/danaawamleh/Desktop/leaves/Lemon (P10)/healthy/0010_0113.JPG'), PosixPath('/Users/danaawamleh/Desktop/leaves/Lemon (P10)/healthy/0010_0139.JPG'), PosixPath('/Users/danaawamleh/Desktop/leaves/Lemon (P10)/healthy/0010_0105.JPG'), PosixPath('/Users/danaawamleh/Desktop/leaves/Lemon (P10)/healthy/0010_0111.JPG'), PosixPath('/Users/danaawamleh/Desktop/leaves/Lemon (P10)/healthy/0010_0059.JPG'), PosixPath('/Users/danaawamleh/Desktop/leaves/Lemon (P10)/healthy/0010_0071.JPG'), PosixPath('/Users/danaawamleh/Desktop/leaves/Lemon (P10)/healthy/0010_0065.JPG'), PosixPath('/Users/danaawamleh/Desktop/leaves/Lemon (P10)/healthy/0010_0064.JPG'), PosixPath('/Users/danaawamleh/Desktop/leaves/Lemon (P10)/healthy/0010_0070.JPG'), PosixPath('/Users/danaawamleh/Desktop/leaves/Lemon (P10)/healthy/0010_0058.JPG'), PosixPath('/Users/danaawamleh/Desktop/leaves/Lemon (P10)/healthy/0010_0110.JPG'), PosixPath('/Users/danaawamleh/Desktop/leaves/Lemon (P10)/healthy/0010_0104.JPG'), PosixPath('/Users/danaawamleh/Desktop/leaves/Lemon (P10)/healthy/0010_0138.JPG'), PosixPath('/Users/danaawamleh/Desktop/leaves/Chinar (P11)/healthy/0011_0041.JPG'), PosixPath('/Users/danaawamleh/Desktop/leaves/Chinar (P11)/healthy/0011_0055.JPG'), PosixPath('/Users/danaawamleh/Desktop/leaves/Chinar (P11)/healthy/0011_0069.JPG'), PosixPath('/Users/danaawamleh/Desktop/leaves/Chinar (P11)/healthy/0011_0082.JPG'), PosixPath('/Users/danaawamleh/Desktop/leaves/Chinar (P11)/healthy/0011_0096.JPG'), PosixPath('/Users/danaawamleh/Desktop/leaves/Chinar (P11)/healthy/0011_0097.JPG'), PosixPath('/Users/danaawamleh/Desktop/leaves/Chinar (P11)/healthy/0011_0083.JPG'), PosixPath('/Users/danaawamleh/Desktop/leaves/Chinar (P11)/healthy/0011_0068.JPG'), PosixPath('/Users/danaawamleh/Desktop/leaves/Chinar (P11)/healthy/0011_0054.JPG'), PosixPath('/Users/danaawamleh/Desktop/leaves/Chinar (P11)/healthy/0011_0040.JPG'), PosixPath('/Users/danaawamleh/Desktop/leaves/Chinar (P11)/healthy/0011_0056.JPG'), PosixPath('/Users/danaawamleh/Desktop/leaves/Chinar (P11)/healthy/0011_0042.JPG'), PosixPath('/Users/danaawamleh/Desktop/leaves/Chinar (P11)/healthy/0011_0095.JPG'), PosixPath('/Users/danaawamleh/Desktop/leaves/Chinar (P11)/healthy/0011_0081.JPG'), PosixPath('/Users/danaawamleh/Desktop/leaves/Chinar (P11)/healthy/0011_0080.JPG'), PosixPath('/Users/danaawamleh/Desktop/leaves/Chinar (P11)/healthy/0011_0094.JPG'), PosixPath('/Users/danaawamleh/Desktop/leaves/Chinar (P11)/healthy/0011_0043.JPG'), PosixPath('/Users/danaawamleh/Desktop/leaves/Chinar (P11)/healthy/0011_0057.JPG'), PosixPath('/Users/danaawamleh/Desktop/leaves/Chinar (P11)/healthy/0011_0053.JPG'), PosixPath('/Users/danaawamleh/Desktop/leaves/Chinar (P11)/healthy/0011_0047.JPG'), PosixPath('/Users/danaawamleh/Desktop/leaves/Chinar (P11)/healthy/0011_0090.JPG'), PosixPath('/Users/danaawamleh/Desktop/leaves/Chinar (P11)/healthy/0011_0084.JPG'), PosixPath('/Users/danaawamleh/Desktop/leaves/Chinar (P11)/healthy/0011_0085.JPG'), PosixPath('/Users/danaawamleh/Desktop/leaves/Chinar (P11)/healthy/0011_0091.JPG'), PosixPath('/Users/danaawamleh/Desktop/leaves/Chinar (P11)/healthy/0011_0046.JPG'), PosixPath('/Users/danaawamleh/Desktop/leaves/Chinar (P11)/healthy/0011_0052.JPG'), PosixPath('/Users/danaawamleh/Desktop/leaves/Chinar (P11)/healthy/0011_0078.JPG'), PosixPath('/Users/danaawamleh/Desktop/leaves/Chinar (P11)/healthy/0011_0044.JPG'), PosixPath('/Users/danaawamleh/Desktop/leaves/Chinar (P11)/healthy/0011_0050.JPG'), PosixPath('/Users/danaawamleh/Desktop/leaves/Chinar (P11)/healthy/0011_0087.JPG'), PosixPath('/Users/danaawamleh/Desktop/leaves/Chinar (P11)/healthy/0011_0093.JPG'), PosixPath('/Users/danaawamleh/Desktop/leaves/Chinar (P11)/healthy/0011_0092.JPG'), PosixPath('/Users/danaawamleh/Desktop/leaves/Chinar (P11)/healthy/0011_0086.JPG'), PosixPath('/Users/danaawamleh/Desktop/leaves/Chinar (P11)/healthy/0011_0051.JPG'), PosixPath('/Users/danaawamleh/Desktop/leaves/Chinar (P11)/healthy/0011_0045.JPG'), PosixPath('/Users/danaawamleh/Desktop/leaves/Chinar (P11)/healthy/0011_0079.JPG'), PosixPath('/Users/danaawamleh/Desktop/leaves/Chinar (P11)/healthy/0011_0022.JPG'), PosixPath('/Users/danaawamleh/Desktop/leaves/Chinar (P11)/healthy/0011_0036.JPG'), PosixPath('/Users/danaawamleh/Desktop/leaves/Chinar (P11)/healthy/0011_0037.JPG'), PosixPath('/Users/danaawamleh/Desktop/leaves/Chinar (P11)/healthy/0011_0023.JPG'), PosixPath('/Users/danaawamleh/Desktop/leaves/Chinar (P11)/healthy/0011_0035.JPG'), PosixPath('/Users/danaawamleh/Desktop/leaves/Chinar (P11)/healthy/0011_0021.JPG'), PosixPath('/Users/danaawamleh/Desktop/leaves/Chinar (P11)/healthy/0011_0009.JPG'), PosixPath('/Users/danaawamleh/Desktop/leaves/Chinar (P11)/healthy/0011_0008.JPG'), PosixPath('/Users/danaawamleh/Desktop/leaves/Chinar (P11)/healthy/0011_0020.JPG'), PosixPath('/Users/danaawamleh/Desktop/leaves/Chinar (P11)/healthy/0011_0034.JPG'), PosixPath('/Users/danaawamleh/Desktop/leaves/Chinar (P11)/healthy/0011_0018.JPG'), PosixPath('/Users/danaawamleh/Desktop/leaves/Chinar (P11)/healthy/0011_0030.JPG'), PosixPath('/Users/danaawamleh/Desktop/leaves/Chinar (P11)/healthy/0011_0024.JPG'), PosixPath('/Users/danaawamleh/Desktop/leaves/Chinar (P11)/healthy/0011_0025.JPG'), PosixPath('/Users/danaawamleh/Desktop/leaves/Chinar (P11)/healthy/0011_0031.JPG'), PosixPath('/Users/danaawamleh/Desktop/leaves/Chinar (P11)/healthy/0011_0019.JPG'), PosixPath('/Users/danaawamleh/Desktop/leaves/Chinar (P11)/healthy/0011_0027.JPG'), PosixPath('/Users/danaawamleh/Desktop/leaves/Chinar (P11)/healthy/0011_0033.JPG'), PosixPath('/Users/danaawamleh/Desktop/leaves/Chinar (P11)/healthy/0011_0032.JPG'), PosixPath('/Users/danaawamleh/Desktop/leaves/Chinar (P11)/healthy/0011_0026.JPG'), PosixPath('/Users/danaawamleh/Desktop/leaves/Chinar (P11)/healthy/0011_0003.JPG'), PosixPath('/Users/danaawamleh/Desktop/leaves/Chinar (P11)/healthy/0011_0017.JPG'), PosixPath('/Users/danaawamleh/Desktop/leaves/Chinar (P11)/healthy/0011_0016.JPG'), PosixPath('/Users/danaawamleh/Desktop/leaves/Chinar (P11)/healthy/0011_0002.JPG'), PosixPath('/Users/danaawamleh/Desktop/leaves/Chinar (P11)/healthy/0011_0014.JPG'), PosixPath('/Users/danaawamleh/Desktop/leaves/Chinar (P11)/healthy/0011_0028.JPG'), PosixPath('/Users/danaawamleh/Desktop/leaves/Chinar (P11)/healthy/0011_0029.JPG'), PosixPath('/Users/danaawamleh/Desktop/leaves/Chinar (P11)/healthy/0011_0001.JPG'), PosixPath('/Users/danaawamleh/Desktop/leaves/Chinar (P11)/healthy/0011_0015.JPG'), PosixPath('/Users/danaawamleh/Desktop/leaves/Chinar (P11)/healthy/0011_0039.JPG'), PosixPath('/Users/danaawamleh/Desktop/leaves/Chinar (P11)/healthy/0011_0011.JPG'), PosixPath('/Users/danaawamleh/Desktop/leaves/Chinar (P11)/healthy/0011_0005.JPG'), PosixPath('/Users/danaawamleh/Desktop/leaves/Chinar (P11)/healthy/0011_0004.JPG'), PosixPath('/Users/danaawamleh/Desktop/leaves/Chinar (P11)/healthy/0011_0010.JPG'), PosixPath('/Users/danaawamleh/Desktop/leaves/Chinar (P11)/healthy/0011_0038.JPG'), PosixPath('/Users/danaawamleh/Desktop/leaves/Chinar (P11)/healthy/0011_0006.JPG'), PosixPath('/Users/danaawamleh/Desktop/leaves/Chinar (P11)/healthy/0011_0012.JPG'), PosixPath('/Users/danaawamleh/Desktop/leaves/Chinar (P11)/healthy/0011_0013.JPG'), PosixPath('/Users/danaawamleh/Desktop/leaves/Chinar (P11)/healthy/0011_0007.JPG'), PosixPath('/Users/danaawamleh/Desktop/leaves/Chinar (P11)/healthy/0011_0100.JPG'), PosixPath('/Users/danaawamleh/Desktop/leaves/Chinar (P11)/healthy/0011_0060.JPG'), PosixPath('/Users/danaawamleh/Desktop/leaves/Chinar (P11)/healthy/0011_0074.JPG'), PosixPath('/Users/danaawamleh/Desktop/leaves/Chinar (P11)/healthy/0011_0048.JPG'), PosixPath('/Users/danaawamleh/Desktop/leaves/Chinar (P11)/healthy/0011_0049.JPG'), PosixPath('/Users/danaawamleh/Desktop/leaves/Chinar (P11)/healthy/0011_0075.JPG'), PosixPath('/Users/danaawamleh/Desktop/leaves/Chinar (P11)/healthy/0011_0061.JPG'), PosixPath('/Users/danaawamleh/Desktop/leaves/Chinar (P11)/healthy/0011_0101.JPG'), PosixPath('/Users/danaawamleh/Desktop/leaves/Chinar (P11)/healthy/0011_0103.JPG'), PosixPath('/Users/danaawamleh/Desktop/leaves/Chinar (P11)/healthy/0011_0077.JPG'), PosixPath('/Users/danaawamleh/Desktop/leaves/Chinar (P11)/healthy/0011_0063.JPG'), PosixPath('/Users/danaawamleh/Desktop/leaves/Chinar (P11)/healthy/0011_0088.JPG'), PosixPath('/Users/danaawamleh/Desktop/leaves/Chinar (P11)/healthy/0011_0089.JPG'), PosixPath('/Users/danaawamleh/Desktop/leaves/Chinar (P11)/healthy/0011_0062.JPG'), PosixPath('/Users/danaawamleh/Desktop/leaves/Chinar (P11)/healthy/0011_0076.JPG'), PosixPath('/Users/danaawamleh/Desktop/leaves/Chinar (P11)/healthy/0011_0102.JPG'), PosixPath('/Users/danaawamleh/Desktop/leaves/Chinar (P11)/healthy/0011_0072.JPG'), PosixPath('/Users/danaawamleh/Desktop/leaves/Chinar (P11)/healthy/0011_0066.JPG'), PosixPath('/Users/danaawamleh/Desktop/leaves/Chinar (P11)/healthy/0011_0099.JPG'), PosixPath('/Users/danaawamleh/Desktop/leaves/Chinar (P11)/healthy/0011_0098.JPG'), PosixPath('/Users/danaawamleh/Desktop/leaves/Chinar (P11)/healthy/0011_0067.JPG'), PosixPath('/Users/danaawamleh/Desktop/leaves/Chinar (P11)/healthy/0011_0073.JPG'), PosixPath('/Users/danaawamleh/Desktop/leaves/Chinar (P11)/healthy/0011_0059.JPG'), PosixPath('/Users/danaawamleh/Desktop/leaves/Chinar (P11)/healthy/0011_0065.JPG'), PosixPath('/Users/danaawamleh/Desktop/leaves/Chinar (P11)/healthy/0011_0071.JPG'), PosixPath('/Users/danaawamleh/Desktop/leaves/Chinar (P11)/healthy/0011_0070.JPG'), PosixPath('/Users/danaawamleh/Desktop/leaves/Chinar (P11)/healthy/0011_0064.JPG'), PosixPath('/Users/danaawamleh/Desktop/leaves/Chinar (P11)/healthy/0011_0058.JPG'), PosixPath('/Users/danaawamleh/Desktop/leaves/Pongamia Pinnata (P7)/healthy/0007_0245.JPG'), PosixPath('/Users/danaawamleh/Desktop/leaves/Pongamia Pinnata (P7)/healthy/0007_0251.JPG'), PosixPath('/Users/danaawamleh/Desktop/leaves/Pongamia Pinnata (P7)/healthy/0007_0279.JPG'), PosixPath('/Users/danaawamleh/Desktop/leaves/Pongamia Pinnata (P7)/healthy/0007_0286.JPG'), PosixPath('/Users/danaawamleh/Desktop/leaves/Pongamia Pinnata (P7)/healthy/0007_0292.JPG'), PosixPath('/Users/danaawamleh/Desktop/leaves/Pongamia Pinnata (P7)/healthy/0007_0047.JPG'), PosixPath('/Users/danaawamleh/Desktop/leaves/Pongamia Pinnata (P7)/healthy/0007_0053.JPG'), PosixPath('/Users/danaawamleh/Desktop/leaves/Pongamia Pinnata (P7)/healthy/0007_0133.JPG'), PosixPath('/Users/danaawamleh/Desktop/leaves/Pongamia Pinnata (P7)/healthy/0007_0127.JPG'), PosixPath('/Users/danaawamleh/Desktop/leaves/Pongamia Pinnata (P7)/healthy/0007_0331.JPG'), PosixPath('/Users/danaawamleh/Desktop/leaves/Pongamia Pinnata (P7)/healthy/0007_0325.JPG'), PosixPath('/Users/danaawamleh/Desktop/leaves/Pongamia Pinnata (P7)/healthy/0007_0319.JPG'), PosixPath('/Users/danaawamleh/Desktop/leaves/Pongamia Pinnata (P7)/healthy/0007_0318.JPG'), PosixPath('/Users/danaawamleh/Desktop/leaves/Pongamia Pinnata (P7)/healthy/0007_0324.JPG'), PosixPath('/Users/danaawamleh/Desktop/leaves/Pongamia Pinnata (P7)/healthy/0007_0330.JPG'), PosixPath('/Users/danaawamleh/Desktop/leaves/Pongamia Pinnata (P7)/healthy/0007_0126.JPG'), PosixPath('/Users/danaawamleh/Desktop/leaves/Pongamia Pinnata (P7)/healthy/0007_0132.JPG'), PosixPath('/Users/danaawamleh/Desktop/leaves/Pongamia Pinnata (P7)/healthy/0007_0091.JPG'), PosixPath('/Users/danaawamleh/Desktop/leaves/Pongamia Pinnata (P7)/healthy/0007_0052.JPG'), PosixPath('/Users/danaawamleh/Desktop/leaves/Pongamia Pinnata (P7)/healthy/0007_0046.JPG'), PosixPath('/Users/danaawamleh/Desktop/leaves/Pongamia Pinnata (P7)/healthy/0007_0293.JPG'), PosixPath('/Users/danaawamleh/Desktop/leaves/Pongamia Pinnata (P7)/healthy/0007_0287.JPG'), PosixPath('/Users/danaawamleh/Desktop/leaves/Pongamia Pinnata (P7)/healthy/0007_0278.JPG'), PosixPath('/Users/danaawamleh/Desktop/leaves/Pongamia Pinnata (P7)/healthy/0007_0250.JPG'), PosixPath('/Users/danaawamleh/Desktop/leaves/Pongamia Pinnata (P7)/healthy/0007_0244.JPG'), PosixPath('/Users/danaawamleh/Desktop/leaves/Pongamia Pinnata (P7)/healthy/0007_0252.JPG'), PosixPath('/Users/danaawamleh/Desktop/leaves/Pongamia Pinnata (P7)/healthy/0007_0246.JPG'), PosixPath('/Users/danaawamleh/Desktop/leaves/Pongamia Pinnata (P7)/healthy/0007_0291.JPG'), PosixPath('/Users/danaawamleh/Desktop/leaves/Pongamia Pinnata (P7)/healthy/0007_0285.JPG'), PosixPath('/Users/danaawamleh/Desktop/leaves/Pongamia Pinnata (P7)/healthy/0007_0050.JPG'), PosixPath('/Users/danaawamleh/Desktop/leaves/Pongamia Pinnata (P7)/healthy/0007_0044.JPG'), PosixPath('/Users/danaawamleh/Desktop/leaves/Pongamia Pinnata (P7)/healthy/0007_0078.JPG'), PosixPath('/Users/danaawamleh/Desktop/leaves/Pongamia Pinnata (P7)/healthy/0007_0093.JPG'), PosixPath('/Users/danaawamleh/Desktop/leaves/Pongamia Pinnata (P7)/healthy/0007_0124.JPG'), PosixPath('/Users/danaawamleh/Desktop/leaves/Pongamia Pinnata (P7)/healthy/0007_0130.JPG'), PosixPath('/Users/danaawamleh/Desktop/leaves/Pongamia Pinnata (P7)/healthy/0007_0118.JPG'), PosixPath('/Users/danaawamleh/Desktop/leaves/Pongamia Pinnata (P7)/healthy/0007_0326.JPG'), PosixPath('/Users/danaawamleh/Desktop/leaves/Pongamia Pinnata (P7)/healthy/0007_0332.JPG'), PosixPath('/Users/danaawamleh/Desktop/leaves/Pongamia Pinnata (P7)/healthy/0007_0327.JPG'), PosixPath('/Users/danaawamleh/Desktop/leaves/Pongamia Pinnata (P7)/healthy/0007_0119.JPG'), PosixPath('/Users/danaawamleh/Desktop/leaves/Pongamia Pinnata (P7)/healthy/0007_0131.JPG'), PosixPath('/Users/danaawamleh/Desktop/leaves/Pongamia Pinnata (P7)/healthy/0007_0125.JPG'), PosixPath('/Users/danaawamleh/Desktop/leaves/Pongamia Pinnata (P7)/healthy/0007_0092.JPG'), PosixPath('/Users/danaawamleh/Desktop/leaves/Pongamia Pinnata (P7)/healthy/0007_0079.JPG'), PosixPath('/Users/danaawamleh/Desktop/leaves/Pongamia Pinnata (P7)/healthy/0007_0045.JPG'), PosixPath('/Users/danaawamleh/Desktop/leaves/Pongamia Pinnata (P7)/healthy/0007_0051.JPG'), PosixPath('/Users/danaawamleh/Desktop/leaves/Pongamia Pinnata (P7)/healthy/0007_0284.JPG'), PosixPath('/Users/danaawamleh/Desktop/leaves/Pongamia Pinnata (P7)/healthy/0007_0290.JPG'), PosixPath('/Users/danaawamleh/Desktop/leaves/Pongamia Pinnata (P7)/healthy/0007_0247.JPG'), PosixPath('/Users/danaawamleh/Desktop/leaves/Pongamia Pinnata (P7)/healthy/0007_0253.JPG'), PosixPath('/Users/danaawamleh/Desktop/leaves/Pongamia Pinnata (P7)/healthy/0007_0257.JPG'), PosixPath('/Users/danaawamleh/Desktop/leaves/Pongamia Pinnata (P7)/healthy/0007_0243.JPG'), PosixPath('/Users/danaawamleh/Desktop/leaves/Pongamia Pinnata (P7)/healthy/0007_0294.JPG'), PosixPath('/Users/danaawamleh/Desktop/leaves/Pongamia Pinnata (P7)/healthy/0007_0280.JPG'), PosixPath('/Users/danaawamleh/Desktop/leaves/Pongamia Pinnata (P7)/healthy/0007_0069.JPG'), PosixPath('/Users/danaawamleh/Desktop/leaves/Pongamia Pinnata (P7)/healthy/0007_0055.JPG'), PosixPath('/Users/danaawamleh/Desktop/leaves/Pongamia Pinnata (P7)/healthy/0007_0041.JPG'), PosixPath('/Users/danaawamleh/Desktop/leaves/Pongamia Pinnata (P7)/healthy/0007_0096.JPG'), PosixPath('/Users/danaawamleh/Desktop/leaves/Pongamia Pinnata (P7)/healthy/0007_0109.JPG'), PosixPath('/Users/danaawamleh/Desktop/leaves/Pongamia Pinnata (P7)/healthy/0007_0121.JPG'), PosixPath('/Users/danaawamleh/Desktop/leaves/Pongamia Pinnata (P7)/healthy/0007_0135.JPG'), PosixPath('/Users/danaawamleh/Desktop/leaves/Pongamia Pinnata (P7)/healthy/0007_0323.JPG'), PosixPath('/Users/danaawamleh/Desktop/leaves/Pongamia Pinnata (P7)/healthy/0007_0322.JPG'), PosixPath('/Users/danaawamleh/Desktop/leaves/Pongamia Pinnata (P7)/healthy/0007_0134.JPG'), PosixPath('/Users/danaawamleh/Desktop/leaves/Pongamia Pinnata (P7)/healthy/0007_0120.JPG'), PosixPath('/Users/danaawamleh/Desktop/leaves/Pongamia Pinnata (P7)/healthy/0007_0108.JPG'), PosixPath('/Users/danaawamleh/Desktop/leaves/Pongamia Pinnata (P7)/healthy/0007_0097.JPG'), PosixPath('/Users/danaawamleh/Desktop/leaves/Pongamia Pinnata (P7)/healthy/0007_0040.JPG'), PosixPath('/Users/danaawamleh/Desktop/leaves/Pongamia Pinnata (P7)/healthy/0007_0054.JPG'), PosixPath('/Users/danaawamleh/Desktop/leaves/Pongamia Pinnata (P7)/healthy/0007_0068.JPG'), PosixPath('/Users/danaawamleh/Desktop/leaves/Pongamia Pinnata (P7)/healthy/0007_0281.JPG'), PosixPath('/Users/danaawamleh/Desktop/leaves/Pongamia Pinnata (P7)/healthy/0007_0295.JPG'), PosixPath('/Users/danaawamleh/Desktop/leaves/Pongamia Pinnata (P7)/healthy/0007_0242.JPG'), PosixPath('/Users/danaawamleh/Desktop/leaves/Pongamia Pinnata (P7)/healthy/0007_0256.JPG'), PosixPath('/Users/danaawamleh/Desktop/leaves/Pongamia Pinnata (P7)/healthy/0007_0268.JPG'), PosixPath('/Users/danaawamleh/Desktop/leaves/Pongamia Pinnata (P7)/healthy/0007_0240.JPG'), PosixPath('/Users/danaawamleh/Desktop/leaves/Pongamia Pinnata (P7)/healthy/0007_0254.JPG'), PosixPath('/Users/danaawamleh/Desktop/leaves/Pongamia Pinnata (P7)/healthy/0007_0283.JPG'), PosixPath('/Users/danaawamleh/Desktop/leaves/Pongamia Pinnata (P7)/healthy/0007_0297.JPG'), PosixPath('/Users/danaawamleh/Desktop/leaves/Pongamia Pinnata (P7)/healthy/0007_0042.JPG'), PosixPath('/Users/danaawamleh/Desktop/leaves/Pongamia Pinnata (P7)/healthy/0007_0056.JPG'), PosixPath('/Users/danaawamleh/Desktop/leaves/Pongamia Pinnata (P7)/healthy/0007_0095.JPG'), PosixPath('/Users/danaawamleh/Desktop/leaves/Pongamia Pinnata (P7)/healthy/0007_0136.JPG'), PosixPath('/Users/danaawamleh/Desktop/leaves/Pongamia Pinnata (P7)/healthy/0007_0122.JPG'), PosixPath('/Users/danaawamleh/Desktop/leaves/Pongamia Pinnata (P7)/healthy/0007_0308.JPG'), PosixPath('/Users/danaawamleh/Desktop/leaves/Pongamia Pinnata (P7)/healthy/0007_0320.JPG'), PosixPath('/Users/danaawamleh/Desktop/leaves/Pongamia Pinnata (P7)/healthy/0007_0321.JPG'), PosixPath('/Users/danaawamleh/Desktop/leaves/Pongamia Pinnata (P7)/healthy/0007_0309.JPG'), PosixPath('/Users/danaawamleh/Desktop/leaves/Pongamia Pinnata (P7)/healthy/0007_0123.JPG'), PosixPath('/Users/danaawamleh/Desktop/leaves/Pongamia Pinnata (P7)/healthy/0007_0137.JPG'), PosixPath('/Users/danaawamleh/Desktop/leaves/Pongamia Pinnata (P7)/healthy/0007_0094.JPG'), PosixPath('/Users/danaawamleh/Desktop/leaves/Pongamia Pinnata (P7)/healthy/0007_0080.JPG'), PosixPath('/Users/danaawamleh/Desktop/leaves/Pongamia Pinnata (P7)/healthy/0007_0057.JPG'), PosixPath('/Users/danaawamleh/Desktop/leaves/Pongamia Pinnata (P7)/healthy/0007_0043.JPG'), PosixPath('/Users/danaawamleh/Desktop/leaves/Pongamia Pinnata (P7)/healthy/0007_0296.JPG'), PosixPath('/Users/danaawamleh/Desktop/leaves/Pongamia Pinnata (P7)/healthy/0007_0282.JPG'), PosixPath('/Users/danaawamleh/Desktop/leaves/Pongamia Pinnata (P7)/healthy/0007_0255.JPG'), PosixPath('/Users/danaawamleh/Desktop/leaves/Pongamia Pinnata (P7)/healthy/0007_0241.JPG'), PosixPath('/Users/danaawamleh/Desktop/leaves/Pongamia Pinnata (P7)/healthy/0007_0269.JPG'), PosixPath('/Users/danaawamleh/Desktop/leaves/Pongamia Pinnata (P7)/healthy/0007_0226.JPG'), PosixPath('/Users/danaawamleh/Desktop/leaves/Pongamia Pinnata (P7)/healthy/0007_0232.JPG'), PosixPath('/Users/danaawamleh/Desktop/leaves/Pongamia Pinnata (P7)/healthy/0007_0024.JPG'), PosixPath('/Users/danaawamleh/Desktop/leaves/Pongamia Pinnata (P7)/healthy/0007_0030.JPG'), PosixPath('/Users/danaawamleh/Desktop/leaves/Pongamia Pinnata (P7)/healthy/0007_0018.JPG'), PosixPath('/Users/danaawamleh/Desktop/leaves/Pongamia Pinnata (P7)/healthy/0007_0150.JPG'), PosixPath('/Users/danaawamleh/Desktop/leaves/Pongamia Pinnata (P7)/healthy/0007_0144.JPG'), PosixPath('/Users/danaawamleh/Desktop/leaves/Pongamia Pinnata (P7)/healthy/0007_0178.JPG'), PosixPath('/Users/danaawamleh/Desktop/leaves/Pongamia Pinnata (P7)/healthy/0007_0193.JPG'), PosixPath('/Users/danaawamleh/Desktop/leaves/Pongamia Pinnata (P7)/healthy/0007_0187.JPG'), PosixPath('/Users/danaawamleh/Desktop/leaves/Pongamia Pinnata (P7)/healthy/0007_0186.JPG'), PosixPath('/Users/danaawamleh/Desktop/leaves/Pongamia Pinnata (P7)/healthy/0007_0192.JPG'), PosixPath('/Users/danaawamleh/Desktop/leaves/Pongamia Pinnata (P7)/healthy/0007_0179.JPG'), PosixPath('/Users/danaawamleh/Desktop/leaves/Pongamia Pinnata (P7)/healthy/0007_0145.JPG'), PosixPath('/Users/danaawamleh/Desktop/leaves/Pongamia Pinnata (P7)/healthy/0007_0151.JPG'), PosixPath('/Users/danaawamleh/Desktop/leaves/Pongamia Pinnata (P7)/healthy/0007_0019.JPG'), PosixPath('/Users/danaawamleh/Desktop/leaves/Pongamia Pinnata (P7)/healthy/0007_0031.JPG'), PosixPath('/Users/danaawamleh/Desktop/leaves/Pongamia Pinnata (P7)/healthy/0007_0025.JPG'), PosixPath('/Users/danaawamleh/Desktop/leaves/Pongamia Pinnata (P7)/healthy/0007_0233.JPG'), PosixPath('/Users/danaawamleh/Desktop/leaves/Pongamia Pinnata (P7)/healthy/0007_0227.JPG'), PosixPath('/Users/danaawamleh/Desktop/leaves/Pongamia Pinnata (P7)/healthy/0007_0231.JPG'), PosixPath('/Users/danaawamleh/Desktop/leaves/Pongamia Pinnata (P7)/healthy/0007_0225.JPG'), PosixPath('/Users/danaawamleh/Desktop/leaves/Pongamia Pinnata (P7)/healthy/0007_0219.JPG'), PosixPath('/Users/danaawamleh/Desktop/leaves/Pongamia Pinnata (P7)/healthy/0007_0033.JPG'), PosixPath('/Users/danaawamleh/Desktop/leaves/Pongamia Pinnata (P7)/healthy/0007_0027.JPG'), PosixPath('/Users/danaawamleh/Desktop/leaves/Pongamia Pinnata (P7)/healthy/0007_0147.JPG'), PosixPath('/Users/danaawamleh/Desktop/leaves/Pongamia Pinnata (P7)/healthy/0007_0153.JPG'), PosixPath('/Users/danaawamleh/Desktop/leaves/Pongamia Pinnata (P7)/healthy/0007_0184.JPG'), PosixPath('/Users/danaawamleh/Desktop/leaves/Pongamia Pinnata (P7)/healthy/0007_0190.JPG'), PosixPath('/Users/danaawamleh/Desktop/leaves/Pongamia Pinnata (P7)/healthy/0007_0191.JPG'), PosixPath('/Users/danaawamleh/Desktop/leaves/Pongamia Pinnata (P7)/healthy/0007_0185.JPG'), PosixPath('/Users/danaawamleh/Desktop/leaves/Pongamia Pinnata (P7)/healthy/0007_0152.JPG'), PosixPath('/Users/danaawamleh/Desktop/leaves/Pongamia Pinnata (P7)/healthy/0007_0146.JPG'), PosixPath('/Users/danaawamleh/Desktop/leaves/Pongamia Pinnata (P7)/healthy/0007_0026.JPG'), PosixPath('/Users/danaawamleh/Desktop/leaves/Pongamia Pinnata (P7)/healthy/0007_0032.JPG'), PosixPath('/Users/danaawamleh/Desktop/leaves/Pongamia Pinnata (P7)/healthy/0007_0218.JPG'), PosixPath('/Users/danaawamleh/Desktop/leaves/Pongamia Pinnata (P7)/healthy/0007_0224.JPG'), PosixPath('/Users/danaawamleh/Desktop/leaves/Pongamia Pinnata (P7)/healthy/0007_0230.JPG'), PosixPath('/Users/danaawamleh/Desktop/leaves/Pongamia Pinnata (P7)/healthy/0007_0208.JPG'), PosixPath('/Users/danaawamleh/Desktop/leaves/Pongamia Pinnata (P7)/healthy/0007_0234.JPG'), PosixPath('/Users/danaawamleh/Desktop/leaves/Pongamia Pinnata (P7)/healthy/0007_0220.JPG'), PosixPath('/Users/danaawamleh/Desktop/leaves/Pongamia Pinnata (P7)/healthy/0007_0036.JPG'), PosixPath('/Users/danaawamleh/Desktop/leaves/Pongamia Pinnata (P7)/healthy/0007_0022.JPG'), PosixPath('/Users/danaawamleh/Desktop/leaves/Pongamia Pinnata (P7)/healthy/0007_0142.JPG'), PosixPath('/Users/danaawamleh/Desktop/leaves/Pongamia Pinnata (P7)/healthy/0007_0156.JPG'), PosixPath('/Users/danaawamleh/Desktop/leaves/Pongamia Pinnata (P7)/healthy/0007_0181.JPG'), PosixPath('/Users/danaawamleh/Desktop/leaves/Pongamia Pinnata (P7)/healthy/0007_0195.JPG'), PosixPath('/Users/danaawamleh/Desktop/leaves/Pongamia Pinnata (P7)/healthy/0007_0194.JPG'), PosixPath('/Users/danaawamleh/Desktop/leaves/Pongamia Pinnata (P7)/healthy/0007_0180.JPG'), PosixPath('/Users/danaawamleh/Desktop/leaves/Pongamia Pinnata (P7)/healthy/0007_0157.JPG'), PosixPath('/Users/danaawamleh/Desktop/leaves/Pongamia Pinnata (P7)/healthy/0007_0143.JPG'), PosixPath('/Users/danaawamleh/Desktop/leaves/Pongamia Pinnata (P7)/healthy/0007_0023.JPG'), PosixPath('/Users/danaawamleh/Desktop/leaves/Pongamia Pinnata (P7)/healthy/0007_0037.JPG'), PosixPath('/Users/danaawamleh/Desktop/leaves/Pongamia Pinnata (P7)/healthy/0007_0221.JPG'), PosixPath('/Users/danaawamleh/Desktop/leaves/Pongamia Pinnata (P7)/healthy/0007_0235.JPG'), PosixPath('/Users/danaawamleh/Desktop/leaves/Pongamia Pinnata (P7)/healthy/0007_0209.JPG'), PosixPath('/Users/danaawamleh/Desktop/leaves/Pongamia Pinnata (P7)/healthy/0007_0223.JPG'), PosixPath('/Users/danaawamleh/Desktop/leaves/Pongamia Pinnata (P7)/healthy/0007_0237.JPG'), PosixPath('/Users/danaawamleh/Desktop/leaves/Pongamia Pinnata (P7)/healthy/0007_0009.JPG'), PosixPath('/Users/danaawamleh/Desktop/leaves/Pongamia Pinnata (P7)/healthy/0007_0021.JPG'), PosixPath('/Users/danaawamleh/Desktop/leaves/Pongamia Pinnata (P7)/healthy/0007_0035.JPG'), PosixPath('/Users/danaawamleh/Desktop/leaves/Pongamia Pinnata (P7)/healthy/0007_0169.JPG'), PosixPath('/Users/danaawamleh/Desktop/leaves/Pongamia Pinnata (P7)/healthy/0007_0155.JPG'), PosixPath('/Users/danaawamleh/Desktop/leaves/Pongamia Pinnata (P7)/healthy/0007_0141.JPG'), PosixPath('/Users/danaawamleh/Desktop/leaves/Pongamia Pinnata (P7)/healthy/0007_0196.JPG'), PosixPath('/Users/danaawamleh/Desktop/leaves/Pongamia Pinnata (P7)/healthy/0007_0182.JPG'), PosixPath('/Users/danaawamleh/Desktop/leaves/Pongamia Pinnata (P7)/healthy/0007_0183.JPG'), PosixPath('/Users/danaawamleh/Desktop/leaves/Pongamia Pinnata (P7)/healthy/0007_0197.JPG'), PosixPath('/Users/danaawamleh/Desktop/leaves/Pongamia Pinnata (P7)/healthy/0007_0140.JPG'), PosixPath('/Users/danaawamleh/Desktop/leaves/Pongamia Pinnata (P7)/healthy/0007_0154.JPG'), PosixPath('/Users/danaawamleh/Desktop/leaves/Pongamia Pinnata (P7)/healthy/0007_0168.JPG'), PosixPath('/Users/danaawamleh/Desktop/leaves/Pongamia Pinnata (P7)/healthy/0007_0034.JPG'), PosixPath('/Users/danaawamleh/Desktop/leaves/Pongamia Pinnata (P7)/healthy/0007_0020.JPG'), PosixPath('/Users/danaawamleh/Desktop/leaves/Pongamia Pinnata (P7)/healthy/0007_0008.JPG'), PosixPath('/Users/danaawamleh/Desktop/leaves/Pongamia Pinnata (P7)/healthy/0007_0236.JPG'), PosixPath('/Users/danaawamleh/Desktop/leaves/Pongamia Pinnata (P7)/healthy/0007_0222.JPG'), PosixPath('/Users/danaawamleh/Desktop/leaves/Pongamia Pinnata (P7)/healthy/0007_0207.JPG'), PosixPath('/Users/danaawamleh/Desktop/leaves/Pongamia Pinnata (P7)/healthy/0007_0213.JPG'), PosixPath('/Users/danaawamleh/Desktop/leaves/Pongamia Pinnata (P7)/healthy/0007_0005.JPG'), PosixPath('/Users/danaawamleh/Desktop/leaves/Pongamia Pinnata (P7)/healthy/0007_0011.JPG'), PosixPath('/Users/danaawamleh/Desktop/leaves/Pongamia Pinnata (P7)/healthy/0007_0039.JPG'), PosixPath('/Users/danaawamleh/Desktop/leaves/Pongamia Pinnata (P7)/healthy/0007_0171.JPG'), PosixPath('/Users/danaawamleh/Desktop/leaves/Pongamia Pinnata (P7)/healthy/0007_0165.JPG'), PosixPath('/Users/danaawamleh/Desktop/leaves/Pongamia Pinnata (P7)/healthy/0007_0159.JPG'), PosixPath('/Users/danaawamleh/Desktop/leaves/Pongamia Pinnata (P7)/healthy/0007_0158.JPG'), PosixPath('/Users/danaawamleh/Desktop/leaves/Pongamia Pinnata (P7)/healthy/0007_0164.JPG'), PosixPath('/Users/danaawamleh/Desktop/leaves/Pongamia Pinnata (P7)/healthy/0007_0170.JPG'), PosixPath('/Users/danaawamleh/Desktop/leaves/Pongamia Pinnata (P7)/healthy/0007_0038.JPG'), PosixPath('/Users/danaawamleh/Desktop/leaves/Pongamia Pinnata (P7)/healthy/0007_0010.JPG'), PosixPath('/Users/danaawamleh/Desktop/leaves/Pongamia Pinnata (P7)/healthy/0007_0004.JPG'), PosixPath('/Users/danaawamleh/Desktop/leaves/Pongamia Pinnata (P7)/healthy/0007_0212.JPG'), PosixPath('/Users/danaawamleh/Desktop/leaves/Pongamia Pinnata (P7)/healthy/0007_0206.JPG'), PosixPath('/Users/danaawamleh/Desktop/leaves/Pongamia Pinnata (P7)/healthy/0007_0210.JPG'), PosixPath('/Users/danaawamleh/Desktop/leaves/Pongamia Pinnata (P7)/healthy/0007_0204.JPG'), PosixPath('/Users/danaawamleh/Desktop/leaves/Pongamia Pinnata (P7)/healthy/0007_0238.JPG'), PosixPath('/Users/danaawamleh/Desktop/leaves/Pongamia Pinnata (P7)/healthy/0007_0012.JPG'), PosixPath('/Users/danaawamleh/Desktop/leaves/Pongamia Pinnata (P7)/healthy/0007_0006.JPG'), PosixPath('/Users/danaawamleh/Desktop/leaves/Pongamia Pinnata (P7)/healthy/0007_0166.JPG'), PosixPath('/Users/danaawamleh/Desktop/leaves/Pongamia Pinnata (P7)/healthy/0007_0172.JPG'), PosixPath('/Users/danaawamleh/Desktop/leaves/Pongamia Pinnata (P7)/healthy/0007_0199.JPG'), PosixPath('/Users/danaawamleh/Desktop/leaves/Pongamia Pinnata (P7)/healthy/0007_0198.JPG'), PosixPath('/Users/danaawamleh/Desktop/leaves/Pongamia Pinnata (P7)/healthy/0007_0173.JPG'), PosixPath('/Users/danaawamleh/Desktop/leaves/Pongamia Pinnata (P7)/healthy/0007_0167.JPG'), PosixPath('/Users/danaawamleh/Desktop/leaves/Pongamia Pinnata (P7)/healthy/0007_0007.JPG'), PosixPath('/Users/danaawamleh/Desktop/leaves/Pongamia Pinnata (P7)/healthy/0007_0013.JPG'), PosixPath('/Users/danaawamleh/Desktop/leaves/Pongamia Pinnata (P7)/healthy/0007_0239.JPG'), PosixPath('/Users/danaawamleh/Desktop/leaves/Pongamia Pinnata (P7)/healthy/0007_0205.JPG'), PosixPath('/Users/danaawamleh/Desktop/leaves/Pongamia Pinnata (P7)/healthy/0007_0211.JPG'), PosixPath('/Users/danaawamleh/Desktop/leaves/Pongamia Pinnata (P7)/healthy/0007_0229.JPG'), PosixPath('/Users/danaawamleh/Desktop/leaves/Pongamia Pinnata (P7)/healthy/0007_0215.JPG'), PosixPath('/Users/danaawamleh/Desktop/leaves/Pongamia Pinnata (P7)/healthy/0007_0201.JPG'), PosixPath('/Users/danaawamleh/Desktop/leaves/Pongamia Pinnata (P7)/healthy/0007_0017.JPG'), PosixPath('/Users/danaawamleh/Desktop/leaves/Pongamia Pinnata (P7)/healthy/0007_0003.JPG'), PosixPath('/Users/danaawamleh/Desktop/leaves/Pongamia Pinnata (P7)/healthy/0007_0163.JPG'), PosixPath('/Users/danaawamleh/Desktop/leaves/Pongamia Pinnata (P7)/healthy/0007_0177.JPG'), PosixPath('/Users/danaawamleh/Desktop/leaves/Pongamia Pinnata (P7)/healthy/0007_0188.JPG'), PosixPath('/Users/danaawamleh/Desktop/leaves/Pongamia Pinnata (P7)/healthy/0007_0189.JPG'), PosixPath('/Users/danaawamleh/Desktop/leaves/Pongamia Pinnata (P7)/healthy/0007_0176.JPG'), PosixPath('/Users/danaawamleh/Desktop/leaves/Pongamia Pinnata (P7)/healthy/0007_0162.JPG'), PosixPath('/Users/danaawamleh/Desktop/leaves/Pongamia Pinnata (P7)/healthy/0007_0002.JPG'), PosixPath('/Users/danaawamleh/Desktop/leaves/Pongamia Pinnata (P7)/healthy/0007_0016.JPG'), PosixPath('/Users/danaawamleh/Desktop/leaves/Pongamia Pinnata (P7)/healthy/0007_0200.JPG'), PosixPath('/Users/danaawamleh/Desktop/leaves/Pongamia Pinnata (P7)/healthy/0007_0214.JPG'), PosixPath('/Users/danaawamleh/Desktop/leaves/Pongamia Pinnata (P7)/healthy/0007_0228.JPG'), PosixPath('/Users/danaawamleh/Desktop/leaves/Pongamia Pinnata (P7)/healthy/0007_0202.JPG'), PosixPath('/Users/danaawamleh/Desktop/leaves/Pongamia Pinnata (P7)/healthy/0007_0216.JPG'), PosixPath('/Users/danaawamleh/Desktop/leaves/Pongamia Pinnata (P7)/healthy/0007_0028.JPG'), PosixPath('/Users/danaawamleh/Desktop/leaves/Pongamia Pinnata (P7)/healthy/0007_0014.JPG'), PosixPath('/Users/danaawamleh/Desktop/leaves/Pongamia Pinnata (P7)/healthy/0007_0148.JPG'), PosixPath('/Users/danaawamleh/Desktop/leaves/Pongamia Pinnata (P7)/healthy/0007_0174.JPG'), PosixPath('/Users/danaawamleh/Desktop/leaves/Pongamia Pinnata (P7)/healthy/0007_0160.JPG'), PosixPath('/Users/danaawamleh/Desktop/leaves/Pongamia Pinnata (P7)/healthy/0007_0161.JPG'), PosixPath('/Users/danaawamleh/Desktop/leaves/Pongamia Pinnata (P7)/healthy/0007_0175.JPG'), PosixPath('/Users/danaawamleh/Desktop/leaves/Pongamia Pinnata (P7)/healthy/0007_0149.JPG'), PosixPath('/Users/danaawamleh/Desktop/leaves/Pongamia Pinnata (P7)/healthy/0007_0015.JPG'), PosixPath('/Users/danaawamleh/Desktop/leaves/Pongamia Pinnata (P7)/healthy/0007_0001.JPG'), PosixPath('/Users/danaawamleh/Desktop/leaves/Pongamia Pinnata (P7)/healthy/0007_0029.JPG'), PosixPath('/Users/danaawamleh/Desktop/leaves/Pongamia Pinnata (P7)/healthy/0007_0217.JPG'), PosixPath('/Users/danaawamleh/Desktop/leaves/Pongamia Pinnata (P7)/healthy/0007_0203.JPG'), PosixPath('/Users/danaawamleh/Desktop/leaves/Pongamia Pinnata (P7)/healthy/0007_0264.JPG'), PosixPath('/Users/danaawamleh/Desktop/leaves/Pongamia Pinnata (P7)/healthy/0007_0270.JPG'), PosixPath('/Users/danaawamleh/Desktop/leaves/Pongamia Pinnata (P7)/healthy/0007_0258.JPG'), PosixPath('/Users/danaawamleh/Desktop/leaves/Pongamia Pinnata (P7)/healthy/0007_0066.JPG'), PosixPath('/Users/danaawamleh/Desktop/leaves/Pongamia Pinnata (P7)/healthy/0007_0072.JPG'), PosixPath('/Users/danaawamleh/Desktop/leaves/Pongamia Pinnata (P7)/healthy/0007_0099.JPG'), PosixPath('/Users/danaawamleh/Desktop/leaves/Pongamia Pinnata (P7)/healthy/0007_0112.JPG'), PosixPath('/Users/danaawamleh/Desktop/leaves/Pongamia Pinnata (P7)/healthy/0007_0106.JPG'), PosixPath('/Users/danaawamleh/Desktop/leaves/Pongamia Pinnata (P7)/healthy/0007_0310.JPG'), PosixPath('/Users/danaawamleh/Desktop/leaves/Pongamia Pinnata (P7)/healthy/0007_0304.JPG'), PosixPath('/Users/danaawamleh/Desktop/leaves/Pongamia Pinnata (P7)/healthy/0007_0305.JPG'), PosixPath('/Users/danaawamleh/Desktop/leaves/Pongamia Pinnata (P7)/healthy/0007_0311.JPG'), PosixPath('/Users/danaawamleh/Desktop/leaves/Pongamia Pinnata (P7)/healthy/0007_0107.JPG'), PosixPath('/Users/danaawamleh/Desktop/leaves/Pongamia Pinnata (P7)/healthy/0007_0113.JPG'), PosixPath('/Users/danaawamleh/Desktop/leaves/Pongamia Pinnata (P7)/healthy/0007_0098.JPG'), PosixPath('/Users/danaawamleh/Desktop/leaves/Pongamia Pinnata (P7)/healthy/0007_0073.JPG'), PosixPath('/Users/danaawamleh/Desktop/leaves/Pongamia Pinnata (P7)/healthy/0007_0067.JPG'), PosixPath('/Users/danaawamleh/Desktop/leaves/Pongamia Pinnata (P7)/healthy/0007_0259.JPG'), PosixPath('/Users/danaawamleh/Desktop/leaves/Pongamia Pinnata (P7)/healthy/0007_0271.JPG'), PosixPath('/Users/danaawamleh/Desktop/leaves/Pongamia Pinnata (P7)/healthy/0007_0265.JPG'), PosixPath('/Users/danaawamleh/Desktop/leaves/Pongamia Pinnata (P7)/healthy/0007_0273.JPG'), PosixPath('/Users/danaawamleh/Desktop/leaves/Pongamia Pinnata (P7)/healthy/0007_0267.JPG'), PosixPath('/Users/danaawamleh/Desktop/leaves/Pongamia Pinnata (P7)/healthy/0007_0298.JPG'), PosixPath('/Users/danaawamleh/Desktop/leaves/Pongamia Pinnata (P7)/healthy/0007_0071.JPG'), PosixPath('/Users/danaawamleh/Desktop/leaves/Pongamia Pinnata (P7)/healthy/0007_0065.JPG'), PosixPath('/Users/danaawamleh/Desktop/leaves/Pongamia Pinnata (P7)/healthy/0007_0059.JPG'), PosixPath('/Users/danaawamleh/Desktop/leaves/Pongamia Pinnata (P7)/healthy/0007_0105.JPG'), PosixPath('/Users/danaawamleh/Desktop/leaves/Pongamia Pinnata (P7)/healthy/0007_0111.JPG'), PosixPath('/Users/danaawamleh/Desktop/leaves/Pongamia Pinnata (P7)/healthy/0007_0139.JPG'), PosixPath('/Users/danaawamleh/Desktop/leaves/Pongamia Pinnata (P7)/healthy/0007_0307.JPG'), PosixPath('/Users/danaawamleh/Desktop/leaves/Pongamia Pinnata (P7)/healthy/0007_0313.JPG'), PosixPath('/Users/danaawamleh/Desktop/leaves/Pongamia Pinnata (P7)/healthy/0007_0312.JPG'), PosixPath('/Users/danaawamleh/Desktop/leaves/Pongamia Pinnata (P7)/healthy/0007_0306.JPG'), PosixPath('/Users/danaawamleh/Desktop/leaves/Pongamia Pinnata (P7)/healthy/0007_0138.JPG'), PosixPath('/Users/danaawamleh/Desktop/leaves/Pongamia Pinnata (P7)/healthy/0007_0110.JPG'), PosixPath('/Users/danaawamleh/Desktop/leaves/Pongamia Pinnata (P7)/healthy/0007_0104.JPG'), PosixPath('/Users/danaawamleh/Desktop/leaves/Pongamia Pinnata (P7)/healthy/0007_0058.JPG'), PosixPath('/Users/danaawamleh/Desktop/leaves/Pongamia Pinnata (P7)/healthy/0007_0064.JPG'), PosixPath('/Users/danaawamleh/Desktop/leaves/Pongamia Pinnata (P7)/healthy/0007_0070.JPG'), PosixPath('/Users/danaawamleh/Desktop/leaves/Pongamia Pinnata (P7)/healthy/0007_0299.JPG'), PosixPath('/Users/danaawamleh/Desktop/leaves/Pongamia Pinnata (P7)/healthy/0007_0266.JPG'), PosixPath('/Users/danaawamleh/Desktop/leaves/Pongamia Pinnata (P7)/healthy/0007_0272.JPG'), PosixPath('/Users/danaawamleh/Desktop/leaves/Pongamia Pinnata (P7)/healthy/0007_0276.JPG'), PosixPath('/Users/danaawamleh/Desktop/leaves/Pongamia Pinnata (P7)/healthy/0007_0262.JPG'), PosixPath('/Users/danaawamleh/Desktop/leaves/Pongamia Pinnata (P7)/healthy/0007_0289.JPG'), PosixPath('/Users/danaawamleh/Desktop/leaves/Pongamia Pinnata (P7)/healthy/0007_0048.JPG'), PosixPath('/Users/danaawamleh/Desktop/leaves/Pongamia Pinnata (P7)/healthy/0007_0074.JPG'), PosixPath('/Users/danaawamleh/Desktop/leaves/Pongamia Pinnata (P7)/healthy/0007_0060.JPG'), PosixPath('/Users/danaawamleh/Desktop/leaves/Pongamia Pinnata (P7)/healthy/0007_0128.JPG'), PosixPath('/Users/danaawamleh/Desktop/leaves/Pongamia Pinnata (P7)/healthy/0007_0100.JPG'), PosixPath('/Users/danaawamleh/Desktop/leaves/Pongamia Pinnata (P7)/healthy/0007_0114.JPG'), PosixPath('/Users/danaawamleh/Desktop/leaves/Pongamia Pinnata (P7)/healthy/0007_0302.JPG'), PosixPath('/Users/danaawamleh/Desktop/leaves/Pongamia Pinnata (P7)/healthy/0007_0316.JPG'), PosixPath('/Users/danaawamleh/Desktop/leaves/Pongamia Pinnata (P7)/healthy/0007_0317.JPG'), PosixPath('/Users/danaawamleh/Desktop/leaves/Pongamia Pinnata (P7)/healthy/0007_0303.JPG'), PosixPath('/Users/danaawamleh/Desktop/leaves/Pongamia Pinnata (P7)/healthy/0007_0115.JPG'), PosixPath('/Users/danaawamleh/Desktop/leaves/Pongamia Pinnata (P7)/healthy/0007_0101.JPG'), PosixPath('/Users/danaawamleh/Desktop/leaves/Pongamia Pinnata (P7)/healthy/0007_0129.JPG'), PosixPath('/Users/danaawamleh/Desktop/leaves/Pongamia Pinnata (P7)/healthy/0007_0061.JPG'), PosixPath('/Users/danaawamleh/Desktop/leaves/Pongamia Pinnata (P7)/healthy/0007_0075.JPG'), PosixPath('/Users/danaawamleh/Desktop/leaves/Pongamia Pinnata (P7)/healthy/0007_0049.JPG'), PosixPath('/Users/danaawamleh/Desktop/leaves/Pongamia Pinnata (P7)/healthy/0007_0288.JPG'), PosixPath('/Users/danaawamleh/Desktop/leaves/Pongamia Pinnata (P7)/healthy/0007_0263.JPG'), PosixPath('/Users/danaawamleh/Desktop/leaves/Pongamia Pinnata (P7)/healthy/0007_0277.JPG'), PosixPath('/Users/danaawamleh/Desktop/leaves/Pongamia Pinnata (P7)/healthy/0007_0249.JPG'), PosixPath('/Users/danaawamleh/Desktop/leaves/Pongamia Pinnata (P7)/healthy/0007_0261.JPG'), PosixPath('/Users/danaawamleh/Desktop/leaves/Pongamia Pinnata (P7)/healthy/0007_0275.JPG'), PosixPath('/Users/danaawamleh/Desktop/leaves/Pongamia Pinnata (P7)/healthy/0007_0063.JPG'), PosixPath('/Users/danaawamleh/Desktop/leaves/Pongamia Pinnata (P7)/healthy/0007_0077.JPG'), PosixPath('/Users/danaawamleh/Desktop/leaves/Pongamia Pinnata (P7)/healthy/0007_0117.JPG'), PosixPath('/Users/danaawamleh/Desktop/leaves/Pongamia Pinnata (P7)/healthy/0007_0103.JPG'), PosixPath('/Users/danaawamleh/Desktop/leaves/Pongamia Pinnata (P7)/healthy/0007_0329.JPG'), PosixPath('/Users/danaawamleh/Desktop/leaves/Pongamia Pinnata (P7)/healthy/0007_0315.JPG'), PosixPath('/Users/danaawamleh/Desktop/leaves/Pongamia Pinnata (P7)/healthy/0007_0301.JPG'), PosixPath('/Users/danaawamleh/Desktop/leaves/Pongamia Pinnata (P7)/healthy/0007_0300.JPG'), PosixPath('/Users/danaawamleh/Desktop/leaves/Pongamia Pinnata (P7)/healthy/0007_0314.JPG'), PosixPath('/Users/danaawamleh/Desktop/leaves/Pongamia Pinnata (P7)/healthy/0007_0328.JPG'), PosixPath('/Users/danaawamleh/Desktop/leaves/Pongamia Pinnata (P7)/healthy/0007_0102.JPG'), PosixPath('/Users/danaawamleh/Desktop/leaves/Pongamia Pinnata (P7)/healthy/0007_0116.JPG'), PosixPath('/Users/danaawamleh/Desktop/leaves/Pongamia Pinnata (P7)/healthy/0007_0076.JPG'), PosixPath('/Users/danaawamleh/Desktop/leaves/Pongamia Pinnata (P7)/healthy/0007_0062.JPG'), PosixPath('/Users/danaawamleh/Desktop/leaves/Pongamia Pinnata (P7)/healthy/0007_0274.JPG'), PosixPath('/Users/danaawamleh/Desktop/leaves/Pongamia Pinnata (P7)/healthy/0007_0260.JPG'), PosixPath('/Users/danaawamleh/Desktop/leaves/Pongamia Pinnata (P7)/healthy/0007_0248.JPG'), PosixPath('/Users/danaawamleh/Desktop/leaves/Mango (P0)/healthy/0001_0022.JPG'), PosixPath('/Users/danaawamleh/Desktop/leaves/Mango (P0)/healthy/0001_0036.JPG'), PosixPath('/Users/danaawamleh/Desktop/leaves/Mango (P0)/healthy/0001_0156.JPG'), PosixPath('/Users/danaawamleh/Desktop/leaves/Mango (P0)/healthy/0001_0142.JPG'), PosixPath('/Users/danaawamleh/Desktop/leaves/Mango (P0)/healthy/0001_0143.JPG'), PosixPath('/Users/danaawamleh/Desktop/leaves/Mango (P0)/healthy/0001_0157.JPG'), PosixPath('/Users/danaawamleh/Desktop/leaves/Mango (P0)/healthy/0001_0037.JPG'), PosixPath('/Users/danaawamleh/Desktop/leaves/Mango (P0)/healthy/0001_0023.JPG'), PosixPath('/Users/danaawamleh/Desktop/leaves/Mango (P0)/healthy/0001_0009.JPG'), PosixPath('/Users/danaawamleh/Desktop/leaves/Mango (P0)/healthy/0001_0035.JPG'), PosixPath('/Users/danaawamleh/Desktop/leaves/Mango (P0)/healthy/0001_0021.JPG'), PosixPath('/Users/danaawamleh/Desktop/leaves/Mango (P0)/healthy/0001_0169.JPG'), PosixPath('/Users/danaawamleh/Desktop/leaves/Mango (P0)/healthy/0001_0141.JPG'), PosixPath('/Users/danaawamleh/Desktop/leaves/Mango (P0)/healthy/0001_0155.JPG'), PosixPath('/Users/danaawamleh/Desktop/leaves/Mango (P0)/healthy/0001_0154.JPG'), PosixPath('/Users/danaawamleh/Desktop/leaves/Mango (P0)/healthy/0001_0140.JPG'), PosixPath('/Users/danaawamleh/Desktop/leaves/Mango (P0)/healthy/0001_0168.JPG'), PosixPath('/Users/danaawamleh/Desktop/leaves/Mango (P0)/healthy/0001_0020.JPG'), PosixPath('/Users/danaawamleh/Desktop/leaves/Mango (P0)/healthy/0001_0034.JPG'), PosixPath('/Users/danaawamleh/Desktop/leaves/Mango (P0)/healthy/0001_0008.JPG'), PosixPath('/Users/danaawamleh/Desktop/leaves/Mango (P0)/healthy/0001_0030.JPG'), PosixPath('/Users/danaawamleh/Desktop/leaves/Mango (P0)/healthy/0001_0024.JPG'), PosixPath('/Users/danaawamleh/Desktop/leaves/Mango (P0)/healthy/0001_0018.JPG'), PosixPath('/Users/danaawamleh/Desktop/leaves/Mango (P0)/healthy/0001_0144.JPG'), PosixPath('/Users/danaawamleh/Desktop/leaves/Mango (P0)/healthy/0001_0150.JPG'), PosixPath('/Users/danaawamleh/Desktop/leaves/Mango (P0)/healthy/0001_0151.JPG'), PosixPath('/Users/danaawamleh/Desktop/leaves/Mango (P0)/healthy/0001_0145.JPG'), PosixPath('/Users/danaawamleh/Desktop/leaves/Mango (P0)/healthy/0001_0019.JPG'), PosixPath('/Users/danaawamleh/Desktop/leaves/Mango (P0)/healthy/0001_0025.JPG'), PosixPath('/Users/danaawamleh/Desktop/leaves/Mango (P0)/healthy/0001_0031.JPG'), PosixPath('/Users/danaawamleh/Desktop/leaves/Mango (P0)/healthy/0001_0027.JPG'), PosixPath('/Users/danaawamleh/Desktop/leaves/Mango (P0)/healthy/0001_0033.JPG'), PosixPath('/Users/danaawamleh/Desktop/leaves/Mango (P0)/healthy/0001_0153.JPG'), PosixPath('/Users/danaawamleh/Desktop/leaves/Mango (P0)/healthy/0001_0147.JPG'), PosixPath('/Users/danaawamleh/Desktop/leaves/Mango (P0)/healthy/0001_0146.JPG'), PosixPath('/Users/danaawamleh/Desktop/leaves/Mango (P0)/healthy/0001_0152.JPG'), PosixPath('/Users/danaawamleh/Desktop/leaves/Mango (P0)/healthy/0001_0032.JPG'), PosixPath('/Users/danaawamleh/Desktop/leaves/Mango (P0)/healthy/0001_0026.JPG'), PosixPath('/Users/danaawamleh/Desktop/leaves/Mango (P0)/healthy/0001_0069.JPG'), PosixPath('/Users/danaawamleh/Desktop/leaves/Mango (P0)/healthy/0001_0041.JPG'), PosixPath('/Users/danaawamleh/Desktop/leaves/Mango (P0)/healthy/0001_0055.JPG'), PosixPath('/Users/danaawamleh/Desktop/leaves/Mango (P0)/healthy/0001_0082.JPG'), PosixPath('/Users/danaawamleh/Desktop/leaves/Mango (P0)/healthy/0001_0096.JPG'), PosixPath('/Users/danaawamleh/Desktop/leaves/Mango (P0)/healthy/0001_0109.JPG'), PosixPath('/Users/danaawamleh/Desktop/leaves/Mango (P0)/healthy/0001_0135.JPG'), PosixPath('/Users/danaawamleh/Desktop/leaves/Mango (P0)/healthy/0001_0121.JPG'), PosixPath('/Users/danaawamleh/Desktop/leaves/Mango (P0)/healthy/0001_0120.JPG'), PosixPath('/Users/danaawamleh/Desktop/leaves/Mango (P0)/healthy/0001_0134.JPG'), PosixPath('/Users/danaawamleh/Desktop/leaves/Mango (P0)/healthy/0001_0108.JPG'), PosixPath('/Users/danaawamleh/Desktop/leaves/Mango (P0)/healthy/0001_0097.JPG'), PosixPath('/Users/danaawamleh/Desktop/leaves/Mango (P0)/healthy/0001_0083.JPG'), PosixPath('/Users/danaawamleh/Desktop/leaves/Mango (P0)/healthy/0001_0054.JPG'), PosixPath('/Users/danaawamleh/Desktop/leaves/Mango (P0)/healthy/0001_0040.JPG'), PosixPath('/Users/danaawamleh/Desktop/leaves/Mango (P0)/healthy/0001_0068.JPG'), PosixPath('/Users/danaawamleh/Desktop/leaves/Mango (P0)/healthy/0001_0056.JPG'), PosixPath('/Users/danaawamleh/Desktop/leaves/Mango (P0)/healthy/0001_0042.JPG'), PosixPath('/Users/danaawamleh/Desktop/leaves/Mango (P0)/healthy/0001_0095.JPG'), PosixPath('/Users/danaawamleh/Desktop/leaves/Mango (P0)/healthy/0001_0081.JPG'), PosixPath('/Users/danaawamleh/Desktop/leaves/Mango (P0)/healthy/0001_0122.JPG'), PosixPath('/Users/danaawamleh/Desktop/leaves/Mango (P0)/healthy/0001_0136.JPG'), PosixPath('/Users/danaawamleh/Desktop/leaves/Mango (P0)/healthy/0001_0137.JPG'), PosixPath('/Users/danaawamleh/Desktop/leaves/Mango (P0)/healthy/0001_0123.JPG'), PosixPath('/Users/danaawamleh/Desktop/leaves/Mango (P0)/healthy/0001_0080.JPG'), PosixPath('/Users/danaawamleh/Desktop/leaves/Mango (P0)/healthy/0001_0094.JPG'), PosixPath('/Users/danaawamleh/Desktop/leaves/Mango (P0)/healthy/0001_0043.JPG'), PosixPath('/Users/danaawamleh/Desktop/leaves/Mango (P0)/healthy/0001_0057.JPG'), PosixPath('/Users/danaawamleh/Desktop/leaves/Mango (P0)/healthy/0001_0053.JPG'), PosixPath('/Users/danaawamleh/Desktop/leaves/Mango (P0)/healthy/0001_0047.JPG'), PosixPath('/Users/danaawamleh/Desktop/leaves/Mango (P0)/healthy/0001_0090.JPG'), PosixPath('/Users/danaawamleh/Desktop/leaves/Mango (P0)/healthy/0001_0084.JPG'), PosixPath('/Users/danaawamleh/Desktop/leaves/Mango (P0)/healthy/0001_0127.JPG'), PosixPath('/Users/danaawamleh/Desktop/leaves/Mango (P0)/healthy/0001_0133.JPG'), PosixPath('/Users/danaawamleh/Desktop/leaves/Mango (P0)/healthy/0001_0132.JPG'), PosixPath('/Users/danaawamleh/Desktop/leaves/Mango (P0)/healthy/0001_0126.JPG'), PosixPath('/Users/danaawamleh/Desktop/leaves/Mango (P0)/healthy/0001_0085.JPG'), PosixPath('/Users/danaawamleh/Desktop/leaves/Mango (P0)/healthy/0001_0091.JPG'), PosixPath('/Users/danaawamleh/Desktop/leaves/Mango (P0)/healthy/0001_0046.JPG'), PosixPath('/Users/danaawamleh/Desktop/leaves/Mango (P0)/healthy/0001_0052.JPG'), PosixPath('/Users/danaawamleh/Desktop/leaves/Mango (P0)/healthy/0001_0044.JPG'), PosixPath('/Users/danaawamleh/Desktop/leaves/Mango (P0)/healthy/0001_0050.JPG'), PosixPath('/Users/danaawamleh/Desktop/leaves/Mango (P0)/healthy/0001_0078.JPG'), PosixPath('/Users/danaawamleh/Desktop/leaves/Mango (P0)/healthy/0001_0087.JPG'), PosixPath('/Users/danaawamleh/Desktop/leaves/Mango (P0)/healthy/0001_0093.JPG'), PosixPath('/Users/danaawamleh/Desktop/leaves/Mango (P0)/healthy/0001_0130.JPG'), PosixPath('/Users/danaawamleh/Desktop/leaves/Mango (P0)/healthy/0001_0124.JPG'), PosixPath('/Users/danaawamleh/Desktop/leaves/Mango (P0)/healthy/0001_0118.JPG'), PosixPath('/Users/danaawamleh/Desktop/leaves/Mango (P0)/healthy/0001_0119.JPG'), PosixPath('/Users/danaawamleh/Desktop/leaves/Mango (P0)/healthy/0001_0125.JPG'), PosixPath('/Users/danaawamleh/Desktop/leaves/Mango (P0)/healthy/0001_0131.JPG'), PosixPath('/Users/danaawamleh/Desktop/leaves/Mango (P0)/healthy/0001_0092.JPG'), PosixPath('/Users/danaawamleh/Desktop/leaves/Mango (P0)/healthy/0001_0086.JPG'), PosixPath('/Users/danaawamleh/Desktop/leaves/Mango (P0)/healthy/0001_0079.JPG'), PosixPath('/Users/danaawamleh/Desktop/leaves/Mango (P0)/healthy/0001_0051.JPG'), PosixPath('/Users/danaawamleh/Desktop/leaves/Mango (P0)/healthy/0001_0045.JPG'), PosixPath('/Users/danaawamleh/Desktop/leaves/Mango (P0)/healthy/0001_0048.JPG'), PosixPath('/Users/danaawamleh/Desktop/leaves/Mango (P0)/healthy/0001_0060.JPG'), PosixPath('/Users/danaawamleh/Desktop/leaves/Mango (P0)/healthy/0001_0074.JPG'), PosixPath('/Users/danaawamleh/Desktop/leaves/Mango (P0)/healthy/0001_0128.JPG'), PosixPath('/Users/danaawamleh/Desktop/leaves/Mango (P0)/healthy/0001_0114.JPG'), PosixPath('/Users/danaawamleh/Desktop/leaves/Mango (P0)/healthy/0001_0100.JPG'), PosixPath('/Users/danaawamleh/Desktop/leaves/Mango (P0)/healthy/0001_0101.JPG'), PosixPath('/Users/danaawamleh/Desktop/leaves/Mango (P0)/healthy/0001_0115.JPG'), PosixPath('/Users/danaawamleh/Desktop/leaves/Mango (P0)/healthy/0001_0129.JPG'), PosixPath('/Users/danaawamleh/Desktop/leaves/Mango (P0)/healthy/0001_0075.JPG'), PosixPath('/Users/danaawamleh/Desktop/leaves/Mango (P0)/healthy/0001_0061.JPG'), PosixPath('/Users/danaawamleh/Desktop/leaves/Mango (P0)/healthy/0001_0049.JPG'), PosixPath('/Users/danaawamleh/Desktop/leaves/Mango (P0)/healthy/0001_0077.JPG'), PosixPath('/Users/danaawamleh/Desktop/leaves/Mango (P0)/healthy/0001_0063.JPG'), PosixPath('/Users/danaawamleh/Desktop/leaves/Mango (P0)/healthy/0001_0088.JPG'), PosixPath('/Users/danaawamleh/Desktop/leaves/Mango (P0)/healthy/0001_0103.JPG'), PosixPath('/Users/danaawamleh/Desktop/leaves/Mango (P0)/healthy/0001_0117.JPG'), PosixPath('/Users/danaawamleh/Desktop/leaves/Mango (P0)/healthy/0001_0116.JPG'), PosixPath('/Users/danaawamleh/Desktop/leaves/Mango (P0)/healthy/0001_0102.JPG'), PosixPath('/Users/danaawamleh/Desktop/leaves/Mango (P0)/healthy/0001_0089.JPG'), PosixPath('/Users/danaawamleh/Desktop/leaves/Mango (P0)/healthy/0001_0062.JPG'), PosixPath('/Users/danaawamleh/Desktop/leaves/Mango (P0)/healthy/0001_0076.JPG'), PosixPath('/Users/danaawamleh/Desktop/leaves/Mango (P0)/healthy/0001_0072.JPG'), PosixPath('/Users/danaawamleh/Desktop/leaves/Mango (P0)/healthy/0001_0066.JPG'), PosixPath('/Users/danaawamleh/Desktop/leaves/Mango (P0)/healthy/0001_0099.JPG'), PosixPath('/Users/danaawamleh/Desktop/leaves/Mango (P0)/healthy/0001_0106.JPG'), PosixPath('/Users/danaawamleh/Desktop/leaves/Mango (P0)/healthy/0001_0112.JPG'), PosixPath('/Users/danaawamleh/Desktop/leaves/Mango (P0)/healthy/0001_0113.JPG'), PosixPath('/Users/danaawamleh/Desktop/leaves/Mango (P0)/healthy/0001_0107.JPG'), PosixPath('/Users/danaawamleh/Desktop/leaves/Mango (P0)/healthy/0001_0098.JPG'), PosixPath('/Users/danaawamleh/Desktop/leaves/Mango (P0)/healthy/0001_0067.JPG'), PosixPath('/Users/danaawamleh/Desktop/leaves/Mango (P0)/healthy/0001_0073.JPG'), PosixPath('/Users/danaawamleh/Desktop/leaves/Mango (P0)/healthy/0001_0065.JPG'), PosixPath('/Users/danaawamleh/Desktop/leaves/Mango (P0)/healthy/0001_0071.JPG'), PosixPath('/Users/danaawamleh/Desktop/leaves/Mango (P0)/healthy/0001_0059.JPG'), PosixPath('/Users/danaawamleh/Desktop/leaves/Mango (P0)/healthy/0001_0111.JPG'), PosixPath('/Users/danaawamleh/Desktop/leaves/Mango (P0)/healthy/0001_0105.JPG'), PosixPath('/Users/danaawamleh/Desktop/leaves/Mango (P0)/healthy/0001_0139.JPG'), PosixPath('/Users/danaawamleh/Desktop/leaves/Mango (P0)/healthy/0001_0138.JPG'), PosixPath('/Users/danaawamleh/Desktop/leaves/Mango (P0)/healthy/0001_0104.JPG'), PosixPath('/Users/danaawamleh/Desktop/leaves/Mango (P0)/healthy/0001_0110.JPG'), PosixPath('/Users/danaawamleh/Desktop/leaves/Mango (P0)/healthy/0001_0058.JPG'), PosixPath('/Users/danaawamleh/Desktop/leaves/Mango (P0)/healthy/0001_0070.JPG'), PosixPath('/Users/danaawamleh/Desktop/leaves/Mango (P0)/healthy/0001_0064.JPG'), PosixPath('/Users/danaawamleh/Desktop/leaves/Mango (P0)/healthy/0001_0003.JPG'), PosixPath('/Users/danaawamleh/Desktop/leaves/Mango (P0)/healthy/0001_0017.JPG'), PosixPath('/Users/danaawamleh/Desktop/leaves/Mango (P0)/healthy/0001_0163.JPG'), PosixPath('/Users/danaawamleh/Desktop/leaves/Mango (P0)/healthy/0001_0162.JPG'), PosixPath('/Users/danaawamleh/Desktop/leaves/Mango (P0)/healthy/0001_0016.JPG'), PosixPath('/Users/danaawamleh/Desktop/leaves/Mango (P0)/healthy/0001_0002.JPG'), PosixPath('/Users/danaawamleh/Desktop/leaves/Mango (P0)/healthy/0001_0028.JPG'), PosixPath('/Users/danaawamleh/Desktop/leaves/Mango (P0)/healthy/0001_0014.JPG'), PosixPath('/Users/danaawamleh/Desktop/leaves/Mango (P0)/healthy/0001_0148.JPG'), PosixPath('/Users/danaawamleh/Desktop/leaves/Mango (P0)/healthy/0001_0160.JPG'), PosixPath('/Users/danaawamleh/Desktop/leaves/Mango (P0)/healthy/0001_0161.JPG'), PosixPath('/Users/danaawamleh/Desktop/leaves/Mango (P0)/healthy/0001_0149.JPG'), PosixPath('/Users/danaawamleh/Desktop/leaves/Mango (P0)/healthy/0001_0001.JPG'), PosixPath('/Users/danaawamleh/Desktop/leaves/Mango (P0)/healthy/0001_0015.JPG'), PosixPath('/Users/danaawamleh/Desktop/leaves/Mango (P0)/healthy/0001_0029.JPG'), PosixPath('/Users/danaawamleh/Desktop/leaves/Mango (P0)/healthy/0001_0011.JPG'), PosixPath('/Users/danaawamleh/Desktop/leaves/Mango (P0)/healthy/0001_0005.JPG'), PosixPath('/Users/danaawamleh/Desktop/leaves/Mango (P0)/healthy/0001_0039.JPG'), PosixPath('/Users/danaawamleh/Desktop/leaves/Mango (P0)/healthy/0001_0165.JPG'), PosixPath('/Users/danaawamleh/Desktop/leaves/Mango (P0)/healthy/0001_0159.JPG'), PosixPath('/Users/danaawamleh/Desktop/leaves/Mango (P0)/healthy/0001_0158.JPG'), PosixPath('/Users/danaawamleh/Desktop/leaves/Mango (P0)/healthy/0001_0170.JPG'), PosixPath('/Users/danaawamleh/Desktop/leaves/Mango (P0)/healthy/0001_0164.JPG'), PosixPath('/Users/danaawamleh/Desktop/leaves/Mango (P0)/healthy/0001_0038.JPG'), PosixPath('/Users/danaawamleh/Desktop/leaves/Mango (P0)/healthy/0001_0004.JPG'), PosixPath('/Users/danaawamleh/Desktop/leaves/Mango (P0)/healthy/0001_0010.JPG'), PosixPath('/Users/danaawamleh/Desktop/leaves/Mango (P0)/healthy/0001_0006.JPG'), PosixPath('/Users/danaawamleh/Desktop/leaves/Mango (P0)/healthy/0001_0012.JPG'), PosixPath('/Users/danaawamleh/Desktop/leaves/Mango (P0)/healthy/0001_0166.JPG'), PosixPath('/Users/danaawamleh/Desktop/leaves/Mango (P0)/healthy/0001_0167.JPG'), PosixPath('/Users/danaawamleh/Desktop/leaves/Mango (P0)/healthy/0001_0013.JPG'), PosixPath('/Users/danaawamleh/Desktop/leaves/Mango (P0)/healthy/0001_0007.JPG'), PosixPath('/Users/danaawamleh/Desktop/leaves/Pomegranate (P9)/healthy/0009_0112.JPG'), PosixPath('/Users/danaawamleh/Desktop/leaves/Pomegranate (P9)/healthy/0009_0106.JPG'), PosixPath('/Users/danaawamleh/Desktop/leaves/Pomegranate (P9)/healthy/0009_0264.JPG'), PosixPath('/Users/danaawamleh/Desktop/leaves/Pomegranate (P9)/healthy/0009_0270.JPG'), PosixPath('/Users/danaawamleh/Desktop/leaves/Pomegranate (P9)/healthy/0009_0258.JPG'), PosixPath('/Users/danaawamleh/Desktop/leaves/Pomegranate (P9)/healthy/0009_0066.JPG'), PosixPath('/Users/danaawamleh/Desktop/leaves/Pomegranate (P9)/healthy/0009_0072.JPG'), PosixPath('/Users/danaawamleh/Desktop/leaves/Pomegranate (P9)/healthy/0009_0099.JPG'), PosixPath('/Users/danaawamleh/Desktop/leaves/Pomegranate (P9)/healthy/0009_0098.JPG'), PosixPath('/Users/danaawamleh/Desktop/leaves/Pomegranate (P9)/healthy/0009_0073.JPG'), PosixPath('/Users/danaawamleh/Desktop/leaves/Pomegranate (P9)/healthy/0009_0067.JPG'), PosixPath('/Users/danaawamleh/Desktop/leaves/Pomegranate (P9)/healthy/0009_0259.JPG'), PosixPath('/Users/danaawamleh/Desktop/leaves/Pomegranate (P9)/healthy/0009_0271.JPG'), PosixPath('/Users/danaawamleh/Desktop/leaves/Pomegranate (P9)/healthy/0009_0265.JPG'), PosixPath('/Users/danaawamleh/Desktop/leaves/Pomegranate (P9)/healthy/0009_0107.JPG'), PosixPath('/Users/danaawamleh/Desktop/leaves/Pomegranate (P9)/healthy/0009_0113.JPG'), PosixPath('/Users/danaawamleh/Desktop/leaves/Pomegranate (P9)/healthy/0009_0105.JPG'), PosixPath('/Users/danaawamleh/Desktop/leaves/Pomegranate (P9)/healthy/0009_0111.JPG'), PosixPath('/Users/danaawamleh/Desktop/leaves/Pomegranate (P9)/healthy/0009_0139.JPG'), PosixPath('/Users/danaawamleh/Desktop/leaves/Pomegranate (P9)/healthy/0009_0273.JPG'), PosixPath('/Users/danaawamleh/Desktop/leaves/Pomegranate (P9)/healthy/0009_0267.JPG'), PosixPath('/Users/danaawamleh/Desktop/leaves/Pomegranate (P9)/healthy/0009_0071.JPG'), PosixPath('/Users/danaawamleh/Desktop/leaves/Pomegranate (P9)/healthy/0009_0065.JPG'), PosixPath('/Users/danaawamleh/Desktop/leaves/Pomegranate (P9)/healthy/0009_0059.JPG'), PosixPath('/Users/danaawamleh/Desktop/leaves/Pomegranate (P9)/healthy/0009_0058.JPG'), PosixPath('/Users/danaawamleh/Desktop/leaves/Pomegranate (P9)/healthy/0009_0064.JPG'), PosixPath('/Users/danaawamleh/Desktop/leaves/Pomegranate (P9)/healthy/0009_0070.JPG'), PosixPath('/Users/danaawamleh/Desktop/leaves/Pomegranate (P9)/healthy/0009_0266.JPG'), PosixPath('/Users/danaawamleh/Desktop/leaves/Pomegranate (P9)/healthy/0009_0272.JPG'), PosixPath('/Users/danaawamleh/Desktop/leaves/Pomegranate (P9)/healthy/0009_0138.JPG'), PosixPath('/Users/danaawamleh/Desktop/leaves/Pomegranate (P9)/healthy/0009_0110.JPG'), PosixPath('/Users/danaawamleh/Desktop/leaves/Pomegranate (P9)/healthy/0009_0104.JPG'), PosixPath('/Users/danaawamleh/Desktop/leaves/Pomegranate (P9)/healthy/0009_0128.JPG'), PosixPath('/Users/danaawamleh/Desktop/leaves/Pomegranate (P9)/healthy/0009_0100.JPG'), PosixPath('/Users/danaawamleh/Desktop/leaves/Pomegranate (P9)/healthy/0009_0114.JPG'), PosixPath('/Users/danaawamleh/Desktop/leaves/Pomegranate (P9)/healthy/0009_0276.JPG'), PosixPath('/Users/danaawamleh/Desktop/leaves/Pomegranate (P9)/healthy/0009_0262.JPG'), PosixPath('/Users/danaawamleh/Desktop/leaves/Pomegranate (P9)/healthy/0009_0048.JPG'), PosixPath('/Users/danaawamleh/Desktop/leaves/Pomegranate (P9)/healthy/0009_0074.JPG'), PosixPath('/Users/danaawamleh/Desktop/leaves/Pomegranate (P9)/healthy/0009_0060.JPG'), PosixPath('/Users/danaawamleh/Desktop/leaves/Pomegranate (P9)/healthy/0009_0061.JPG'), PosixPath('/Users/danaawamleh/Desktop/leaves/Pomegranate (P9)/healthy/0009_0075.JPG'), PosixPath('/Users/danaawamleh/Desktop/leaves/Pomegranate (P9)/healthy/0009_0049.JPG'), PosixPath('/Users/danaawamleh/Desktop/leaves/Pomegranate (P9)/healthy/0009_0263.JPG'), PosixPath('/Users/danaawamleh/Desktop/leaves/Pomegranate (P9)/healthy/0009_0277.JPG'), PosixPath('/Users/danaawamleh/Desktop/leaves/Pomegranate (P9)/healthy/0009_0115.JPG'), PosixPath('/Users/danaawamleh/Desktop/leaves/Pomegranate (P9)/healthy/0009_0101.JPG'), PosixPath('/Users/danaawamleh/Desktop/leaves/Pomegranate (P9)/healthy/0009_0129.JPG'), PosixPath('/Users/danaawamleh/Desktop/leaves/Pomegranate (P9)/healthy/0009_0117.JPG'), PosixPath('/Users/danaawamleh/Desktop/leaves/Pomegranate (P9)/healthy/0009_0103.JPG'), PosixPath('/Users/danaawamleh/Desktop/leaves/Pomegranate (P9)/healthy/0009_0249.JPG'), PosixPath('/Users/danaawamleh/Desktop/leaves/Pomegranate (P9)/healthy/0009_0261.JPG'), PosixPath('/Users/danaawamleh/Desktop/leaves/Pomegranate (P9)/healthy/0009_0275.JPG'), PosixPath('/Users/danaawamleh/Desktop/leaves/Pomegranate (P9)/healthy/0009_0063.JPG'), PosixPath('/Users/danaawamleh/Desktop/leaves/Pomegranate (P9)/healthy/0009_0077.JPG'), PosixPath('/Users/danaawamleh/Desktop/leaves/Pomegranate (P9)/healthy/0009_0088.JPG'), PosixPath('/Users/danaawamleh/Desktop/leaves/Pomegranate (P9)/healthy/0009_0089.JPG'), PosixPath('/Users/danaawamleh/Desktop/leaves/Pomegranate (P9)/healthy/0009_0076.JPG'), PosixPath('/Users/danaawamleh/Desktop/leaves/Pomegranate (P9)/healthy/0009_0062.JPG'), PosixPath('/Users/danaawamleh/Desktop/leaves/Pomegranate (P9)/healthy/0009_0274.JPG'), PosixPath('/Users/danaawamleh/Desktop/leaves/Pomegranate (P9)/healthy/0009_0260.JPG'), PosixPath('/Users/danaawamleh/Desktop/leaves/Pomegranate (P9)/healthy/0009_0248.JPG'), PosixPath('/Users/danaawamleh/Desktop/leaves/Pomegranate (P9)/healthy/0009_0102.JPG'), PosixPath('/Users/danaawamleh/Desktop/leaves/Pomegranate (P9)/healthy/0009_0116.JPG'), PosixPath('/Users/danaawamleh/Desktop/leaves/Pomegranate (P9)/healthy/0009_0171.JPG'), PosixPath('/Users/danaawamleh/Desktop/leaves/Pomegranate (P9)/healthy/0009_0165.JPG'), PosixPath('/Users/danaawamleh/Desktop/leaves/Pomegranate (P9)/healthy/0009_0159.JPG'), PosixPath('/Users/danaawamleh/Desktop/leaves/Pomegranate (P9)/healthy/0009_0207.JPG'), PosixPath('/Users/danaawamleh/Desktop/leaves/Pomegranate (P9)/healthy/0009_0213.JPG'), PosixPath('/Users/danaawamleh/Desktop/leaves/Pomegranate (P9)/healthy/0009_0005.JPG'), PosixPath('/Users/danaawamleh/Desktop/leaves/Pomegranate (P9)/healthy/0009_0011.JPG'), PosixPath('/Users/danaawamleh/Desktop/leaves/Pomegranate (P9)/healthy/0009_0039.JPG'), PosixPath('/Users/danaawamleh/Desktop/leaves/Pomegranate (P9)/healthy/0009_0038.JPG'), PosixPath('/Users/danaawamleh/Desktop/leaves/Pomegranate (P9)/healthy/0009_0010.JPG'), PosixPath('/Users/danaawamleh/Desktop/leaves/Pomegranate (P9)/healthy/0009_0004.JPG'), PosixPath('/Users/danaawamleh/Desktop/leaves/Pomegranate (P9)/healthy/0009_0212.JPG'), PosixPath('/Users/danaawamleh/Desktop/leaves/Pomegranate (P9)/healthy/0009_0206.JPG'), PosixPath('/Users/danaawamleh/Desktop/leaves/Pomegranate (P9)/healthy/0009_0158.JPG'), PosixPath('/Users/danaawamleh/Desktop/leaves/Pomegranate (P9)/healthy/0009_0164.JPG'), PosixPath('/Users/danaawamleh/Desktop/leaves/Pomegranate (P9)/healthy/0009_0170.JPG'), PosixPath('/Users/danaawamleh/Desktop/leaves/Pomegranate (P9)/healthy/0009_0166.JPG'), PosixPath('/Users/danaawamleh/Desktop/leaves/Pomegranate (P9)/healthy/0009_0172.JPG'), PosixPath('/Users/danaawamleh/Desktop/leaves/Pomegranate (P9)/healthy/0009_0199.JPG'), PosixPath('/Users/danaawamleh/Desktop/leaves/Pomegranate (P9)/healthy/0009_0210.JPG'), PosixPath('/Users/danaawamleh/Desktop/leaves/Pomegranate (P9)/healthy/0009_0204.JPG'), PosixPath('/Users/danaawamleh/Desktop/leaves/Pomegranate (P9)/healthy/0009_0238.JPG'), PosixPath('/Users/danaawamleh/Desktop/leaves/Pomegranate (P9)/healthy/0009_0012.JPG'), PosixPath('/Users/danaawamleh/Desktop/leaves/Pomegranate (P9)/healthy/0009_0006.JPG'), PosixPath('/Users/danaawamleh/Desktop/leaves/Pomegranate (P9)/healthy/0009_0007.JPG'), PosixPath('/Users/danaawamleh/Desktop/leaves/Pomegranate (P9)/healthy/0009_0013.JPG'), PosixPath('/Users/danaawamleh/Desktop/leaves/Pomegranate (P9)/healthy/0009_0239.JPG'), PosixPath('/Users/danaawamleh/Desktop/leaves/Pomegranate (P9)/healthy/0009_0205.JPG'), PosixPath('/Users/danaawamleh/Desktop/leaves/Pomegranate (P9)/healthy/0009_0211.JPG'), PosixPath('/Users/danaawamleh/Desktop/leaves/Pomegranate (P9)/healthy/0009_0198.JPG'), PosixPath('/Users/danaawamleh/Desktop/leaves/Pomegranate (P9)/healthy/0009_0173.JPG'), PosixPath('/Users/danaawamleh/Desktop/leaves/Pomegranate (P9)/healthy/0009_0167.JPG'), PosixPath('/Users/danaawamleh/Desktop/leaves/Pomegranate (P9)/healthy/0009_0163.JPG'), PosixPath('/Users/danaawamleh/Desktop/leaves/Pomegranate (P9)/healthy/0009_0177.JPG'), PosixPath('/Users/danaawamleh/Desktop/leaves/Pomegranate (P9)/healthy/0009_0188.JPG'), PosixPath('/Users/danaawamleh/Desktop/leaves/Pomegranate (P9)/healthy/0009_0229.JPG'), PosixPath('/Users/danaawamleh/Desktop/leaves/Pomegranate (P9)/healthy/0009_0215.JPG'), PosixPath('/Users/danaawamleh/Desktop/leaves/Pomegranate (P9)/healthy/0009_0201.JPG'), PosixPath('/Users/danaawamleh/Desktop/leaves/Pomegranate (P9)/healthy/0009_0017.JPG'), PosixPath('/Users/danaawamleh/Desktop/leaves/Pomegranate (P9)/healthy/0009_0003.JPG'), PosixPath('/Users/danaawamleh/Desktop/leaves/Pomegranate (P9)/healthy/0009_0002.JPG'), PosixPath('/Users/danaawamleh/Desktop/leaves/Pomegranate (P9)/healthy/0009_0016.JPG'), PosixPath('/Users/danaawamleh/Desktop/leaves/Pomegranate (P9)/healthy/0009_0200.JPG'), PosixPath('/Users/danaawamleh/Desktop/leaves/Pomegranate (P9)/healthy/0009_0214.JPG'), PosixPath('/Users/danaawamleh/Desktop/leaves/Pomegranate (P9)/healthy/0009_0228.JPG'), PosixPath('/Users/danaawamleh/Desktop/leaves/Pomegranate (P9)/healthy/0009_0189.JPG'), PosixPath('/Users/danaawamleh/Desktop/leaves/Pomegranate (P9)/healthy/0009_0176.JPG'), PosixPath('/Users/danaawamleh/Desktop/leaves/Pomegranate (P9)/healthy/0009_0162.JPG'), PosixPath('/Users/danaawamleh/Desktop/leaves/Pomegranate (P9)/healthy/0009_0148.JPG'), PosixPath('/Users/danaawamleh/Desktop/leaves/Pomegranate (P9)/healthy/0009_0174.JPG'), PosixPath('/Users/danaawamleh/Desktop/leaves/Pomegranate (P9)/healthy/0009_0160.JPG'), PosixPath('/Users/danaawamleh/Desktop/leaves/Pomegranate (P9)/healthy/0009_0202.JPG'), PosixPath('/Users/danaawamleh/Desktop/leaves/Pomegranate (P9)/healthy/0009_0216.JPG'), PosixPath('/Users/danaawamleh/Desktop/leaves/Pomegranate (P9)/healthy/0009_0028.JPG'), PosixPath('/Users/danaawamleh/Desktop/leaves/Pomegranate (P9)/healthy/0009_0014.JPG'), PosixPath('/Users/danaawamleh/Desktop/leaves/Pomegranate (P9)/healthy/0009_0015.JPG'), PosixPath('/Users/danaawamleh/Desktop/leaves/Pomegranate (P9)/healthy/0009_0001.JPG'), PosixPath('/Users/danaawamleh/Desktop/leaves/Pomegranate (P9)/healthy/0009_0029.JPG'), PosixPath('/Users/danaawamleh/Desktop/leaves/Pomegranate (P9)/healthy/0009_0217.JPG'), PosixPath('/Users/danaawamleh/Desktop/leaves/Pomegranate (P9)/healthy/0009_0203.JPG'), PosixPath('/Users/danaawamleh/Desktop/leaves/Pomegranate (P9)/healthy/0009_0161.JPG'), PosixPath('/Users/danaawamleh/Desktop/leaves/Pomegranate (P9)/healthy/0009_0175.JPG'), PosixPath('/Users/danaawamleh/Desktop/leaves/Pomegranate (P9)/healthy/0009_0149.JPG'), PosixPath('/Users/danaawamleh/Desktop/leaves/Pomegranate (P9)/healthy/0009_0150.JPG'), PosixPath('/Users/danaawamleh/Desktop/leaves/Pomegranate (P9)/healthy/0009_0144.JPG'), PosixPath('/Users/danaawamleh/Desktop/leaves/Pomegranate (P9)/healthy/0009_0178.JPG'), PosixPath('/Users/danaawamleh/Desktop/leaves/Pomegranate (P9)/healthy/0009_0193.JPG'), PosixPath('/Users/danaawamleh/Desktop/leaves/Pomegranate (P9)/healthy/0009_0187.JPG'), PosixPath('/Users/danaawamleh/Desktop/leaves/Pomegranate (P9)/healthy/0009_0226.JPG'), PosixPath('/Users/danaawamleh/Desktop/leaves/Pomegranate (P9)/healthy/0009_0232.JPG'), PosixPath('/Users/danaawamleh/Desktop/leaves/Pomegranate (P9)/healthy/0009_0024.JPG'), PosixPath('/Users/danaawamleh/Desktop/leaves/Pomegranate (P9)/healthy/0009_0030.JPG'), PosixPath('/Users/danaawamleh/Desktop/leaves/Pomegranate (P9)/healthy/0009_0018.JPG'), PosixPath('/Users/danaawamleh/Desktop/leaves/Pomegranate (P9)/healthy/0009_0019.JPG'), PosixPath('/Users/danaawamleh/Desktop/leaves/Pomegranate (P9)/healthy/0009_0031.JPG'), PosixPath('/Users/danaawamleh/Desktop/leaves/Pomegranate (P9)/healthy/0009_0025.JPG'), PosixPath('/Users/danaawamleh/Desktop/leaves/Pomegranate (P9)/healthy/0009_0233.JPG'), PosixPath('/Users/danaawamleh/Desktop/leaves/Pomegranate (P9)/healthy/0009_0227.JPG'), PosixPath('/Users/danaawamleh/Desktop/leaves/Pomegranate (P9)/healthy/0009_0186.JPG'), PosixPath('/Users/danaawamleh/Desktop/leaves/Pomegranate (P9)/healthy/0009_0192.JPG'), PosixPath('/Users/danaawamleh/Desktop/leaves/Pomegranate (P9)/healthy/0009_0179.JPG'), PosixPath('/Users/danaawamleh/Desktop/leaves/Pomegranate (P9)/healthy/0009_0145.JPG'), PosixPath('/Users/danaawamleh/Desktop/leaves/Pomegranate (P9)/healthy/0009_0151.JPG'), PosixPath('/Users/danaawamleh/Desktop/leaves/Pomegranate (P9)/healthy/0009_0147.JPG'), PosixPath('/Users/danaawamleh/Desktop/leaves/Pomegranate (P9)/healthy/0009_0153.JPG'), PosixPath('/Users/danaawamleh/Desktop/leaves/Pomegranate (P9)/healthy/0009_0184.JPG'), PosixPath('/Users/danaawamleh/Desktop/leaves/Pomegranate (P9)/healthy/0009_0190.JPG'), PosixPath('/Users/danaawamleh/Desktop/leaves/Pomegranate (P9)/healthy/0009_0231.JPG'), PosixPath('/Users/danaawamleh/Desktop/leaves/Pomegranate (P9)/healthy/0009_0225.JPG'), PosixPath('/Users/danaawamleh/Desktop/leaves/Pomegranate (P9)/healthy/0009_0219.JPG'), PosixPath('/Users/danaawamleh/Desktop/leaves/Pomegranate (P9)/healthy/0009_0033.JPG'), PosixPath('/Users/danaawamleh/Desktop/leaves/Pomegranate (P9)/healthy/0009_0027.JPG'), PosixPath('/Users/danaawamleh/Desktop/leaves/Pomegranate (P9)/healthy/0009_0026.JPG'), PosixPath('/Users/danaawamleh/Desktop/leaves/Pomegranate (P9)/healthy/0009_0032.JPG'), PosixPath('/Users/danaawamleh/Desktop/leaves/Pomegranate (P9)/healthy/0009_0218.JPG'), PosixPath('/Users/danaawamleh/Desktop/leaves/Pomegranate (P9)/healthy/0009_0224.JPG'), PosixPath('/Users/danaawamleh/Desktop/leaves/Pomegranate (P9)/healthy/0009_0230.JPG'), PosixPath('/Users/danaawamleh/Desktop/leaves/Pomegranate (P9)/healthy/0009_0191.JPG'), PosixPath('/Users/danaawamleh/Desktop/leaves/Pomegranate (P9)/healthy/0009_0185.JPG'), PosixPath('/Users/danaawamleh/Desktop/leaves/Pomegranate (P9)/healthy/0009_0152.JPG'), PosixPath('/Users/danaawamleh/Desktop/leaves/Pomegranate (P9)/healthy/0009_0146.JPG'), PosixPath('/Users/danaawamleh/Desktop/leaves/Pomegranate (P9)/healthy/0009_0142.JPG'), PosixPath('/Users/danaawamleh/Desktop/leaves/Pomegranate (P9)/healthy/0009_0156.JPG'), PosixPath('/Users/danaawamleh/Desktop/leaves/Pomegranate (P9)/healthy/0009_0181.JPG'), PosixPath('/Users/danaawamleh/Desktop/leaves/Pomegranate (P9)/healthy/0009_0195.JPG'), PosixPath('/Users/danaawamleh/Desktop/leaves/Pomegranate (P9)/healthy/0009_0208.JPG'), PosixPath('/Users/danaawamleh/Desktop/leaves/Pomegranate (P9)/healthy/0009_0234.JPG'), PosixPath('/Users/danaawamleh/Desktop/leaves/Pomegranate (P9)/healthy/0009_0220.JPG'), PosixPath('/Users/danaawamleh/Desktop/leaves/Pomegranate (P9)/healthy/0009_0036.JPG'), PosixPath('/Users/danaawamleh/Desktop/leaves/Pomegranate (P9)/healthy/0009_0022.JPG'), PosixPath('/Users/danaawamleh/Desktop/leaves/Pomegranate (P9)/healthy/0009_0023.JPG'), PosixPath('/Users/danaawamleh/Desktop/leaves/Pomegranate (P9)/healthy/0009_0037.JPG'), PosixPath('/Users/danaawamleh/Desktop/leaves/Pomegranate (P9)/healthy/0009_0221.JPG'), PosixPath('/Users/danaawamleh/Desktop/leaves/Pomegranate (P9)/healthy/0009_0235.JPG'), PosixPath('/Users/danaawamleh/Desktop/leaves/Pomegranate (P9)/healthy/0009_0209.JPG'), PosixPath('/Users/danaawamleh/Desktop/leaves/Pomegranate (P9)/healthy/0009_0194.JPG'), PosixPath('/Users/danaawamleh/Desktop/leaves/Pomegranate (P9)/healthy/0009_0180.JPG'), PosixPath('/Users/danaawamleh/Desktop/leaves/Pomegranate (P9)/healthy/0009_0157.JPG'), PosixPath('/Users/danaawamleh/Desktop/leaves/Pomegranate (P9)/healthy/0009_0143.JPG'), PosixPath('/Users/danaawamleh/Desktop/leaves/Pomegranate (P9)/healthy/0009_0169.JPG'), PosixPath('/Users/danaawamleh/Desktop/leaves/Pomegranate (P9)/healthy/0009_0155.JPG'), PosixPath('/Users/danaawamleh/Desktop/leaves/Pomegranate (P9)/healthy/0009_0141.JPG'), PosixPath('/Users/danaawamleh/Desktop/leaves/Pomegranate (P9)/healthy/0009_0196.JPG'), PosixPath('/Users/danaawamleh/Desktop/leaves/Pomegranate (P9)/healthy/0009_0182.JPG'), PosixPath('/Users/danaawamleh/Desktop/leaves/Pomegranate (P9)/healthy/0009_0223.JPG'), PosixPath('/Users/danaawamleh/Desktop/leaves/Pomegranate (P9)/healthy/0009_0237.JPG'), PosixPath('/Users/danaawamleh/Desktop/leaves/Pomegranate (P9)/healthy/0009_0009.JPG'), PosixPath('/Users/danaawamleh/Desktop/leaves/Pomegranate (P9)/healthy/0009_0021.JPG'), PosixPath('/Users/danaawamleh/Desktop/leaves/Pomegranate (P9)/healthy/0009_0035.JPG'), PosixPath('/Users/danaawamleh/Desktop/leaves/Pomegranate (P9)/healthy/0009_0034.JPG'), PosixPath('/Users/danaawamleh/Desktop/leaves/Pomegranate (P9)/healthy/0009_0020.JPG'), PosixPath('/Users/danaawamleh/Desktop/leaves/Pomegranate (P9)/healthy/0009_0008.JPG'), PosixPath('/Users/danaawamleh/Desktop/leaves/Pomegranate (P9)/healthy/0009_0236.JPG'), PosixPath('/Users/danaawamleh/Desktop/leaves/Pomegranate (P9)/healthy/0009_0222.JPG'), PosixPath('/Users/danaawamleh/Desktop/leaves/Pomegranate (P9)/healthy/0009_0183.JPG'), PosixPath('/Users/danaawamleh/Desktop/leaves/Pomegranate (P9)/healthy/0009_0197.JPG'), PosixPath('/Users/danaawamleh/Desktop/leaves/Pomegranate (P9)/healthy/0009_0140.JPG'), PosixPath('/Users/danaawamleh/Desktop/leaves/Pomegranate (P9)/healthy/0009_0154.JPG'), PosixPath('/Users/danaawamleh/Desktop/leaves/Pomegranate (P9)/healthy/0009_0168.JPG'), PosixPath('/Users/danaawamleh/Desktop/leaves/Pomegranate (P9)/healthy/0009_0133.JPG'), PosixPath('/Users/danaawamleh/Desktop/leaves/Pomegranate (P9)/healthy/0009_0127.JPG'), PosixPath('/Users/danaawamleh/Desktop/leaves/Pomegranate (P9)/healthy/0009_0245.JPG'), PosixPath('/Users/danaawamleh/Desktop/leaves/Pomegranate (P9)/healthy/0009_0251.JPG'), PosixPath('/Users/danaawamleh/Desktop/leaves/Pomegranate (P9)/healthy/0009_0279.JPG'), PosixPath('/Users/danaawamleh/Desktop/leaves/Pomegranate (P9)/healthy/0009_0286.JPG'), PosixPath('/Users/danaawamleh/Desktop/leaves/Pomegranate (P9)/healthy/0009_0047.JPG'), PosixPath('/Users/danaawamleh/Desktop/leaves/Pomegranate (P9)/healthy/0009_0053.JPG'), PosixPath('/Users/danaawamleh/Desktop/leaves/Pomegranate (P9)/healthy/0009_0084.JPG'), PosixPath('/Users/danaawamleh/Desktop/leaves/Pomegranate (P9)/healthy/0009_0090.JPG'), PosixPath('/Users/danaawamleh/Desktop/leaves/Pomegranate (P9)/healthy/0009_0091.JPG'), PosixPath('/Users/danaawamleh/Desktop/leaves/Pomegranate (P9)/healthy/0009_0085.JPG'), PosixPath('/Users/danaawamleh/Desktop/leaves/Pomegranate (P9)/healthy/0009_0052.JPG'), PosixPath('/Users/danaawamleh/Desktop/leaves/Pomegranate (P9)/healthy/0009_0046.JPG'), PosixPath('/Users/danaawamleh/Desktop/leaves/Pomegranate (P9)/healthy/0009_0287.JPG'), PosixPath('/Users/danaawamleh/Desktop/leaves/Pomegranate (P9)/healthy/0009_0278.JPG'), PosixPath('/Users/danaawamleh/Desktop/leaves/Pomegranate (P9)/healthy/0009_0250.JPG'), PosixPath('/Users/danaawamleh/Desktop/leaves/Pomegranate (P9)/healthy/0009_0244.JPG'), PosixPath('/Users/danaawamleh/Desktop/leaves/Pomegranate (P9)/healthy/0009_0126.JPG'), PosixPath('/Users/danaawamleh/Desktop/leaves/Pomegranate (P9)/healthy/0009_0132.JPG'), PosixPath('/Users/danaawamleh/Desktop/leaves/Pomegranate (P9)/healthy/0009_0124.JPG'), PosixPath('/Users/danaawamleh/Desktop/leaves/Pomegranate (P9)/healthy/0009_0130.JPG'), PosixPath('/Users/danaawamleh/Desktop/leaves/Pomegranate (P9)/healthy/0009_0118.JPG'), PosixPath('/Users/danaawamleh/Desktop/leaves/Pomegranate (P9)/healthy/0009_0252.JPG'), PosixPath('/Users/danaawamleh/Desktop/leaves/Pomegranate (P9)/healthy/0009_0246.JPG'), PosixPath('/Users/danaawamleh/Desktop/leaves/Pomegranate (P9)/healthy/0009_0285.JPG'), PosixPath('/Users/danaawamleh/Desktop/leaves/Pomegranate (P9)/healthy/0009_0050.JPG'), PosixPath('/Users/danaawamleh/Desktop/leaves/Pomegranate (P9)/healthy/0009_0044.JPG'), PosixPath('/Users/danaawamleh/Desktop/leaves/Pomegranate (P9)/healthy/0009_0078.JPG'), PosixPath('/Users/danaawamleh/Desktop/leaves/Pomegranate (P9)/healthy/0009_0093.JPG'), PosixPath('/Users/danaawamleh/Desktop/leaves/Pomegranate (P9)/healthy/0009_0087.JPG'), PosixPath('/Users/danaawamleh/Desktop/leaves/Pomegranate (P9)/healthy/0009_0086.JPG'), PosixPath('/Users/danaawamleh/Desktop/leaves/Pomegranate (P9)/healthy/0009_0092.JPG'), PosixPath('/Users/danaawamleh/Desktop/leaves/Pomegranate (P9)/healthy/0009_0079.JPG'), PosixPath('/Users/danaawamleh/Desktop/leaves/Pomegranate (P9)/healthy/0009_0045.JPG'), PosixPath('/Users/danaawamleh/Desktop/leaves/Pomegranate (P9)/healthy/0009_0051.JPG'), PosixPath('/Users/danaawamleh/Desktop/leaves/Pomegranate (P9)/healthy/0009_0284.JPG'), PosixPath('/Users/danaawamleh/Desktop/leaves/Pomegranate (P9)/healthy/0009_0247.JPG'), PosixPath('/Users/danaawamleh/Desktop/leaves/Pomegranate (P9)/healthy/0009_0253.JPG'), PosixPath('/Users/danaawamleh/Desktop/leaves/Pomegranate (P9)/healthy/0009_0119.JPG'), PosixPath('/Users/danaawamleh/Desktop/leaves/Pomegranate (P9)/healthy/0009_0131.JPG'), PosixPath('/Users/danaawamleh/Desktop/leaves/Pomegranate (P9)/healthy/0009_0125.JPG'), PosixPath('/Users/danaawamleh/Desktop/leaves/Pomegranate (P9)/healthy/0009_0109.JPG'), PosixPath('/Users/danaawamleh/Desktop/leaves/Pomegranate (P9)/healthy/0009_0121.JPG'), PosixPath('/Users/danaawamleh/Desktop/leaves/Pomegranate (P9)/healthy/0009_0135.JPG'), PosixPath('/Users/danaawamleh/Desktop/leaves/Pomegranate (P9)/healthy/0009_0257.JPG'), PosixPath('/Users/danaawamleh/Desktop/leaves/Pomegranate (P9)/healthy/0009_0243.JPG'), PosixPath('/Users/danaawamleh/Desktop/leaves/Pomegranate (P9)/healthy/0009_0280.JPG'), PosixPath('/Users/danaawamleh/Desktop/leaves/Pomegranate (P9)/healthy/0009_0069.JPG'), PosixPath('/Users/danaawamleh/Desktop/leaves/Pomegranate (P9)/healthy/0009_0055.JPG'), PosixPath('/Users/danaawamleh/Desktop/leaves/Pomegranate (P9)/healthy/0009_0041.JPG'), PosixPath('/Users/danaawamleh/Desktop/leaves/Pomegranate (P9)/healthy/0009_0096.JPG'), PosixPath('/Users/danaawamleh/Desktop/leaves/Pomegranate (P9)/healthy/0009_0082.JPG'), PosixPath('/Users/danaawamleh/Desktop/leaves/Pomegranate (P9)/healthy/0009_0083.JPG'), PosixPath('/Users/danaawamleh/Desktop/leaves/Pomegranate (P9)/healthy/0009_0097.JPG'), PosixPath('/Users/danaawamleh/Desktop/leaves/Pomegranate (P9)/healthy/0009_0040.JPG'), PosixPath('/Users/danaawamleh/Desktop/leaves/Pomegranate (P9)/healthy/0009_0054.JPG'), PosixPath('/Users/danaawamleh/Desktop/leaves/Pomegranate (P9)/healthy/0009_0068.JPG'), PosixPath('/Users/danaawamleh/Desktop/leaves/Pomegranate (P9)/healthy/0009_0281.JPG'), PosixPath('/Users/danaawamleh/Desktop/leaves/Pomegranate (P9)/healthy/0009_0242.JPG'), PosixPath('/Users/danaawamleh/Desktop/leaves/Pomegranate (P9)/healthy/0009_0256.JPG'), PosixPath('/Users/danaawamleh/Desktop/leaves/Pomegranate (P9)/healthy/0009_0134.JPG'), PosixPath('/Users/danaawamleh/Desktop/leaves/Pomegranate (P9)/healthy/0009_0120.JPG'), PosixPath('/Users/danaawamleh/Desktop/leaves/Pomegranate (P9)/healthy/0009_0108.JPG'), PosixPath('/Users/danaawamleh/Desktop/leaves/Pomegranate (P9)/healthy/0009_0136.JPG'), PosixPath('/Users/danaawamleh/Desktop/leaves/Pomegranate (P9)/healthy/0009_0122.JPG'), PosixPath('/Users/danaawamleh/Desktop/leaves/Pomegranate (P9)/healthy/0009_0268.JPG'), PosixPath('/Users/danaawamleh/Desktop/leaves/Pomegranate (P9)/healthy/0009_0240.JPG'), PosixPath('/Users/danaawamleh/Desktop/leaves/Pomegranate (P9)/healthy/0009_0254.JPG'), PosixPath('/Users/danaawamleh/Desktop/leaves/Pomegranate (P9)/healthy/0009_0283.JPG'), PosixPath('/Users/danaawamleh/Desktop/leaves/Pomegranate (P9)/healthy/0009_0042.JPG'), PosixPath('/Users/danaawamleh/Desktop/leaves/Pomegranate (P9)/healthy/0009_0056.JPG'), PosixPath('/Users/danaawamleh/Desktop/leaves/Pomegranate (P9)/healthy/0009_0081.JPG'), PosixPath('/Users/danaawamleh/Desktop/leaves/Pomegranate (P9)/healthy/0009_0095.JPG'), PosixPath('/Users/danaawamleh/Desktop/leaves/Pomegranate (P9)/healthy/0009_0094.JPG'), PosixPath('/Users/danaawamleh/Desktop/leaves/Pomegranate (P9)/healthy/0009_0080.JPG'), PosixPath('/Users/danaawamleh/Desktop/leaves/Pomegranate (P9)/healthy/0009_0057.JPG'), PosixPath('/Users/danaawamleh/Desktop/leaves/Pomegranate (P9)/healthy/0009_0043.JPG'), PosixPath('/Users/danaawamleh/Desktop/leaves/Pomegranate (P9)/healthy/0009_0282.JPG'), PosixPath('/Users/danaawamleh/Desktop/leaves/Pomegranate (P9)/healthy/0009_0255.JPG'), PosixPath('/Users/danaawamleh/Desktop/leaves/Pomegranate (P9)/healthy/0009_0241.JPG'), PosixPath('/Users/danaawamleh/Desktop/leaves/Pomegranate (P9)/healthy/0009_0269.JPG'), PosixPath('/Users/danaawamleh/Desktop/leaves/Pomegranate (P9)/healthy/0009_0123.JPG'), PosixPath('/Users/danaawamleh/Desktop/leaves/Pomegranate (P9)/healthy/0009_0137.JPG'), PosixPath('/Users/danaawamleh/Desktop/leaves/Jatropha (P6)/healthy/0006_0053.JPG'), PosixPath('/Users/danaawamleh/Desktop/leaves/Jatropha (P6)/healthy/0006_0047.JPG'), PosixPath('/Users/danaawamleh/Desktop/leaves/Jatropha (P6)/healthy/0006_0090.JPG'), PosixPath('/Users/danaawamleh/Desktop/leaves/Jatropha (P6)/healthy/0006_0084.JPG'), PosixPath('/Users/danaawamleh/Desktop/leaves/Jatropha (P6)/healthy/0006_0127.JPG'), PosixPath('/Users/danaawamleh/Desktop/leaves/Jatropha (P6)/healthy/0006_0133.JPG'), PosixPath('/Users/danaawamleh/Desktop/leaves/Jatropha (P6)/healthy/0006_0132.JPG'), PosixPath('/Users/danaawamleh/Desktop/leaves/Jatropha (P6)/healthy/0006_0126.JPG'), PosixPath('/Users/danaawamleh/Desktop/leaves/Jatropha (P6)/healthy/0006_0085.JPG'), PosixPath('/Users/danaawamleh/Desktop/leaves/Jatropha (P6)/healthy/0006_0091.JPG'), PosixPath('/Users/danaawamleh/Desktop/leaves/Jatropha (P6)/healthy/0006_0046.JPG'), PosixPath('/Users/danaawamleh/Desktop/leaves/Jatropha (P6)/healthy/0006_0052.JPG'), PosixPath('/Users/danaawamleh/Desktop/leaves/Jatropha (P6)/healthy/0006_0044.JPG'), PosixPath('/Users/danaawamleh/Desktop/leaves/Jatropha (P6)/healthy/0006_0050.JPG'), PosixPath('/Users/danaawamleh/Desktop/leaves/Jatropha (P6)/healthy/0006_0078.JPG'), PosixPath('/Users/danaawamleh/Desktop/leaves/Jatropha (P6)/healthy/0006_0087.JPG'), PosixPath('/Users/danaawamleh/Desktop/leaves/Jatropha (P6)/healthy/0006_0093.JPG'), PosixPath('/Users/danaawamleh/Desktop/leaves/Jatropha (P6)/healthy/0006_0130.JPG'), PosixPath('/Users/danaawamleh/Desktop/leaves/Jatropha (P6)/healthy/0006_0124.JPG'), PosixPath('/Users/danaawamleh/Desktop/leaves/Jatropha (P6)/healthy/0006_0118.JPG'), PosixPath('/Users/danaawamleh/Desktop/leaves/Jatropha (P6)/healthy/0006_0119.JPG'), PosixPath('/Users/danaawamleh/Desktop/leaves/Jatropha (P6)/healthy/0006_0125.JPG'), PosixPath('/Users/danaawamleh/Desktop/leaves/Jatropha (P6)/healthy/0006_0131.JPG'), PosixPath('/Users/danaawamleh/Desktop/leaves/Jatropha (P6)/healthy/0006_0092.JPG'), PosixPath('/Users/danaawamleh/Desktop/leaves/Jatropha (P6)/healthy/0006_0086.JPG'), PosixPath('/Users/danaawamleh/Desktop/leaves/Jatropha (P6)/healthy/0006_0079.JPG'), PosixPath('/Users/danaawamleh/Desktop/leaves/Jatropha (P6)/healthy/0006_0051.JPG'), PosixPath('/Users/danaawamleh/Desktop/leaves/Jatropha (P6)/healthy/0006_0045.JPG'), PosixPath('/Users/danaawamleh/Desktop/leaves/Jatropha (P6)/healthy/0006_0069.JPG'), PosixPath('/Users/danaawamleh/Desktop/leaves/Jatropha (P6)/healthy/0006_0041.JPG'), PosixPath('/Users/danaawamleh/Desktop/leaves/Jatropha (P6)/healthy/0006_0055.JPG'), PosixPath('/Users/danaawamleh/Desktop/leaves/Jatropha (P6)/healthy/0006_0082.JPG'), PosixPath('/Users/danaawamleh/Desktop/leaves/Jatropha (P6)/healthy/0006_0096.JPG'), PosixPath('/Users/danaawamleh/Desktop/leaves/Jatropha (P6)/healthy/0006_0109.JPG'), PosixPath('/Users/danaawamleh/Desktop/leaves/Jatropha (P6)/healthy/0006_0121.JPG'), PosixPath('/Users/danaawamleh/Desktop/leaves/Jatropha (P6)/healthy/0006_0120.JPG'), PosixPath('/Users/danaawamleh/Desktop/leaves/Jatropha (P6)/healthy/0006_0108.JPG'), PosixPath('/Users/danaawamleh/Desktop/leaves/Jatropha (P6)/healthy/0006_0097.JPG'), PosixPath('/Users/danaawamleh/Desktop/leaves/Jatropha (P6)/healthy/0006_0083.JPG'), PosixPath('/Users/danaawamleh/Desktop/leaves/Jatropha (P6)/healthy/0006_0054.JPG'), PosixPath('/Users/danaawamleh/Desktop/leaves/Jatropha (P6)/healthy/0006_0040.JPG'), PosixPath('/Users/danaawamleh/Desktop/leaves/Jatropha (P6)/healthy/0006_0068.JPG'), PosixPath('/Users/danaawamleh/Desktop/leaves/Jatropha (P6)/healthy/0006_0056.JPG'), PosixPath('/Users/danaawamleh/Desktop/leaves/Jatropha (P6)/healthy/0006_0042.JPG'), PosixPath('/Users/danaawamleh/Desktop/leaves/Jatropha (P6)/healthy/0006_0095.JPG'), PosixPath('/Users/danaawamleh/Desktop/leaves/Jatropha (P6)/healthy/0006_0081.JPG'), PosixPath('/Users/danaawamleh/Desktop/leaves/Jatropha (P6)/healthy/0006_0122.JPG'), PosixPath('/Users/danaawamleh/Desktop/leaves/Jatropha (P6)/healthy/0006_0123.JPG'), PosixPath('/Users/danaawamleh/Desktop/leaves/Jatropha (P6)/healthy/0006_0080.JPG'), PosixPath('/Users/danaawamleh/Desktop/leaves/Jatropha (P6)/healthy/0006_0094.JPG'), PosixPath('/Users/danaawamleh/Desktop/leaves/Jatropha (P6)/healthy/0006_0043.JPG'), PosixPath('/Users/danaawamleh/Desktop/leaves/Jatropha (P6)/healthy/0006_0057.JPG'), PosixPath('/Users/danaawamleh/Desktop/leaves/Jatropha (P6)/healthy/0006_0030.JPG'), PosixPath('/Users/danaawamleh/Desktop/leaves/Jatropha (P6)/healthy/0006_0024.JPG'), PosixPath('/Users/danaawamleh/Desktop/leaves/Jatropha (P6)/healthy/0006_0018.JPG'), PosixPath('/Users/danaawamleh/Desktop/leaves/Jatropha (P6)/healthy/0006_0019.JPG'), PosixPath('/Users/danaawamleh/Desktop/leaves/Jatropha (P6)/healthy/0006_0025.JPG'), PosixPath('/Users/danaawamleh/Desktop/leaves/Jatropha (P6)/healthy/0006_0031.JPG'), PosixPath('/Users/danaawamleh/Desktop/leaves/Jatropha (P6)/healthy/0006_0027.JPG'), PosixPath('/Users/danaawamleh/Desktop/leaves/Jatropha (P6)/healthy/0006_0033.JPG'), PosixPath('/Users/danaawamleh/Desktop/leaves/Jatropha (P6)/healthy/0006_0032.JPG'), PosixPath('/Users/danaawamleh/Desktop/leaves/Jatropha (P6)/healthy/0006_0026.JPG'), PosixPath('/Users/danaawamleh/Desktop/leaves/Jatropha (P6)/healthy/0006_0022.JPG'), PosixPath('/Users/danaawamleh/Desktop/leaves/Jatropha (P6)/healthy/0006_0036.JPG'), PosixPath('/Users/danaawamleh/Desktop/leaves/Jatropha (P6)/healthy/0006_0037.JPG'), PosixPath('/Users/danaawamleh/Desktop/leaves/Jatropha (P6)/healthy/0006_0023.JPG'), PosixPath('/Users/danaawamleh/Desktop/leaves/Jatropha (P6)/healthy/0006_0009.JPG'), PosixPath('/Users/danaawamleh/Desktop/leaves/Jatropha (P6)/healthy/0006_0035.JPG'), PosixPath('/Users/danaawamleh/Desktop/leaves/Jatropha (P6)/healthy/0006_0021.JPG'), PosixPath('/Users/danaawamleh/Desktop/leaves/Jatropha (P6)/healthy/0006_0020.JPG'), PosixPath('/Users/danaawamleh/Desktop/leaves/Jatropha (P6)/healthy/0006_0034.JPG'), PosixPath('/Users/danaawamleh/Desktop/leaves/Jatropha (P6)/healthy/0006_0008.JPG'), PosixPath('/Users/danaawamleh/Desktop/leaves/Jatropha (P6)/healthy/0006_0011.JPG'), PosixPath('/Users/danaawamleh/Desktop/leaves/Jatropha (P6)/healthy/0006_0005.JPG'), PosixPath('/Users/danaawamleh/Desktop/leaves/Jatropha (P6)/healthy/0006_0039.JPG'), PosixPath('/Users/danaawamleh/Desktop/leaves/Jatropha (P6)/healthy/0006_0038.JPG'), PosixPath('/Users/danaawamleh/Desktop/leaves/Jatropha (P6)/healthy/0006_0004.JPG'), PosixPath('/Users/danaawamleh/Desktop/leaves/Jatropha (P6)/healthy/0006_0010.JPG'), PosixPath('/Users/danaawamleh/Desktop/leaves/Jatropha (P6)/healthy/0006_0006.JPG'), PosixPath('/Users/danaawamleh/Desktop/leaves/Jatropha (P6)/healthy/0006_0012.JPG'), PosixPath('/Users/danaawamleh/Desktop/leaves/Jatropha (P6)/healthy/0006_0013.JPG'), PosixPath('/Users/danaawamleh/Desktop/leaves/Jatropha (P6)/healthy/0006_0007.JPG'), PosixPath('/Users/danaawamleh/Desktop/leaves/Jatropha (P6)/healthy/0006_0003.JPG'), PosixPath('/Users/danaawamleh/Desktop/leaves/Jatropha (P6)/healthy/0006_0017.JPG'), PosixPath('/Users/danaawamleh/Desktop/leaves/Jatropha (P6)/healthy/0006_0016.JPG'), PosixPath('/Users/danaawamleh/Desktop/leaves/Jatropha (P6)/healthy/0006_0002.JPG'), PosixPath('/Users/danaawamleh/Desktop/leaves/Jatropha (P6)/healthy/0006_0028.JPG'), PosixPath('/Users/danaawamleh/Desktop/leaves/Jatropha (P6)/healthy/0006_0014.JPG'), PosixPath('/Users/danaawamleh/Desktop/leaves/Jatropha (P6)/healthy/0006_0001.JPG'), PosixPath('/Users/danaawamleh/Desktop/leaves/Jatropha (P6)/healthy/0006_0015.JPG'), PosixPath('/Users/danaawamleh/Desktop/leaves/Jatropha (P6)/healthy/0006_0029.JPG'), PosixPath('/Users/danaawamleh/Desktop/leaves/Jatropha (P6)/healthy/0006_0072.JPG'), PosixPath('/Users/danaawamleh/Desktop/leaves/Jatropha (P6)/healthy/0006_0066.JPG'), PosixPath('/Users/danaawamleh/Desktop/leaves/Jatropha (P6)/healthy/0006_0099.JPG'), PosixPath('/Users/danaawamleh/Desktop/leaves/Jatropha (P6)/healthy/0006_0106.JPG'), PosixPath('/Users/danaawamleh/Desktop/leaves/Jatropha (P6)/healthy/0006_0112.JPG'), PosixPath('/Users/danaawamleh/Desktop/leaves/Jatropha (P6)/healthy/0006_0113.JPG'), PosixPath('/Users/danaawamleh/Desktop/leaves/Jatropha (P6)/healthy/0006_0107.JPG'), PosixPath('/Users/danaawamleh/Desktop/leaves/Jatropha (P6)/healthy/0006_0098.JPG'), PosixPath('/Users/danaawamleh/Desktop/leaves/Jatropha (P6)/healthy/0006_0067.JPG'), PosixPath('/Users/danaawamleh/Desktop/leaves/Jatropha (P6)/healthy/0006_0073.JPG'), PosixPath('/Users/danaawamleh/Desktop/leaves/Jatropha (P6)/healthy/0006_0065.JPG'), PosixPath('/Users/danaawamleh/Desktop/leaves/Jatropha (P6)/healthy/0006_0071.JPG'), PosixPath('/Users/danaawamleh/Desktop/leaves/Jatropha (P6)/healthy/0006_0059.JPG'), PosixPath('/Users/danaawamleh/Desktop/leaves/Jatropha (P6)/healthy/0006_0111.JPG'), PosixPath('/Users/danaawamleh/Desktop/leaves/Jatropha (P6)/healthy/0006_0105.JPG'), PosixPath('/Users/danaawamleh/Desktop/leaves/Jatropha (P6)/healthy/0006_0104.JPG'), PosixPath('/Users/danaawamleh/Desktop/leaves/Jatropha (P6)/healthy/0006_0110.JPG'), PosixPath('/Users/danaawamleh/Desktop/leaves/Jatropha (P6)/healthy/0006_0058.JPG'), PosixPath('/Users/danaawamleh/Desktop/leaves/Jatropha (P6)/healthy/0006_0070.JPG'), PosixPath('/Users/danaawamleh/Desktop/leaves/Jatropha (P6)/healthy/0006_0064.JPG'), PosixPath('/Users/danaawamleh/Desktop/leaves/Jatropha (P6)/healthy/0006_0048.JPG'), PosixPath('/Users/danaawamleh/Desktop/leaves/Jatropha (P6)/healthy/0006_0060.JPG'), PosixPath('/Users/danaawamleh/Desktop/leaves/Jatropha (P6)/healthy/0006_0074.JPG'), PosixPath('/Users/danaawamleh/Desktop/leaves/Jatropha (P6)/healthy/0006_0128.JPG'), PosixPath('/Users/danaawamleh/Desktop/leaves/Jatropha (P6)/healthy/0006_0114.JPG'), PosixPath('/Users/danaawamleh/Desktop/leaves/Jatropha (P6)/healthy/0006_0100.JPG'), PosixPath('/Users/danaawamleh/Desktop/leaves/Jatropha (P6)/healthy/0006_0101.JPG'), PosixPath('/Users/danaawamleh/Desktop/leaves/Jatropha (P6)/healthy/0006_0115.JPG'), PosixPath('/Users/danaawamleh/Desktop/leaves/Jatropha (P6)/healthy/0006_0129.JPG'), PosixPath('/Users/danaawamleh/Desktop/leaves/Jatropha (P6)/healthy/0006_0075.JPG'), PosixPath('/Users/danaawamleh/Desktop/leaves/Jatropha (P6)/healthy/0006_0061.JPG'), PosixPath('/Users/danaawamleh/Desktop/leaves/Jatropha (P6)/healthy/0006_0049.JPG'), PosixPath('/Users/danaawamleh/Desktop/leaves/Jatropha (P6)/healthy/0006_0077.JPG'), PosixPath('/Users/danaawamleh/Desktop/leaves/Jatropha (P6)/healthy/0006_0063.JPG'), PosixPath('/Users/danaawamleh/Desktop/leaves/Jatropha (P6)/healthy/0006_0088.JPG'), PosixPath('/Users/danaawamleh/Desktop/leaves/Jatropha (P6)/healthy/0006_0103.JPG'), PosixPath('/Users/danaawamleh/Desktop/leaves/Jatropha (P6)/healthy/0006_0117.JPG'), PosixPath('/Users/danaawamleh/Desktop/leaves/Jatropha (P6)/healthy/0006_0116.JPG'), PosixPath('/Users/danaawamleh/Desktop/leaves/Jatropha (P6)/healthy/0006_0102.JPG'), PosixPath('/Users/danaawamleh/Desktop/leaves/Jatropha (P6)/healthy/0006_0089.JPG'), PosixPath('/Users/danaawamleh/Desktop/leaves/Jatropha (P6)/healthy/0006_0062.JPG'), PosixPath('/Users/danaawamleh/Desktop/leaves/Jatropha (P6)/healthy/0006_0076.JPG')]\n"
     ]
    }
   ],
   "source": [
    "print(list)"
   ]
  }
 ],
 "metadata": {
  "kernelspec": {
   "display_name": "Python 3 (ipykernel)",
   "language": "python",
   "name": "python3"
  },
  "language_info": {
   "codemirror_mode": {
    "name": "ipython",
    "version": 3
   },
   "file_extension": ".py",
   "mimetype": "text/x-python",
   "name": "python",
   "nbconvert_exporter": "python",
   "pygments_lexer": "ipython3",
   "version": "3.10.0"
  }
 },
 "nbformat": 4,
 "nbformat_minor": 5
}
